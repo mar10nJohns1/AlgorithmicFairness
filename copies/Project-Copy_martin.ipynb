{
 "cells": [
  {
   "cell_type": "code",
   "execution_count": 1,
   "metadata": {},
   "outputs": [],
   "source": [
    "from __future__ import print_function\n",
    "#%matplotlib inline\n",
    "import argparse\n",
    "import os\n",
    "import random\n",
    "import torch\n",
    "import torch.nn as nn\n",
    "import torch.nn.parallel\n",
    "import torch.backends.cudnn as cudnn\n",
    "import torch.optim as optim\n",
    "import torch.utils.data\n",
    "import torchvision.datasets as dset\n",
    "import torchvision.transforms as transforms\n",
    "import torchvision.utils as vutils\n",
    "import numpy as np\n",
    "import matplotlib.pyplot as plt\n",
    "import matplotlib.animation as animation\n",
    "from IPython.display import HTML\n",
    "import pandas as pd\n",
    "import glob\n",
    "import data_utils.data_utils_celeba_pytorch as data_utils\n",
    "from IPython.display import clear_output\n",
    "from skimage.io import imread\n",
    "from skimage.transform import resize\n",
    "from torch.utils.data import Dataset, DataLoader\n",
    "from torchvision import transforms, utils\n",
    "\n",
    "\n",
    "import numpy as np\n",
    "import pandas as pd\n",
    "import os"
   ]
  },
  {
   "cell_type": "code",
   "execution_count": 2,
   "metadata": {},
   "outputs": [],
   "source": [
    "# Root directory for dataset\n",
    "#dataroot = 'C:\\\\Users\\\\cfthe\\\\OneDrive\\\\DTU\\\\Kandidat\\\\Deep\\\\AlgorithmicFairness'\n",
    "\n",
    "# Number of workers for dataloader\n",
    "workers = 4\n",
    "\n",
    "# Batch size during training\n",
    "batch_size = 128\n",
    "\n",
    "# Spatial size of training images. All images will be resized to this\n",
    "#   size using a transformer.\n",
    "image_size = 64"
   ]
  },
  {
   "cell_type": "code",
   "execution_count": 3,
   "metadata": {
    "scrolled": true
   },
   "outputs": [],
   "source": [
    "attributes = pd.read_csv('Data/list_attr_celeba.txt', sep=\" \")\n",
    "attributes.drop('Unnamed: 41',axis=1, inplace=True)\n",
    "partition = pd.read_csv('Data/list_eval_partition.txt', sep=\" \", header=None, names=['im_id','partition'])\n",
    "matched = attributes.set_index('im_id').join(partition.set_index('im_id')).replace(-1,0)"
   ]
  },
  {
   "cell_type": "code",
   "execution_count": 4,
   "metadata": {},
   "outputs": [],
   "source": [
    "train = matched[matched['partition']==0]\n",
    "valid = matched[matched['partition']==1]\n",
    "test = matched[matched['partition']==2]\n",
    "train.to_csv('train.csv')\n",
    "valid.to_csv('valid.csv')\n",
    "test.to_csv('test.csv')"
   ]
  },
  {
   "cell_type": "code",
   "execution_count": 5,
   "metadata": {},
   "outputs": [
    {
     "data": {
      "text/plain": [
       "'/Users/MartinJohnsen/Documents/Martin Johnsen/MMC/3. Semester/Deep Learning/Projects/Algorithmic fairness/AlgorithmicFairness'"
      ]
     },
     "execution_count": 5,
     "metadata": {},
     "output_type": "execute_result"
    }
   ],
   "source": [
    "pwd"
   ]
  },
  {
   "cell_type": "code",
   "execution_count": 7,
   "metadata": {
    "scrolled": true
   },
   "outputs": [],
   "source": [
    "IMAGE_SHAPE = [73,60,3]\n",
    "# Paths to data\n",
    "TRAIN_PATH = \"train.csv\" \n",
    "VALID_PATH = \"valid.csv\" \n",
    "TEST_PATH = \"test.csv\" \n",
    "IMAGE_PATHS = \"/Users/MartinJohnsen/Documents/Martin Johnsen/MMC/3. Semester/Deep Learning/Projects/Algorithmic fairness/Data/celeba/\"\n",
    "TARGET_COL = 'Smiling'\n",
    "NUM_CLASSES = 2\n",
    "\n",
    "# train holds both X (input) and t (target/truth)\n",
    "data_train = data_utils.CelebADataset(TRAIN_PATH,IMAGE_PATHS,IMAGE_SHAPE,TARGET_COL)\n",
    "data_valid = data_utils.CelebADataset(VALID_PATH,IMAGE_PATHS,IMAGE_SHAPE,TARGET_COL)"
   ]
  },
  {
   "cell_type": "code",
   "execution_count": 8,
   "metadata": {},
   "outputs": [],
   "source": [
    "dataloader = DataLoader(data_valid, batch_size=128,shuffle=True, num_workers=6)"
   ]
  },
  {
   "cell_type": "code",
   "execution_count": 9,
   "metadata": {},
   "outputs": [
    {
     "data": {
      "text/plain": [
       "5.208333333333333"
      ]
     },
     "execution_count": 9,
     "metadata": {},
     "output_type": "execute_result"
    }
   ],
   "source": [
    "160000/128/4/60"
   ]
  },
  {
   "cell_type": "code",
   "execution_count": 10,
   "metadata": {},
   "outputs": [
    {
     "data": {
      "text/plain": [
       "0.6510416666666666"
      ]
     },
     "execution_count": 10,
     "metadata": {},
     "output_type": "execute_result"
    }
   ],
   "source": [
    "20000/128/4/60"
   ]
  },
  {
   "cell_type": "code",
   "execution_count": 11,
   "metadata": {
    "scrolled": true
   },
   "outputs": [
    {
     "data": {
      "application/vnd.jupyter.widget-view+json": {
       "model_id": "f165ac2d813e492ab1086771cdc29003",
       "version_major": 2,
       "version_minor": 0
      },
      "text/plain": [
       "HBox(children=(IntProgress(value=1, bar_style='info', max=1), HTML(value='')))"
      ]
     },
     "metadata": {},
     "output_type": "display_data"
    },
    {
     "name": "stdout",
     "output_type": "stream",
     "text": [
      "0 torch.Size([128, 3, 73, 60]) torch.Size([128, 2])\n",
      "1 torch.Size([128, 3, 73, 60]) torch.Size([128, 2])\n",
      "2 torch.Size([128, 3, 73, 60]) torch.Size([128, 2])\n",
      "3 torch.Size([128, 3, 73, 60]) torch.Size([128, 2])\n",
      "4 torch.Size([128, 3, 73, 60]) torch.Size([128, 2])\n",
      "5 torch.Size([128, 3, 73, 60]) torch.Size([128, 2])\n",
      "6 torch.Size([128, 3, 73, 60]) torch.Size([128, 2])\n",
      "7 torch.Size([128, 3, 73, 60]) torch.Size([128, 2])\n",
      "8 torch.Size([128, 3, 73, 60]) torch.Size([128, 2])\n",
      "9 torch.Size([128, 3, 73, 60]) torch.Size([128, 2])\n",
      "10 torch.Size([128, 3, 73, 60]) torch.Size([128, 2])\n",
      "11 torch.Size([128, 3, 73, 60]) torch.Size([128, 2])\n",
      "12 torch.Size([128, 3, 73, 60]) torch.Size([128, 2])\n",
      "13 torch.Size([128, 3, 73, 60]) torch.Size([128, 2])\n",
      "14 torch.Size([128, 3, 73, 60]) torch.Size([128, 2])\n",
      "15 torch.Size([128, 3, 73, 60]) torch.Size([128, 2])\n",
      "16 torch.Size([128, 3, 73, 60]) torch.Size([128, 2])\n",
      "17 torch.Size([128, 3, 73, 60]) torch.Size([128, 2])\n",
      "18 torch.Size([128, 3, 73, 60]) torch.Size([128, 2])\n",
      "19 torch.Size([128, 3, 73, 60]) torch.Size([128, 2])\n",
      "20 torch.Size([128, 3, 73, 60]) torch.Size([128, 2])\n",
      "21 torch.Size([128, 3, 73, 60]) torch.Size([128, 2])\n",
      "22 torch.Size([128, 3, 73, 60]) torch.Size([128, 2])\n",
      "23 torch.Size([128, 3, 73, 60]) torch.Size([128, 2])\n",
      "24 torch.Size([128, 3, 73, 60]) torch.Size([128, 2])\n",
      "25 torch.Size([128, 3, 73, 60]) torch.Size([128, 2])\n",
      "26 torch.Size([128, 3, 73, 60]) torch.Size([128, 2])\n",
      "27 torch.Size([128, 3, 73, 60]) torch.Size([128, 2])\n",
      "28 torch.Size([128, 3, 73, 60]) torch.Size([128, 2])\n",
      "29 torch.Size([128, 3, 73, 60]) torch.Size([128, 2])\n",
      "30 torch.Size([128, 3, 73, 60]) torch.Size([128, 2])\n",
      "31 torch.Size([128, 3, 73, 60]) torch.Size([128, 2])\n",
      "32 torch.Size([128, 3, 73, 60]) torch.Size([128, 2])\n",
      "33 torch.Size([128, 3, 73, 60]) torch.Size([128, 2])\n",
      "34 torch.Size([128, 3, 73, 60]) torch.Size([128, 2])\n",
      "35 torch.Size([128, 3, 73, 60]) torch.Size([128, 2])\n",
      "36 torch.Size([128, 3, 73, 60]) torch.Size([128, 2])\n",
      "37 torch.Size([128, 3, 73, 60]) torch.Size([128, 2])\n",
      "38 torch.Size([128, 3, 73, 60]) torch.Size([128, 2])\n",
      "39 torch.Size([128, 3, 73, 60]) torch.Size([128, 2])\n",
      "40 torch.Size([128, 3, 73, 60]) torch.Size([128, 2])\n",
      "41 torch.Size([128, 3, 73, 60]) torch.Size([128, 2])\n",
      "42 torch.Size([128, 3, 73, 60]) torch.Size([128, 2])\n",
      "43 torch.Size([128, 3, 73, 60]) torch.Size([128, 2])\n",
      "44 torch.Size([128, 3, 73, 60]) torch.Size([128, 2])\n",
      "45 torch.Size([128, 3, 73, 60]) torch.Size([128, 2])\n",
      "46 torch.Size([128, 3, 73, 60]) torch.Size([128, 2])\n",
      "47 torch.Size([128, 3, 73, 60]) torch.Size([128, 2])\n",
      "48 torch.Size([128, 3, 73, 60]) torch.Size([128, 2])\n",
      "49 torch.Size([128, 3, 73, 60]) torch.Size([128, 2])\n",
      "50 torch.Size([128, 3, 73, 60]) torch.Size([128, 2])\n",
      "51 torch.Size([128, 3, 73, 60]) torch.Size([128, 2])\n",
      "52 torch.Size([128, 3, 73, 60]) torch.Size([128, 2])\n",
      "53 torch.Size([128, 3, 73, 60]) torch.Size([128, 2])\n",
      "54 torch.Size([128, 3, 73, 60]) torch.Size([128, 2])\n",
      "55 torch.Size([128, 3, 73, 60]) torch.Size([128, 2])\n",
      "56 torch.Size([128, 3, 73, 60]) torch.Size([128, 2])\n",
      "57 torch.Size([128, 3, 73, 60]) torch.Size([128, 2])\n",
      "58 torch.Size([128, 3, 73, 60]) torch.Size([128, 2])\n",
      "59 torch.Size([128, 3, 73, 60]) torch.Size([128, 2])\n",
      "60 torch.Size([128, 3, 73, 60]) torch.Size([128, 2])\n",
      "61 torch.Size([128, 3, 73, 60]) torch.Size([128, 2])\n",
      "62 torch.Size([128, 3, 73, 60]) torch.Size([128, 2])\n",
      "63 torch.Size([128, 3, 73, 60]) torch.Size([128, 2])\n",
      "64 torch.Size([128, 3, 73, 60]) torch.Size([128, 2])\n",
      "65 torch.Size([128, 3, 73, 60]) torch.Size([128, 2])\n",
      "66 torch.Size([128, 3, 73, 60]) torch.Size([128, 2])\n",
      "67 torch.Size([128, 3, 73, 60]) torch.Size([128, 2])\n",
      "68 torch.Size([128, 3, 73, 60]) torch.Size([128, 2])\n",
      "69 torch.Size([128, 3, 73, 60]) torch.Size([128, 2])\n",
      "70 torch.Size([128, 3, 73, 60]) torch.Size([128, 2])\n",
      "71 torch.Size([128, 3, 73, 60]) torch.Size([128, 2])\n",
      "72 torch.Size([128, 3, 73, 60]) torch.Size([128, 2])\n",
      "73 torch.Size([128, 3, 73, 60]) torch.Size([128, 2])\n",
      "74 torch.Size([128, 3, 73, 60]) torch.Size([128, 2])\n",
      "75 torch.Size([128, 3, 73, 60]) torch.Size([128, 2])\n",
      "76 torch.Size([128, 3, 73, 60]) torch.Size([128, 2])\n",
      "77 torch.Size([128, 3, 73, 60]) torch.Size([128, 2])\n",
      "78 torch.Size([128, 3, 73, 60]) torch.Size([128, 2])\n",
      "79 torch.Size([128, 3, 73, 60]) torch.Size([128, 2])\n",
      "80 torch.Size([128, 3, 73, 60]) torch.Size([128, 2])\n",
      "81 torch.Size([128, 3, 73, 60]) torch.Size([128, 2])\n",
      "82 torch.Size([128, 3, 73, 60]) torch.Size([128, 2])\n",
      "83 torch.Size([128, 3, 73, 60]) torch.Size([128, 2])\n",
      "84 torch.Size([128, 3, 73, 60]) torch.Size([128, 2])\n",
      "85 torch.Size([128, 3, 73, 60]) torch.Size([128, 2])\n",
      "86 torch.Size([128, 3, 73, 60]) torch.Size([128, 2])\n",
      "87 torch.Size([128, 3, 73, 60]) torch.Size([128, 2])\n",
      "88 torch.Size([128, 3, 73, 60]) torch.Size([128, 2])\n",
      "89 torch.Size([128, 3, 73, 60]) torch.Size([128, 2])\n",
      "90 torch.Size([128, 3, 73, 60]) torch.Size([128, 2])\n",
      "91 torch.Size([128, 3, 73, 60]) torch.Size([128, 2])\n",
      "92 torch.Size([128, 3, 73, 60]) torch.Size([128, 2])\n",
      "93 torch.Size([128, 3, 73, 60]) torch.Size([128, 2])\n",
      "94 torch.Size([128, 3, 73, 60]) torch.Size([128, 2])\n",
      "95 torch.Size([128, 3, 73, 60]) torch.Size([128, 2])\n",
      "96 torch.Size([128, 3, 73, 60]) torch.Size([128, 2])\n",
      "97 torch.Size([128, 3, 73, 60]) torch.Size([128, 2])\n",
      "98 torch.Size([128, 3, 73, 60]) torch.Size([128, 2])\n",
      "99 torch.Size([128, 3, 73, 60]) torch.Size([128, 2])\n",
      "100 torch.Size([128, 3, 73, 60]) torch.Size([128, 2])\n",
      "done\n"
     ]
    }
   ],
   "source": [
    "from tqdm import tqdm_notebook\n",
    "for i_batch, sample_batched in tqdm_notebook(enumerate(dataloader)):\n",
    "    print(i_batch, sample_batched['image'].size(),\n",
    "          sample_batched['target'].size())\n",
    "\n",
    "    # observe 4th batch and stop.\n",
    "    if i_batch == 100:\n",
    "        print('done')\n",
    "        break"
   ]
  },
  {
   "cell_type": "code",
   "execution_count": 12,
   "metadata": {},
   "outputs": [
    {
     "data": {
      "text/plain": [
       "tensor([0., 1., 1., 0., 0., 0., 1., 0., 1., 0., 0., 0., 0., 0., 0., 0., 0., 0.,\n",
       "        1., 0., 0., 0., 0., 0., 1., 0., 0., 0., 0., 0., 0., 0., 0., 0., 0., 1.,\n",
       "        0., 0., 1.], dtype=torch.float64)"
      ]
     },
     "execution_count": 12,
     "metadata": {},
     "output_type": "execute_result"
    }
   ],
   "source": [
    "sample_batched['attributes'][0]"
   ]
  },
  {
   "cell_type": "code",
   "execution_count": 13,
   "metadata": {},
   "outputs": [
    {
     "data": {
      "text/plain": [
       "<matplotlib.image.AxesImage at 0x1c2af32cc0>"
      ]
     },
     "execution_count": 13,
     "metadata": {},
     "output_type": "execute_result"
    },
    {
     "data": {
      "image/png": "[encoded data removed]",
      "text/plain": [
       "<Figure size 432x288 with 1 Axes>"
      ]
     },
     "metadata": {
      "needs_background": "light"
     },
     "output_type": "display_data"
    }
   ],
   "source": [
    "plt.imshow(np.transpose(vutils.make_grid(sample_batched['image'][5], padding=2,normalize=True).cpu(),(1,2,0)))"
   ]
  },
  {
   "cell_type": "code",
   "execution_count": 14,
   "metadata": {},
   "outputs": [],
   "source": [
    "# Load functions\n",
    "import torch\n",
    "from torch.autograd import Variable\n",
    "import torch.nn as nn\n",
    "import torch.optim as optim\n",
    "from torch.nn import Linear, GRU, Conv2d, Dropout2d, MaxPool2d, BatchNorm2d\n",
    "from torch.nn.functional import relu, elu, relu6, sigmoid, tanh, softmax"
   ]
  },
  {
   "cell_type": "code",
   "execution_count": 15,
   "metadata": {},
   "outputs": [
    {
     "name": "stdout",
     "output_type": "stream",
     "text": [
      "No GPU available.\n"
     ]
    }
   ],
   "source": [
    "use_cuda = torch.cuda.is_available()\n",
    "print(\"Running GPU.\") if use_cuda else print(\"No GPU available.\")\n",
    "\n",
    "\n",
    "def get_variable(x):\n",
    "    \"\"\" Converts tensors to cuda, if available. \"\"\"\n",
    "    if use_cuda:\n",
    "        return x.cuda()\n",
    "    return x\n",
    "\n",
    "\n",
    "def get_numpy(x):\n",
    "    \"\"\" Get numpy array for both cuda and not. \"\"\"\n",
    "    if use_cuda:\n",
    "        return x.cpu().data.numpy()\n",
    "    return x.data.numpy()"
   ]
  },
  {
   "cell_type": "code",
   "execution_count": 16,
   "metadata": {},
   "outputs": [
    {
     "name": "stdout",
     "output_type": "stream",
     "text": [
      "Net(\n",
      "  (conv_1): Conv2d(3, 16, kernel_size=(5, 5), stride=(1, 1))\n",
      "  (l_out): Linear(in_features=61824, out_features=2, bias=False)\n",
      ")\n"
     ]
    }
   ],
   "source": [
    "height, width, channels = IMAGE_SHAPE\n",
    "\n",
    "conv_out_channels =  16 # <-- Filters in your convolutional layer\n",
    "kernel_size = 5       # <-- Kernel size\n",
    "conv_stride = 1       # <-- Stride\n",
    "conv_pad    = 0       # <-- Padding\n",
    " \n",
    "\n",
    "\n",
    "conv1_h = int(height - kernel_size + 2 * conv_pad / conv_stride + 1)\n",
    "conv1_w = int(width - kernel_size + 2 * conv_pad / conv_stride + 1)\n",
    "\n",
    "# Keep track of features to output layer\n",
    "features_cat_size = int(conv_out_channels * conv1_h * conv1_w)\\\n",
    "\n",
    "# <-- Number of features concatenated before output layer\n",
    "  \n",
    "class Net(nn.Module):\n",
    "    def __init__(self):\n",
    "        super(Net, self).__init__()\n",
    "        \n",
    "        self.conv_1 = Conv2d(in_channels=channels,\n",
    "                             out_channels=conv_out_channels,\n",
    "                             kernel_size=kernel_size,\n",
    "                             stride=conv_stride,\n",
    "                             padding=conv_pad)\n",
    "\n",
    "             \n",
    "        self.l_out = Linear(in_features=features_cat_size,\n",
    "                            out_features=NUM_CLASSES,\n",
    "                            bias=False)\n",
    "        \n",
    "    def forward(self, x_img):\n",
    "        features = []\n",
    "        out = {}\n",
    "        \n",
    "        ## Convolutional layer ##\n",
    "        # - Change dimensions to fit the convolutional layer \n",
    "        # - Apply Conv2d\n",
    "        # - Use an activation function\n",
    "        # - Change dimensions s.t. the features can be used in the final FFNN output layer\n",
    "        \n",
    "        # >> YOUR CODE HERE <<\n",
    "        #x_img = x_img.permute(0,3,1,2)\n",
    "        features_img = relu(self.conv_1(x_img))\n",
    "        \n",
    "        features_img = features_img.view(-1, features_cat_size)\n",
    "\n",
    "        ## Output layer where all features are in use ##\n",
    "        \n",
    "        out['out'] = self.l_out(features_img)\n",
    "        return out\n",
    "\n",
    "net = Net()\n",
    "if use_cuda:\n",
    "    net.cuda()\n",
    "print(net)"
   ]
  },
  {
   "cell_type": "code",
   "execution_count": 17,
   "metadata": {},
   "outputs": [],
   "source": [
    "LEARNING_RATE = 0.001\n",
    "criterion = nn.CrossEntropyLoss()          #<-- Your code here.   \n",
    "\n",
    "# weight_decay is equal to L2 regularization\n",
    "optimizer = optim.Adam(net.parameters(), lr=LEARNING_RATE)\n",
    "\n",
    "def accuracy(ys, ts):\n",
    "    predictions = torch.max(ys, 1)[1]\n",
    "    correct_prediction = torch.eq(predictions, ts)\n",
    "    return torch.mean(correct_prediction.float())"
   ]
  },
  {
   "cell_type": "code",
   "execution_count": 18,
   "metadata": {},
   "outputs": [
    {
     "data": {
      "text/plain": [
       "torch.Size([128, 2])"
      ]
     },
     "execution_count": 18,
     "metadata": {},
     "output_type": "execute_result"
    }
   ],
   "source": [
    "_img_shape = tuple([batch_size] + list(IMAGE_SHAPE))\n",
    "\n",
    "def randnorm(size):\n",
    "    return np.random.normal(0, 1, size).astype('float32')\n",
    "\n",
    "# dummy data\n",
    "image = randnorm(_img_shape)\n",
    "image = image.transpose(0,3, 1, 2)\n",
    "_x_image = get_variable(Variable(torch.from_numpy(image)))\n",
    "\n",
    "# test the forward pass\n",
    "output = net(x_img=_x_image)\n",
    "output['out'].shape"
   ]
  },
  {
   "cell_type": "code",
   "execution_count": null,
   "metadata": {
    "scrolled": true
   },
   "outputs": [
    {
     "data": {
      "image/png": "[encoded data removed]",
      "text/plain": [
       "<Figure size 864x288 with 2 Axes>"
      ]
     },
     "metadata": {
      "needs_background": "light"
     },
     "output_type": "display_data"
    }
   ],
   "source": [
    "# Setup settings for training \n",
    "batch_size=128\n",
    "max_iter = 200\n",
    "log_every = 100\n",
    "eval_every = 200\n",
    "num_epochs = 2\n",
    "\n",
    "# Function to get label\n",
    "def get_labels(batch):\n",
    "    return get_variable(Variable(batch['target']))\n",
    "\n",
    "# Function to get input\n",
    "def get_input(batch):\n",
    "    return {\n",
    "        'x_img': get_variable(Variable(batch['image']))\n",
    "    }\n",
    "\n",
    "# Initialize lists for training and validation\n",
    "train_iter = []\n",
    "train_loss, train_accs = [], []\n",
    "valid_iter = []\n",
    "valid_loss, valid_accs = [], []\n",
    "\n",
    "# Generate batches\n",
    "batch_gen_train = DataLoader(data_train, batch_size, shuffle=True, num_workers=6)\n",
    "batch_gen_valid = DataLoader(data_valid, batch_size, shuffle=True, num_workers=6)\n",
    "\n",
    "# Train network\n",
    "j=0\n",
    "net.train()\n",
    "for epoch in range(num_epochs):\n",
    "    for i, batch_train in enumerate(batch_gen_train):\n",
    "        j+=1\n",
    "        if i % eval_every == 0:\n",
    "            \n",
    "\n",
    "            # Do the validaiton\n",
    "            net.eval()\n",
    "            val_losses, val_accs, val_lengths = 0, 0, 0\n",
    "            with torch.no_grad(): \n",
    "                for batch_valid in batch_gen_valid:\n",
    "                    num = len(batch_valid['target'])\n",
    "                    output = net(**get_input(batch_valid))\n",
    "                    labels_argmax = torch.max(get_labels(batch_valid), 1)[1]\n",
    "                    val_losses += criterion(output['out'], labels_argmax) * num\n",
    "                    val_accs += accuracy(output['out'], labels_argmax) * num\n",
    "                    val_lengths += num\n",
    "\n",
    "                # Divide by the total accumulated batch sizes\n",
    "                val_losses /= val_lengths\n",
    "                val_accs /= val_lengths\n",
    "                valid_loss.append(get_numpy(val_losses))\n",
    "                valid_accs.append(get_numpy(val_accs))\n",
    "                valid_iter.append(j)\n",
    "        #         print(\"Valid, it: {} loss: {:.2f} accs: {:.2f}\\n\".format(i, valid_loss[-1], valid_accs[-1]))\n",
    "                net.train()\n",
    "\n",
    "        # Train network\n",
    "        output = net(**get_input(batch_train))\n",
    "        labels_argmax = torch.max(get_labels(batch_train), 1)[1]\n",
    "        batch_loss = criterion(output['out'], labels_argmax)\n",
    "\n",
    "        train_iter.append(j)\n",
    "        train_loss.append(float(get_numpy(batch_loss)))\n",
    "        train_accs.append(float(get_numpy(accuracy(output['out'], labels_argmax))))\n",
    "\n",
    "        optimizer.zero_grad()\n",
    "        batch_loss.backward()\n",
    "        optimizer.step()\n",
    "\n",
    "        # Log i figure\n",
    "        if i % log_every == 0:\n",
    "            fig = plt.figure(figsize=(12,4))\n",
    "            plt.subplot(1, 2, 1)\n",
    "            plt.plot(train_iter, train_loss, label='train_loss')\n",
    "            plt.plot(valid_iter, valid_loss, label='valid_loss')\n",
    "            plt.legend()\n",
    "\n",
    "            plt.subplot(1, 2, 2)\n",
    "            plt.plot(train_iter, train_accs, label='train_accs')\n",
    "            plt.plot(valid_iter, valid_accs, label='valid_accs')\n",
    "            plt.legend()\n",
    "            plt.show()\n",
    "            clear_output(wait=True)\n",
    "            #print(\"Train, it: {} loss: {:.2f} accs: {:.2f}\".format(i, train_loss[-1], train_accs[-1]))"
   ]
  },
  {
   "cell_type": "code",
   "execution_count": null,
   "metadata": {},
   "outputs": [],
   "source": [
    "print(\"Train, it: {} loss: {:.2f} accs: {:.2f}\".format(i, train_loss[-1], train_accs[-1]))\n",
    "print(\"Valid, it: {} loss: {:.2f} accs: {:.4f}\".format(i, valid_loss[-1], valid_accs[-1]))"
   ]
  },
  {
   "cell_type": "code",
   "execution_count": null,
   "metadata": {},
   "outputs": [],
   "source": [
    "net.eval()\n",
    "val_male_losses,val_male_accs,val_male_lengths,val_female_losses,val_female_accs,val_female_lengths = 0, 0, 0, 0, 0, 0\n",
    "\n",
    "with torch.no_grad(): \n",
    "    for batch_valid in batch_gen_valid:\n",
    "        num = len(batch_valid)\n",
    "        output = net(**get_input(batch_valid))\n",
    "        labels_argmax = torch.max(get_labels(batch_valid), 1)[1]\n",
    "\n",
    "        gender = batch_valid['attributes'][:,20]\n",
    "        male = np.where(gender==1)\n",
    "        female = np.where(gender==0)\n",
    "\n",
    "        val_male_losses += criterion(output['out'][male], labels_argmax[male]) * len(male[0]) \n",
    "        val_male_accs += accuracy(output['out'][male], labels_argmax[male]) * len(male[0]) \n",
    "        val_male_lengths += len(male[0])\n",
    "        val_female_losses += criterion(output['out'][female], labels_argmax[female]) * len(female[0]) \n",
    "        val_female_accs += accuracy(output['out'][female], labels_argmax[female]) * len(female[0]) \n",
    "        val_female_lengths += len(female[0])\n",
    "\n",
    "# Divide by the total accumulated batch sizes\n",
    "val_male_losses /= val_male_lengths\n",
    "val_male_accs /= val_male_lengths\n",
    "\n",
    "val_female_losses /= val_female_lengths\n",
    "val_female_accs /= val_female_lengths\n",
    "\n",
    "print(\"Valid Male, it: {} loss: {:.2f} accs: {:.4f}\\n\".format(i, val_male_losses, val_male_accs))\n",
    "print(\"Valid Female, it: {} loss: {:.2f} accs: {:.4f}\\n\".format(i, val_female_losses, val_female_accs))"
   ]
  },
  {
   "cell_type": "code",
   "execution_count": null,
   "metadata": {},
   "outputs": [],
   "source": [
    "matched.iloc[:,0:-1].drop('Smiling',axis=1).columns[20]"
   ]
  },
  {
   "cell_type": "code",
   "execution_count": null,
   "metadata": {},
   "outputs": [],
   "source": [
    "def show_batch(sample_batched, bias_idx):\n",
    "    \"\"\"Show image with landmarks for a batch of samples.\"\"\"\n",
    "    images_batch, target_batch, bias = \\\n",
    "            sample_batched['image'], sample_batched['target'], sample_batched['attributes'][:,bias_idx]\n",
    "    \n",
    "    batch_size = len(images_batch)\n",
    "    for i in range(batch_size):\n",
    "\n",
    "        #grid = utils.make_grid(images_batch)\n",
    "        plt.figure()\n",
    "        plt.imshow(images_batch[i].numpy().transpose((1, 2, 0)))\n",
    "        plt.axis('off')\n",
    "        plt.ioff()\n",
    "        plt.show()\n",
    "        print(target_batch[i])\n",
    "        print(bias[i])\n",
    "        print(output['out'][i])"
   ]
  },
  {
   "cell_type": "code",
   "execution_count": null,
   "metadata": {
    "scrolled": true
   },
   "outputs": [],
   "source": [
    "plt.figure()\n",
    "show_batch(batch_valid,20)\n",
    "plt.axis('off')\n",
    "plt.ioff()\n",
    "plt.show()"
   ]
  },
  {
   "cell_type": "code",
   "execution_count": null,
   "metadata": {},
   "outputs": [],
   "source": [
    "def conv_dim(dim_size):\n",
    "    return int(dim_size - kernel_size + 2 * conv_pad / conv_stride + 1)\n",
    "    \n",
    "conv_dim(2)"
   ]
  },
  {
   "cell_type": "code",
   "execution_count": null,
   "metadata": {},
   "outputs": [],
   "source": [
    "height, width, channels = IMAGE_SHAPE\n",
    "\n",
    "conv_out_channels =  16 # <-- Filters in your convolutional layer\n",
    "kernel_size = 5       # <-- Kernel size\n",
    "conv_stride = 1       # <-- Stride\n",
    "conv_pad    = 0       # <-- Padding\n",
    " \n",
    "def conv_dim(dim_size):\n",
    "    return int(dim_size - kernel_size + 2 * conv_pad / conv_stride + 1)\n",
    "\n",
    "conv1_h = conv_dim(height)//2\n",
    "conv1_w = conv_dim(width)//2\n",
    "\n",
    "# Keep track of features to output layer\n",
    "features_cat_size = int(conv_out_channels * conv1_h * conv1_w)\n",
    "\n",
    "conv2_h = conv_dim(conv1_h)//2\n",
    "conv2_w = conv_dim(conv1_w)//2\n",
    "        \n",
    "features_cat_size2 = int(conv_out_channels * conv2_h * conv2_w)\n",
    "\n",
    "# <-- Number of features concatenated before output layer\n",
    "  \n",
    "class Net(nn.Module):\n",
    "    def __init__(self):\n",
    "        super(Net, self).__init__()\n",
    "        \n",
    "        self.conv_1 = Conv2d(in_channels=channels,\n",
    "                             out_channels=conv_out_channels,\n",
    "                             kernel_size=kernel_size,\n",
    "                             stride=conv_stride,\n",
    "                             padding=conv_pad)\n",
    "        \n",
    "        \n",
    "        self.conv_2 = Conv2d(in_channels=conv_out_channels,\n",
    "                             out_channels=conv_out_channels,\n",
    "                             kernel_size=kernel_size,\n",
    "                             stride=conv_stride,\n",
    "                             padding=conv_pad)\n",
    "        \n",
    "        self.pool = nn.MaxPool2d(2,2)\n",
    "        \n",
    "        self.dropout = Dropout2d(p=0.2)\n",
    "        \n",
    "        self.batch1 = BatchNorm2d(conv_out_channels)\n",
    "        self.batch2 = BatchNorm2d(conv_out_channels)\n",
    "\n",
    "             \n",
    "        self.l_out = Linear(in_features=features_cat_size2,\n",
    "                            out_features=NUM_CLASSES,\n",
    "                            bias=False)\n",
    "        \n",
    "    def forward(self, x_img):\n",
    "        features = []\n",
    "        out = {}\n",
    "        \n",
    "        ## Convolutional layer ##\n",
    "        # - Change dimensions to fit the convolutional layer \n",
    "        # - Apply Conv2d\n",
    "        # - Use an activation function\n",
    "        # - Change dimensions s.t. the features can be used in the final FFNN output layer\n",
    "        \n",
    "        # >> YOUR CODE HERE <<\n",
    "        #features_img = self.pool(relu(self.conv_1(x_img)))\n",
    "        features_img = relu(self.conv_1(x_img))\n",
    "        #features_img = self.batch1(features_img)\n",
    "        #features_img = self.dropout(features_img)\n",
    "        #features_img = self.pool(relu(self.conv_2(features_img)))\n",
    "        features_img = relu(self.conv_2(features_img))\n",
    "        #features_img = self.batch2(features_img)\n",
    "        \n",
    "        features_img = features_img.view(-1, features_cat_size2)\n",
    "\n",
    "        ## Output layer where all features are in use ##\n",
    "        \n",
    "        out['out'] = self.l_out(features_img)\n",
    "        return out\n",
    "\n",
    "net = Net()\n",
    "if use_cuda:\n",
    "    net.cuda()\n",
    "print(net)"
   ]
  },
  {
   "cell_type": "code",
   "execution_count": null,
   "metadata": {
    "scrolled": true
   },
   "outputs": [],
   "source": [
    "# Setup settings for training \n",
    "batch_size=128\n",
    "max_iter = 399\n",
    "log_every = 100\n",
    "eval_every = 200\n",
    "num_epochs = 2\n",
    "\n",
    "# Function to get label\n",
    "def get_labels(batch):\n",
    "    return get_variable(Variable(batch['target']))\n",
    "\n",
    "# Function to get input\n",
    "def get_input(batch):\n",
    "    return {\n",
    "        'x_img': get_variable(Variable(batch['image']))\n",
    "    }\n",
    "\n",
    "# Initialize lists for training and validation\n",
    "train_iter = []\n",
    "train_loss, train_accs = [], []\n",
    "valid_iter = []\n",
    "valid_loss, valid_accs = [], []\n",
    "\n",
    "# Generate batches\n",
    "batch_gen_train = DataLoader(data_train, batch_size, shuffle=True, num_workers=6)\n",
    "batch_gen_valid = DataLoader(data_valid, batch_size, shuffle=True, num_workers=6)\n",
    "\n",
    "# Train network\n",
    "j=0\n",
    "net.train()\n",
    "for epoch in range(num_epochs):\n",
    "    for i, batch_train in enumerate(batch_gen_train):\n",
    "        j+=1\n",
    "        if i % eval_every == -1:\n",
    "            \n",
    "\n",
    "            # Do the validaiton\n",
    "            net.eval()\n",
    "            val_losses, val_accs, val_lengths = 0, 0, 0\n",
    "            with torch.no_grad(): \n",
    "                for batch_valid in batch_gen_valid:\n",
    "                    num = len(batch_valid['target'])\n",
    "                    output = net(**get_input(batch_valid))\n",
    "                    labels_argmax = torch.max(get_labels(batch_valid), 1)[1]\n",
    "                    val_losses += criterion(output['out'], labels_argmax) * num\n",
    "                    val_accs += accuracy(output['out'], labels_argmax) * num\n",
    "                    val_lengths += num\n",
    "\n",
    "                # Divide by the total accumulated batch sizes\n",
    "                val_losses /= val_lengths\n",
    "                val_accs /= val_lengths\n",
    "                valid_loss.append(get_numpy(val_losses))\n",
    "                valid_accs.append(get_numpy(val_accs))\n",
    "                valid_iter.append(j)\n",
    "        #         print(\"Valid, it: {} loss: {:.2f} accs: {:.2f}\\n\".format(i, valid_loss[-1], valid_accs[-1]))\n",
    "                net.train()\n",
    "\n",
    "        # Train network\n",
    "        output = net(**get_input(batch_train))\n",
    "        labels_argmax = torch.max(get_labels(batch_train), 1)[1]\n",
    "        batch_loss = criterion(output['out'], labels_argmax)\n",
    "\n",
    "        train_iter.append(j)\n",
    "        train_loss.append(float(get_numpy(batch_loss)))\n",
    "        train_accs.append(float(get_numpy(accuracy(output['out'], labels_argmax))))\n",
    "\n",
    "        optimizer.zero_grad()\n",
    "        batch_loss.backward()\n",
    "        optimizer.step()\n",
    "\n",
    "        # Log i figure\n",
    "        if i % log_every == 0:\n",
    "            fig = plt.figure(figsize=(12,4))\n",
    "            plt.subplot(1, 2, 1)\n",
    "            plt.plot(train_iter, train_loss, label='train_loss')\n",
    "            plt.plot(valid_iter, valid_loss, label='valid_loss')\n",
    "            plt.legend()\n",
    "\n",
    "            plt.subplot(1, 2, 2)\n",
    "            plt.plot(train_iter, train_accs, label='train_accs')\n",
    "            plt.plot(valid_iter, valid_accs, label='valid_accs')\n",
    "            plt.legend()\n",
    "            plt.show()\n",
    "            clear_output(wait=True)\n",
    "            #print(\"Train, it: {} loss: {:.2f} accs: {:.2f}\".format(i, train_loss[-1], train_accs[-1]))\n",
    "            \n",
    "        if max_iter == i:\n",
    "            break"
   ]
  },
  {
   "cell_type": "code",
   "execution_count": null,
   "metadata": {},
   "outputs": [],
   "source": [
    "fig = plt.figure(figsize=(12,4))\n",
    "plt.subplot(1, 2, 1)\n",
    "plt.plot(train_iter, train_loss, label='train_loss')\n",
    "plt.plot(valid_iter, valid_loss, label='valid_loss')\n",
    "plt.legend()\n",
    "\n",
    "plt.subplot(1, 2, 2)\n",
    "plt.plot(train_iter, train_accs, label='train_accs')\n",
    "plt.plot(valid_iter, valid_accs, label='valid_accs')\n",
    "plt.legend()\n",
    "plt.show()\n",
    "clear_output(wait=True)"
   ]
  },
  {
   "cell_type": "code",
   "execution_count": null,
   "metadata": {},
   "outputs": [],
   "source": []
  }
 ],
 "metadata": {
  "kernelspec": {
   "display_name": "Python 3",
   "language": "python",
   "name": "python3"
  },
  "language_info": {
   "codemirror_mode": {
    "name": "ipython",
    "version": 3
   },
   "file_extension": ".py",
   "mimetype": "text/x-python",
   "name": "python",
   "nbconvert_exporter": "python",
   "pygments_lexer": "ipython3",
   "version": "3.7.3"
  }
 },
 "nbformat": 4,
 "nbformat_minor": 2
}
