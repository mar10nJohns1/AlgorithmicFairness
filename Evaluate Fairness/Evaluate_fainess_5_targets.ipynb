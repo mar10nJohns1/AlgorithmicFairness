{
 "cells": [
  {
   "cell_type": "code",
   "execution_count": 1,
   "metadata": {},
   "outputs": [],
   "source": [
    "from __future__ import print_function\n",
    "#%matplotlib inline\n",
    "import argparse\n",
    "import torch\n",
    "import torch.nn as nn\n",
    "import torch.nn.parallel\n",
    "import torch.backends.cudnn as cudnn\n",
    "import torch.optim as optim\n",
    "import torch.utils.data\n",
    "import torchvision.datasets as dset\n",
    "import torchvision.transforms as transforms\n",
    "import torchvision.utils as vutils\n",
    "import numpy as np\n",
    "import matplotlib.pyplot as plt\n",
    "import matplotlib.animation as animation\n",
    "import seaborn as sns\n",
    "from IPython.display import HTML\n",
    "import pandas as pd\n",
    "import data_utils.data_utils_celeba_pytorch5 as data_utils\n",
    "import data_utils.network_tuning_valid as network_tuning\n",
    "from IPython.display import clear_output\n",
    "from skimage.io import imread\n",
    "from skimage.transform import resize\n",
    "from torch.utils.data import Dataset, DataLoader\n",
    "from torchvision import transforms, utils\n",
    "import pandas as pd\n",
    "import pickle\n",
    "# Load functions\n",
    "from torch.autograd import Variable\n",
    "import torch.nn as nn\n",
    "import torch.optim as optim\n",
    "from torch.nn import Linear, GRU, Conv2d, Dropout2d, MaxPool2d, BatchNorm2d\n",
    "from torch.nn.functional import relu, elu, relu6, sigmoid, tanh, softmax"
   ]
  },
  {
   "cell_type": "code",
   "execution_count": 2,
   "metadata": {},
   "outputs": [],
   "source": [
    "IMAGE_SHAPE = [73,60,3]\n",
    "# Root directory for dataset\n",
    "dataroot = 'C:\\\\Users\\\\cfthe\\\\OneDrive\\\\DTU\\\\Kandidat\\\\Deep\\\\AlgorithmicFairness'\n",
    "# Paths to data\n",
    "VALID_PATH = dataroot + \"\\\\data\\\\valid.csv\"  \n",
    "TEST_PATH = dataroot + \"\\\\data\\\\test.csv\"  \n",
    "IMAGE_PATHS = \"C:\\\\Users\\\\cfthe\\\\OneDrive\\\\DTU\\\\Kandidat\\\\Deep\\\\celebA_resize3\"\n",
    "TARGET_COL = 'Smiling' #'Smiling'\n",
    "NUM_CLASSES = 2\n",
    "\n",
    "# valid data\n",
    "data_valid = data_utils.CelebADataset(VALID_PATH,IMAGE_PATHS,IMAGE_SHAPE,TARGET_COL)\n",
    "\n",
    "# test data\n",
    "data_test = data_utils.CelebADataset(TEST_PATH,IMAGE_PATHS,IMAGE_SHAPE,TARGET_COL)"
   ]
  },
  {
   "cell_type": "code",
   "execution_count": 3,
   "metadata": {
    "scrolled": true
   },
   "outputs": [],
   "source": [
    "attributes = pd.read_csv('C:\\\\Users\\\\cfthe\\\\OneDrive\\\\DTU\\\\Kandidat\\\\Deep\\\\AlgorithmicFairness\\\\Data\\\\list_attr_celeba.txt', sep=\" \")\n",
    "attributes.drop('Unnamed: 41',axis=1, inplace=True)\n",
    "partition = pd.read_csv('C:\\\\Users\\\\cfthe\\\\OneDrive\\\\DTU\\\\Kandidat\\\\Deep\\\\list_eval_partition.txt', sep=\" \", header=None, names=['im_id','partition'])\n",
    "matched = attributes.set_index('im_id').join(partition.set_index('im_id')).replace(-1,0)\n",
    "\n",
    "test_df = matched[matched['partition']==2]"
   ]
  },
  {
   "cell_type": "code",
   "execution_count": 4,
   "metadata": {},
   "outputs": [
    {
     "name": "stdout",
     "output_type": "stream",
     "text": [
      "No GPU available.\n"
     ]
    }
   ],
   "source": [
    "use_cuda = torch.cuda.is_available()\n",
    "print(\"Running GPU.\") if use_cuda else print(\"No GPU available.\")\n",
    "\n",
    "\n",
    "def get_variable(x):\n",
    "    \"\"\" Converts tensors to cuda, if available. \"\"\"\n",
    "    if use_cuda:\n",
    "        return x.cuda()\n",
    "    return x\n",
    "\n",
    "\n",
    "def get_numpy(x):\n",
    "    \"\"\" Get numpy array for both cuda and not. \"\"\"\n",
    "    if use_cuda:\n",
    "        return x.cpu().data.numpy()\n",
    "    return x.data.numpy()"
   ]
  },
  {
   "cell_type": "code",
   "execution_count": 5,
   "metadata": {},
   "outputs": [],
   "source": [
    "criterion = nn.CrossEntropyLoss()          #<-- Your code here.   \n",
    "\n",
    "def accuracy(ys, ts):\n",
    "    predictions = torch.max(ys, 1)[1]\n",
    "    correct_prediction = torch.eq(predictions, ts)\n",
    "    return torch.mean(correct_prediction.float())"
   ]
  },
  {
   "cell_type": "code",
   "execution_count": 6,
   "metadata": {},
   "outputs": [],
   "source": [
    "# Function to get label\n",
    "def get_labels(batch):\n",
    "    return get_variable(Variable(batch['target']))\n",
    "\n",
    "# Function to get input\n",
    "def get_input(batch):\n",
    "    return {\n",
    "        'x_img': get_variable(Variable(batch['image']))\n",
    "    }"
   ]
  },
  {
   "cell_type": "code",
   "execution_count": 7,
   "metadata": {},
   "outputs": [],
   "source": [
    "df = pd.read_pickle('models\\\\aws_models\\\\run3_df.pkl') #e.g. pd.read_pickle('df.pkl')"
   ]
  },
  {
   "cell_type": "code",
   "execution_count": 8,
   "metadata": {},
   "outputs": [],
   "source": [
    "# Change i to the model number you want to load\n",
    "i = 2\n",
    "IMAGE_SHAPE = [73,60,3]\n",
    "layers = df.loc[i,'layers']\n",
    "activations = df.loc[i,'activations']\n",
    "conv_out_channels = df.loc[i,'conv_out_channels']\n",
    "kernel_size = df.loc[i,'kernel_size']\n",
    "conv_stride = df.loc[i,'conv_stride']\n",
    "maxpool = int(df.loc[i,'maxpool'])\n",
    "dropout = df.loc[i,'dropout']\n",
    "batchnorm = df.loc[i,'batchnorm']\n",
    "optimizer = df.loc[i,'optimizer']\n",
    "learning_rate = df.loc[i,'learning_rate']\n",
    "weight_decay = df.loc[i,'weight_decay']\n",
    "batch_size = int(df.loc[i,'batch_size'])\n",
    "num_epochs = df.loc[i,'num_epochs']\n",
    "\n",
    "net = network_tuning.tune_architecture(layers, activations, IMAGE_SHAPE, conv_out_channels, kernel_size,conv_stride, maxpool, dropout, batchnorm)"
   ]
  },
  {
   "cell_type": "code",
   "execution_count": 9,
   "metadata": {},
   "outputs": [],
   "source": [
    "#dataframe for saving predictions\n",
    "test_predictions = test_df.astype(object)\n",
    "test_predictions.drop(['partition'],axis=1)\n",
    "target_attributes = ['Smiling','Attractive', 'Chubby','Double_Chin','Bags_Under_Eyes']\n",
    "models = ['run2__model2.dms','run3_Attractive_model3.dms','run3_Chubby_model14.dms','run3_Double_Chin_model15.dms','run3_Bags_Under_Eyes_model4.dms']"
   ]
  },
  {
   "cell_type": "code",
   "execution_count": 10,
   "metadata": {},
   "outputs": [
    {
     "name": "stdout",
     "output_type": "stream",
     "text": [
      "Smiling\n",
      "run2__model2.dms\n",
      "Attractive\n",
      "run3_Attractive_model3.dms\n",
      "Chubby\n",
      "run3_Chubby_model14.dms\n",
      "Double_Chin\n",
      "run3_Double_Chin_model15.dms\n",
      "Bags_Under_Eyes\n",
      "run3_Bags_Under_Eyes_model4.dms\n"
     ]
    }
   ],
   "source": [
    "#calculation predictions on the validation set\n",
    "for k,tar_att in enumerate(target_attributes):\n",
    "    print(tar_att)\n",
    "    test_predictions['output_' + tar_att] = np.nan\n",
    "    test_predictions['labels_argmax_'+ tar_att] = np.nan\n",
    "    test_predictions['accuracy_'+ tar_att] = np.nan\n",
    "    test_predictions['criterion_'+ tar_att] = np.nan\n",
    "\n",
    "    # Load network, choose the model i\n",
    "    net = network_tuning.tune_architecture(layers, activations, IMAGE_SHAPE, conv_out_channels, kernel_size,conv_stride, maxpool, dropout, batchnorm)\n",
    "    net.load_state_dict(torch.load('models\\\\aws_models\\\\'+models[k],map_location=torch.device('cpu'))) # e.g. net.load_state_dict(torch.load('model1'))\n",
    "    net.eval()\n",
    "\n",
    "    print(models[k])\n",
    "    \n",
    "    IMAGE_SHAPE = [73,60,3]\n",
    "    # Root directory for dataset\n",
    "    dataroot = 'C:\\\\Users\\\\cfthe\\\\OneDrive\\\\DTU\\\\Kandidat\\\\Deep\\\\AlgorithmicFairness'\n",
    "    # Paths to data\n",
    "    TEST_PATH = dataroot + \"\\\\data\\\\test.csv\"  \n",
    "    IMAGE_PATHS = \"C:\\\\Users\\\\cfthe\\\\OneDrive\\\\DTU\\\\Kandidat\\\\Deep\\\\celebA_resize3\"\n",
    "    TARGET_COL = tar_att #'Smiling'\n",
    "    NUM_CLASSES = 2\n",
    "\n",
    "    # valid data\n",
    "    data_test = data_utils.CelebADataset(TEST_PATH,IMAGE_PATHS,IMAGE_SHAPE,TARGET_COL)\n",
    "\n",
    "    batch_gen_test = DataLoader(data_test, batch_size, shuffle=True, num_workers=6)\n",
    "    test_1_losses,test_1_accs,test_1_lengths,test_0_losses,test_0_accs,test_0_lengths = 0, 0, 0, 0, 0, 0\n",
    "    test_predictions = test_predictions.astype(object)\n",
    "    j=0\n",
    "    with torch.no_grad():\n",
    "        for batch_test in batch_gen_test:\n",
    "            output = net(**get_input(batch_test))\n",
    "            labels_argmax = torch.max(get_labels(batch_test), 1)[1]\n",
    "            j+=1\n",
    "            for i in range(len(batch_test['file'])):\n",
    "                test_predictions.at[batch_test['file'][i],'output_' + tar_att] = output['out'][i]\n",
    "                test_predictions.at[batch_test['file'][i],'labels_argmax_' + tar_att] = labels_argmax[i]\n",
    "                test_predictions.at[batch_test['file'][i],'accuracy_'+ tar_att] = accuracy(output['out'][i:i+1],labels_argmax[i:i+1])\n",
    "                test_predictions.at[batch_test['file'][i],'criterion_'+ tar_att] = criterion(output['out'][i:i+1],labels_argmax[i:i+1])"
   ]
  },
  {
   "cell_type": "code",
   "execution_count": 11,
   "metadata": {},
   "outputs": [
    {
     "name": "stdout",
     "output_type": "stream",
     "text": [
      "Smiling: 0.9153391443743112\n",
      "Attractive: 0.7854924356276927\n",
      "Chubby: 0.9514076745817053\n",
      "Double_Chin: 0.9598236649634305\n",
      "Bags_Under_Eyes: 0.8178038272718164\n"
     ]
    }
   ],
   "source": [
    "# Should be equalt to validation accuracy in df\n",
    "print('Smiling: ' + str(np.mean(test_predictions['accuracy_Smiling'])))\n",
    "print('Attractive: ' + str(np.mean(test_predictions['accuracy_Attractive'])))\n",
    "print('Chubby: ' + str(np.mean(test_predictions['accuracy_Chubby'])))\n",
    "print('Double_Chin: ' + str(np.mean(test_predictions['accuracy_Double_Chin'])))\n",
    "print('Bags_Under_Eyes: ' + str(np.mean(test_predictions['accuracy_Bags_Under_Eyes'])))"
   ]
  },
  {
   "cell_type": "code",
   "execution_count": 12,
   "metadata": {},
   "outputs": [],
   "source": [
    "df_att = pd.DataFrame(index = matched.iloc[:,0:-1].columns, columns=target_attributes)\n",
    "for i,tar_att in enumerate(target_attributes):\n",
    "    #calculating accuracies for all protected attributes\n",
    "    attributes = matched.iloc[:,0:-1].drop(tar_att,axis=1).columns\n",
    "    for att in attributes:\n",
    "\n",
    "        att_ = test_predictions.loc[:][att]\n",
    "        t_ = test_predictions.loc[:][tar_att]\n",
    "\n",
    "        att_1 = np.where(att_==1)\n",
    "        att_0 = np.where(att_==0)\n",
    "\n",
    "        df_att.loc[att][tar_att] = np.mean(test_predictions.iloc[att_1]['accuracy_'+ tar_att])/np.mean(test_predictions.iloc[att_0]['accuracy_'+tar_att])"
   ]
  },
  {
   "cell_type": "code",
   "execution_count": 13,
   "metadata": {},
   "outputs": [],
   "source": [
    "df_att2 = df_att.loc[['Rosy_Cheeks','Gray_Hair','Bags_Under_Eyes','Bald','Chubby','Double_Chin','Goatee','High_Cheekbones','Young','Narrow_Eyes','Blond_Hair','Male','Arched_Eyebrows','Receding_Hairline','Attractive','Oval_Face','Big_Lips','Sideburns','Big_Nose']].sort_values('Smiling')"
   ]
  },
  {
   "cell_type": "code",
   "execution_count": 14,
   "metadata": {},
   "outputs": [],
   "source": [
    "df_att2 = df_att2.astype('float')"
   ]
  },
  {
   "cell_type": "code",
   "execution_count": 15,
   "metadata": {},
   "outputs": [
    {
     "data": {
      "text/html": [
       "<div>\n",
       "<style scoped>\n",
       "    .dataframe tbody tr th:only-of-type {\n",
       "        vertical-align: middle;\n",
       "    }\n",
       "\n",
       "    .dataframe tbody tr th {\n",
       "        vertical-align: top;\n",
       "    }\n",
       "\n",
       "    .dataframe thead th {\n",
       "        text-align: right;\n",
       "    }\n",
       "</style>\n",
       "<table border=\"1\" class=\"dataframe\">\n",
       "  <thead>\n",
       "    <tr style=\"text-align: right;\">\n",
       "      <th></th>\n",
       "      <th>Smiling</th>\n",
       "      <th>Attractive</th>\n",
       "      <th>Chubby</th>\n",
       "      <th>Double_Chin</th>\n",
       "      <th>Bags_Under_Eyes</th>\n",
       "    </tr>\n",
       "  </thead>\n",
       "  <tbody>\n",
       "    <tr>\n",
       "      <td>count</td>\n",
       "      <td>19.000000</td>\n",
       "      <td>18.000000</td>\n",
       "      <td>18.000000</td>\n",
       "      <td>18.000000</td>\n",
       "      <td>18.000000</td>\n",
       "    </tr>\n",
       "    <tr>\n",
       "      <td>mean</td>\n",
       "      <td>0.999950</td>\n",
       "      <td>1.062079</td>\n",
       "      <td>0.930948</td>\n",
       "      <td>0.938646</td>\n",
       "      <td>0.917504</td>\n",
       "    </tr>\n",
       "    <tr>\n",
       "      <td>std</td>\n",
       "      <td>0.026061</td>\n",
       "      <td>0.092923</td>\n",
       "      <td>0.143368</td>\n",
       "      <td>0.128302</td>\n",
       "      <td>0.180653</td>\n",
       "    </tr>\n",
       "    <tr>\n",
       "      <td>min</td>\n",
       "      <td>0.956020</td>\n",
       "      <td>0.934962</td>\n",
       "      <td>0.554875</td>\n",
       "      <td>0.597517</td>\n",
       "      <td>0.645624</td>\n",
       "    </tr>\n",
       "    <tr>\n",
       "      <td>25%</td>\n",
       "      <td>0.978741</td>\n",
       "      <td>0.988598</td>\n",
       "      <td>0.870256</td>\n",
       "      <td>0.888395</td>\n",
       "      <td>0.778328</td>\n",
       "    </tr>\n",
       "    <tr>\n",
       "      <td>50%</td>\n",
       "      <td>1.003412</td>\n",
       "      <td>1.048894</td>\n",
       "      <td>0.948489</td>\n",
       "      <td>0.968260</td>\n",
       "      <td>0.876293</td>\n",
       "    </tr>\n",
       "    <tr>\n",
       "      <td>75%</td>\n",
       "      <td>1.018347</td>\n",
       "      <td>1.103164</td>\n",
       "      <td>1.025349</td>\n",
       "      <td>1.023008</td>\n",
       "      <td>1.094867</td>\n",
       "    </tr>\n",
       "    <tr>\n",
       "      <td>max</td>\n",
       "      <td>1.039207</td>\n",
       "      <td>1.227821</td>\n",
       "      <td>1.158576</td>\n",
       "      <td>1.136280</td>\n",
       "      <td>1.199692</td>\n",
       "    </tr>\n",
       "  </tbody>\n",
       "</table>\n",
       "</div>"
      ],
      "text/plain": [
       "         Smiling  Attractive     Chubby  Double_Chin  Bags_Under_Eyes\n",
       "count  19.000000   18.000000  18.000000    18.000000        18.000000\n",
       "mean    0.999950    1.062079   0.930948     0.938646         0.917504\n",
       "std     0.026061    0.092923   0.143368     0.128302         0.180653\n",
       "min     0.956020    0.934962   0.554875     0.597517         0.645624\n",
       "25%     0.978741    0.988598   0.870256     0.888395         0.778328\n",
       "50%     1.003412    1.048894   0.948489     0.968260         0.876293\n",
       "75%     1.018347    1.103164   1.025349     1.023008         1.094867\n",
       "max     1.039207    1.227821   1.158576     1.136280         1.199692"
      ]
     },
     "execution_count": 15,
     "metadata": {},
     "output_type": "execute_result"
    }
   ],
   "source": [
    "df_att2.describe()"
   ]
  },
  {
   "cell_type": "code",
   "execution_count": 16,
   "metadata": {},
   "outputs": [
    {
     "data": {
      "image/png": "[encoded data removed]",
      "text/plain": [
       "<Figure size 792x576 with 2 Axes>"
      ]
     },
     "metadata": {
      "needs_background": "light"
     },
     "output_type": "display_data"
    }
   ],
   "source": [
    "plt.figure(figsize = (11,8))\n",
    "cmap=sns.color_palette(\"RdBu\",70)\n",
    "heatmap_kwargs = dict(vmin=0.5, vmax=1.5, cmap=cmap,annot=True, linewidths=.5, fmt='.4g')\n",
    "ax = sns.heatmap(df_att2, mask=df_att2.isnull(),center=1.0, **heatmap_kwargs)\n",
    "ax.set_xticklabels(['Acc. ratio Smiling','Acc. ratio Attractive','Acc. ratio Chubby','Acc. ratio D. Chin','Acc. ratio Eye Bags'])\n",
    "ax.set_yticklabels(list(df_att2.index))\n",
    "bottom, top = ax.get_ylim()\n",
    "ax.set_ylim(bottom + 0.5, top - 0.5)\n",
    "ax.xaxis.set_ticks_position('top')\n",
    "plt.tight_layout()\n",
    "plt.savefig('heat_targets.png',dpi=500)"
   ]
  },
  {
   "cell_type": "code",
   "execution_count": 42,
   "metadata": {},
   "outputs": [],
   "source": [
    "#funtion to show image along with output and tru target\n",
    "def show_batch(sample_batched, bias_idx):\n",
    "    \"\"\"Show image with landmarks for a batch of samples.\"\"\"\n",
    "    images_batch, target_batch, bias = \\\n",
    "            sample_batched['image'], sample_batched['target'], sample_batched['attributes'][:,bias_idx]\n",
    "    \n",
    "    batch_size = len(images_batch)\n",
    "    pred_label = torch.max(get_labels(sample_batched), 1)[1]\n",
    "    \n",
    "    for i in range(batch_size):\n",
    "\n",
    "        #grid = utils.make_grid(images_batch)\n",
    "        plt.figure()\n",
    "        plt.imshow(np.transpose(vutils.make_grid(images_batch[i], padding=2,normalize=True).cpu(),(1,2,0)))\n",
    "        plt.axis('off')\n",
    "        plt.ioff()\n",
    "        plt.show()\n",
    "        print(target_batch[i])\n",
    "        #print(bias[i])\n",
    "        print('Output of NN: ',output['out'][i])\n",
    "        print('Predicted label: ', pred_label[i])"
   ]
  },
  {
   "cell_type": "code",
   "execution_count": 45,
   "metadata": {},
   "outputs": [
    {
     "data": {
      "text/plain": [
       "{'file': ['charlotte.jpg'],\n",
       " 'image': tensor([[[[199., 199., 199.,  ..., 217., 216., 216.],\n",
       "           [202., 202., 202.,  ..., 219., 219., 219.],\n",
       "           [202., 202., 202.,  ..., 220., 220., 220.],\n",
       "           ...,\n",
       "           [ 59.,  58.,  52.,  ...,  93.,  84.,  75.],\n",
       "           [ 58.,  57.,  52.,  ...,  93.,  85.,  74.],\n",
       "           [ 60.,  60.,  52.,  ...,  93.,  82.,  70.]],\n",
       " \n",
       "          [[195., 195., 195.,  ..., 213., 212., 212.],\n",
       "           [198., 198., 198.,  ..., 215., 215., 215.],\n",
       "           [198., 198., 198.,  ..., 216., 216., 216.],\n",
       "           ...,\n",
       "           [ 17.,  18.,  15.,  ...,  43.,  37.,  28.],\n",
       "           [ 16.,  17.,  15.,  ...,  43.,  35.,  27.],\n",
       "           [ 18.,  20.,  17.,  ...,  43.,  32.,  22.]],\n",
       " \n",
       "          [[184., 184., 184.,  ..., 204., 203., 203.],\n",
       "           [187., 187., 187.,  ..., 206., 206., 206.],\n",
       "           [187., 187., 187.,  ..., 207., 207., 207.],\n",
       "           ...,\n",
       "           [ 27.,  27.,  23.,  ...,  54.,  47.,  38.],\n",
       "           [ 26.,  26.,  23.,  ...,  54.,  46.,  37.],\n",
       "           [ 28.,  29.,  24.,  ...,  54.,  43.,  34.]]]]),\n",
       " 'target': tensor([[0., 1.]], dtype=torch.float64),\n",
       " 'attributes': tensor([[0., 0., 1., 0., 0., 1., 1., 0., 0., 0., 0., 0., 0., 0., 0., 0., 0., 0.,\n",
       "          1., 1., 0., 0., 0., 0., 1., 1., 0., 1., 0., 0., 0., 0., 1., 0., 0., 1.,\n",
       "          0., 0., 1.]], dtype=torch.float64)}"
      ]
     },
     "execution_count": 45,
     "metadata": {},
     "output_type": "execute_result"
    }
   ],
   "source": [
    "batch_valid"
   ]
  },
  {
   "cell_type": "code",
   "execution_count": 44,
   "metadata": {},
   "outputs": [
    {
     "data": {
      "text/plain": [
       "<Figure size 432x288 with 0 Axes>"
      ]
     },
     "metadata": {},
     "output_type": "display_data"
    },
    {
     "data": {
      "image/png": "[encoded data removed]",
      "text/plain": [
       "<Figure size 432x288 with 1 Axes>"
      ]
     },
     "metadata": {
      "needs_background": "light"
     },
     "output_type": "display_data"
    },
    {
     "name": "stdout",
     "output_type": "stream",
     "text": [
      "tensor([0., 1.], dtype=torch.float64)\n"
     ]
    },
    {
     "ename": "KeyError",
     "evalue": "0",
     "output_type": "error",
     "traceback": [
      "\u001b[1;31m---------------------------------------------------------------------------\u001b[0m",
      "\u001b[1;31mKeyError\u001b[0m                                  Traceback (most recent call last)",
      "\u001b[1;32m<ipython-input-44-b665cd1fbdc6>\u001b[0m in \u001b[0;36m<module>\u001b[1;34m\u001b[0m\n\u001b[0;32m      1\u001b[0m \u001b[0mplt\u001b[0m\u001b[1;33m.\u001b[0m\u001b[0mfigure\u001b[0m\u001b[1;33m(\u001b[0m\u001b[1;33m)\u001b[0m\u001b[1;33m\u001b[0m\u001b[0m\n\u001b[1;32m----> 2\u001b[1;33m \u001b[0mshow_batch\u001b[0m\u001b[1;33m(\u001b[0m\u001b[0mbatch_valid\u001b[0m\u001b[1;33m,\u001b[0m\u001b[1;36m21\u001b[0m\u001b[1;33m)\u001b[0m\u001b[1;33m\u001b[0m\u001b[0m\n\u001b[0m\u001b[0;32m      3\u001b[0m \u001b[0mplt\u001b[0m\u001b[1;33m.\u001b[0m\u001b[0maxis\u001b[0m\u001b[1;33m(\u001b[0m\u001b[1;34m'off'\u001b[0m\u001b[1;33m)\u001b[0m\u001b[1;33m\u001b[0m\u001b[0m\n\u001b[0;32m      4\u001b[0m \u001b[0mplt\u001b[0m\u001b[1;33m.\u001b[0m\u001b[0mioff\u001b[0m\u001b[1;33m(\u001b[0m\u001b[1;33m)\u001b[0m\u001b[1;33m\u001b[0m\u001b[0m\n\u001b[0;32m      5\u001b[0m \u001b[0mplt\u001b[0m\u001b[1;33m.\u001b[0m\u001b[0mshow\u001b[0m\u001b[1;33m(\u001b[0m\u001b[1;33m)\u001b[0m\u001b[1;33m\u001b[0m\u001b[0m\n",
      "\u001b[1;32m<ipython-input-42-f90a31b3e068>\u001b[0m in \u001b[0;36mshow_batch\u001b[1;34m(sample_batched, bias_idx)\u001b[0m\n\u001b[0;32m     15\u001b[0m         \u001b[0mplt\u001b[0m\u001b[1;33m.\u001b[0m\u001b[0mshow\u001b[0m\u001b[1;33m(\u001b[0m\u001b[1;33m)\u001b[0m\u001b[1;33m\u001b[0m\u001b[0m\n\u001b[0;32m     16\u001b[0m         \u001b[0mprint\u001b[0m\u001b[1;33m(\u001b[0m\u001b[0mtarget_batch\u001b[0m\u001b[1;33m[\u001b[0m\u001b[0mi\u001b[0m\u001b[1;33m]\u001b[0m\u001b[1;33m)\u001b[0m\u001b[1;33m\u001b[0m\u001b[0m\n\u001b[1;32m---> 17\u001b[1;33m         \u001b[0mlabels_argmax\u001b[0m \u001b[1;33m=\u001b[0m \u001b[0mtorch\u001b[0m\u001b[1;33m.\u001b[0m\u001b[0mmax\u001b[0m\u001b[1;33m(\u001b[0m\u001b[0mget_labels\u001b[0m\u001b[1;33m(\u001b[0m\u001b[0msample_batched\u001b[0m\u001b[1;33m[\u001b[0m\u001b[0mi\u001b[0m\u001b[1;33m]\u001b[0m\u001b[1;33m)\u001b[0m\u001b[1;33m,\u001b[0m \u001b[1;36m1\u001b[0m\u001b[1;33m)\u001b[0m\u001b[1;33m[\u001b[0m\u001b[1;36m1\u001b[0m\u001b[1;33m]\u001b[0m\u001b[1;33m\u001b[0m\u001b[0m\n\u001b[0m\u001b[0;32m     18\u001b[0m         \u001b[0mprint\u001b[0m\u001b[1;33m(\u001b[0m\u001b[0mbias\u001b[0m\u001b[1;33m[\u001b[0m\u001b[0mi\u001b[0m\u001b[1;33m]\u001b[0m\u001b[1;33m)\u001b[0m\u001b[1;33m\u001b[0m\u001b[0m\n\u001b[0;32m     19\u001b[0m         \u001b[0mprint\u001b[0m\u001b[1;33m(\u001b[0m\u001b[0moutput\u001b[0m\u001b[1;33m[\u001b[0m\u001b[1;34m'out'\u001b[0m\u001b[1;33m]\u001b[0m\u001b[1;33m[\u001b[0m\u001b[0mi\u001b[0m\u001b[1;33m]\u001b[0m\u001b[1;33m)\u001b[0m\u001b[1;33m\u001b[0m\u001b[0m\n",
      "\u001b[1;31mKeyError\u001b[0m: 0"
     ]
    }
   ],
   "source": [
    "plt.figure()\n",
    "show_batch(batch_valid,21)\n",
    "plt.axis('off')\n",
    "plt.ioff()\n",
    "plt.show()"
   ]
  },
  {
   "cell_type": "code",
   "execution_count": 50,
   "metadata": {},
   "outputs": [],
   "source": [
    "IMAGE_SHAPE = [73,60,3]\n",
    "# Root directory for dataset\n",
    "dataroot = 'C:\\\\Users\\\\cfthe\\\\OneDrive\\\\DTU\\\\Kandidat\\\\Deep\\\\AlgorithmicFairness'\n",
    "# Paths to data\n",
    "VALID_PATH = dataroot + \"\\\\images_resize\\\\valid.csv\"  \n",
    "IMAGE_PATHS = \"C:\\\\Users\\\\cfthe\\\\OneDrive\\\\DTU\\\\Kandidat\\\\Deep\\\\AlgorithmicFairness\\\\images_resize\"\n",
    "TARGET_COL = 'Smiling' #'Smiling'\n",
    "NUM_CLASSES = 2\n",
    "\n",
    "# valid data\n",
    "data_valid = data_utils.CelebADataset(VALID_PATH,IMAGE_PATHS,IMAGE_SHAPE,TARGET_COL)"
   ]
  },
  {
   "cell_type": "code",
   "execution_count": 51,
   "metadata": {},
   "outputs": [
    {
     "name": "stdout",
     "output_type": "stream",
     "text": [
      "tensor(0.8000)\n"
     ]
    }
   ],
   "source": [
    "batch_gen_valid = DataLoader(data_valid, batch_size, shuffle=True, num_workers=6)\n",
    "with torch.no_grad():\n",
    "    for batch_valid in batch_gen_valid:\n",
    "        output = net(**get_input(batch_valid))\n",
    "        labels_argmax = torch.max(get_labels(batch_valid), 1)[1]\n",
    "        ac = accuracy(output['out'],labels_argmax)\n",
    "        print(ac)"
   ]
  },
  {
   "cell_type": "code",
   "execution_count": 52,
   "metadata": {},
   "outputs": [
    {
     "data": {
      "text/plain": [
       "{'out': tensor([[-1.7870,  1.7862],\n",
       "         [-0.1785,  0.1781],\n",
       "         [-2.7959,  2.7955],\n",
       "         [-3.3320,  3.3327],\n",
       "         [ 1.2387, -1.2403]])}"
      ]
     },
     "execution_count": 52,
     "metadata": {},
     "output_type": "execute_result"
    }
   ],
   "source": [
    "output"
   ]
  },
  {
   "cell_type": "code",
   "execution_count": 53,
   "metadata": {},
   "outputs": [
    {
     "data": {
      "text/plain": [
       "{'file': ['martin.jpg', 'ole.jpg', 'charlotte.jpg', '000108.jpg', 'pratt.jpg'],\n",
       " 'image': tensor([[[[171., 171., 170.,  ..., 214., 216., 218.],\n",
       "           [165., 165., 167.,  ..., 216., 218., 220.],\n",
       "           [160., 160., 162.,  ..., 218., 220., 222.],\n",
       "           ...,\n",
       "           [116., 116., 118.,  ...,  75.,  65.,  71.],\n",
       "           [117., 115., 116.,  ...,  77.,  78.,  82.],\n",
       "           [112., 110., 110.,  ...,  82.,  79.,  80.]],\n",
       " \n",
       "          [[184., 184., 184.,  ..., 224., 226., 228.],\n",
       "           [178., 178., 180.,  ..., 226., 228., 230.],\n",
       "           [170., 173., 175.,  ..., 228., 230., 232.],\n",
       "           ...,\n",
       "           [137., 137., 139.,  ...,  80.,  70.,  76.],\n",
       "           [137., 135., 136.,  ...,  81.,  82.,  86.],\n",
       "           [132., 130., 130.,  ...,  83.,  80.,  84.]],\n",
       " \n",
       "          [[193., 193., 193.,  ..., 234., 236., 238.],\n",
       "           [187., 187., 189.,  ..., 236., 238., 240.],\n",
       "           [180., 182., 184.,  ..., 238., 240., 242.],\n",
       "           ...,\n",
       "           [128., 128., 130.,  ...,  84.,  73.,  79.],\n",
       "           [128., 126., 127.,  ...,  84.,  85.,  89.],\n",
       "           [123., 121., 121.,  ...,  87.,  84.,  87.]]],\n",
       " \n",
       " \n",
       "         [[[ 39.,  41.,  45.,  ...,  20.,  18.,  15.],\n",
       "           [ 39.,  40.,  42.,  ...,  30.,  28.,  25.],\n",
       "           [ 42.,  46.,  44.,  ...,  31.,  30.,  27.],\n",
       "           ...,\n",
       "           [ 58.,  57.,  57.,  ...,  75.,  78.,  79.],\n",
       "           [ 57.,  58.,  58.,  ...,  75.,  78.,  76.],\n",
       "           [ 52.,  53.,  56.,  ...,  72.,  76.,  76.]],\n",
       " \n",
       "          [[ 40.,  42.,  45.,  ...,  19.,  17.,  16.],\n",
       "           [ 40.,  41.,  42.,  ...,  29.,  27.,  26.],\n",
       "           [ 43.,  45.,  43.,  ...,  30.,  29.,  28.],\n",
       "           ...,\n",
       "           [ 53.,  54.,  54.,  ...,  91.,  94.,  95.],\n",
       "           [ 54.,  55.,  55.,  ...,  91.,  94.,  92.],\n",
       "           [ 52.,  53.,  56.,  ...,  88.,  92.,  92.]],\n",
       " \n",
       "          [[ 34.,  36.,  37.,  ...,  15.,  13.,  11.],\n",
       "           [ 34.,  35.,  34.,  ...,  25.,  23.,  21.],\n",
       "           [ 37.,  40.,  38.,  ...,  26.,  25.,  23.],\n",
       "           ...,\n",
       "           [ 49.,  47.,  45.,  ..., 117., 120., 121.],\n",
       "           [ 49.,  48.,  46.,  ..., 117., 120., 118.],\n",
       "           [ 42.,  43.,  46.,  ..., 114., 118., 118.]]],\n",
       " \n",
       " \n",
       "         [[[206., 206., 206.,  ..., 216., 217., 217.],\n",
       "           [206., 206., 206.,  ..., 218., 218., 218.],\n",
       "           [206., 206., 206.,  ..., 218., 218., 218.],\n",
       "           ...,\n",
       "           [176., 171., 168.,  ..., 255., 251., 252.],\n",
       "           [169., 162., 156.,  ..., 246., 255., 254.],\n",
       "           [165., 134., 111.,  ...,  80., 195., 252.]],\n",
       " \n",
       "          [[202., 202., 202.,  ..., 212., 213., 213.],\n",
       "           [202., 202., 202.,  ..., 214., 214., 214.],\n",
       "           [202., 202., 202.,  ..., 214., 214., 214.],\n",
       "           ...,\n",
       "           [170., 161., 152.,  ..., 248., 246., 251.],\n",
       "           [162., 149., 138.,  ..., 230., 248., 251.],\n",
       "           [156., 120.,  91.,  ...,  58., 181., 247.]],\n",
       " \n",
       "          [[191., 191., 191.,  ..., 201., 202., 202.],\n",
       "           [191., 191., 191.,  ..., 203., 203., 203.],\n",
       "           [191., 191., 191.,  ..., 203., 203., 203.],\n",
       "           ...,\n",
       "           [158., 149., 137.,  ..., 243., 242., 246.],\n",
       "           [152., 140., 126.,  ..., 230., 246., 246.],\n",
       "           [149., 111.,  80.,  ...,  61., 181., 244.]]],\n",
       " \n",
       " \n",
       "         [[[102., 107., 123.,  ..., 135., 121., 140.],\n",
       "           [102., 103., 121.,  ..., 134., 120., 139.],\n",
       "           [102., 100., 120.,  ..., 135., 119., 137.],\n",
       "           ...,\n",
       "           [125., 114., 117.,  ..., 178., 195., 225.],\n",
       "           [124., 127., 119.,  ..., 177., 196., 231.],\n",
       "           [118., 117., 118.,  ..., 173., 198., 232.]],\n",
       " \n",
       "          [[ 71.,  76.,  94.,  ..., 110.,  90., 107.],\n",
       "           [ 71.,  74.,  92.,  ..., 109.,  89., 106.],\n",
       "           [ 71.,  71.,  91.,  ..., 110.,  90., 104.],\n",
       "           ...,\n",
       "           [ 28.,  15.,  19.,  ..., 161., 177., 208.],\n",
       "           [ 27.,  30.,  26.,  ..., 160., 178., 213.],\n",
       "           [ 34.,  30.,  29.,  ..., 156., 180., 211.]],\n",
       " \n",
       "          [[ 25.,  32.,  52.,  ...,  80.,  59.,  72.],\n",
       "           [ 25.,  30.,  50.,  ...,  79.,  58.,  71.],\n",
       "           [ 27.,  27.,  51.,  ...,  80.,  58.,  69.],\n",
       "           ...,\n",
       "           [ 21.,  10.,  16.,  ..., 151., 163., 188.],\n",
       "           [ 20.,  24.,  21.,  ..., 150., 164., 193.],\n",
       "           [ 24.,  21.,  23.,  ..., 146., 166., 192.]]],\n",
       " \n",
       " \n",
       "         [[[239., 240., 240.,  ..., 254., 254., 255.],\n",
       "           [240., 240., 240.,  ..., 253., 254., 255.],\n",
       "           [240., 240., 240.,  ..., 253., 253., 254.],\n",
       "           ...,\n",
       "           [191., 122.,  44.,  ...,  24.,  26.,  30.],\n",
       "           [ 48.,  27.,  21.,  ...,  21.,  22.,  24.],\n",
       "           [ 17.,  12.,  16.,  ...,  20.,  20.,  22.]],\n",
       " \n",
       "          [[240., 241., 241.,  ..., 254., 254., 253.],\n",
       "           [241., 241., 241.,  ..., 253., 254., 253.],\n",
       "           [241., 241., 241.,  ..., 253., 253., 252.],\n",
       "           ...,\n",
       "           [194., 125.,  48.,  ...,  30.,  32.,  36.],\n",
       "           [ 52.,  31.,  25.,  ...,  28.,  29.,  31.],\n",
       "           [ 24.,  19.,  23.,  ...,  28.,  28.,  30.]],\n",
       " \n",
       "          [[244., 245., 245.,  ..., 255., 255., 254.],\n",
       "           [245., 245., 245.,  ..., 255., 255., 255.],\n",
       "           [245., 245., 245.,  ..., 255., 255., 255.],\n",
       "           ...,\n",
       "           [203., 134.,  57.,  ...,  52.,  54.,  60.],\n",
       "           [ 61.,  42.,  36.,  ...,  44.,  45.,  47.],\n",
       "           [ 34.,  29.,  33.,  ...,  41.,  41.,  43.]]]]),\n",
       " 'target': tensor([[0., 1.],\n",
       "         [0., 1.],\n",
       "         [0., 1.],\n",
       "         [0., 1.],\n",
       "         [0., 1.]], dtype=torch.float64),\n",
       " 'attributes': tensor([[1., 1., 1., 1., 1., 1., 1., 1., 1., 1., 1., 1., 1., 1., 1., 1., 1., 1.,\n",
       "          1., 1., 1., 1., 1., 1., 1., 1., 1., 1., 1., 1., 1., 1., 1., 1., 1., 1.,\n",
       "          1., 1., 1.],\n",
       "         [1., 1., 1., 1., 1., 1., 1., 1., 1., 1., 1., 1., 1., 1., 1., 1., 1., 1.,\n",
       "          1., 1., 1., 1., 1., 1., 1., 1., 1., 1., 1., 1., 1., 1., 1., 1., 1., 1.,\n",
       "          1., 1., 1.],\n",
       "         [1., 1., 1., 1., 1., 1., 1., 1., 1., 1., 1., 1., 1., 1., 1., 1., 1., 1.,\n",
       "          1., 1., 1., 1., 1., 1., 1., 1., 1., 1., 1., 1., 1., 1., 1., 1., 1., 1.,\n",
       "          1., 1., 1.],\n",
       "         [1., 1., 1., 1., 1., 1., 1., 1., 1., 1., 1., 1., 1., 1., 1., 1., 1., 1.,\n",
       "          1., 1., 1., 1., 1., 1., 1., 1., 1., 1., 1., 1., 1., 1., 1., 1., 1., 1.,\n",
       "          1., 1., 1.],\n",
       "         [1., 1., 1., 1., 1., 1., 1., 1., 1., 1., 1., 1., 1., 1., 1., 1., 1., 1.,\n",
       "          1., 1., 1., 1., 1., 1., 1., 1., 1., 1., 1., 1., 1., 1., 1., 1., 1., 1.,\n",
       "          1., 1., 1.]], dtype=torch.float64)}"
      ]
     },
     "execution_count": 53,
     "metadata": {},
     "output_type": "execute_result"
    }
   ],
   "source": [
    "batch_valid"
   ]
  },
  {
   "cell_type": "code",
   "execution_count": null,
   "metadata": {},
   "outputs": [],
   "source": []
  }
 ],
 "metadata": {
  "kernelspec": {
   "display_name": "Python 3",
   "language": "python",
   "name": "python3"
  },
  "language_info": {
   "codemirror_mode": {
    "name": "ipython",
    "version": 3
   },
   "file_extension": ".py",
   "mimetype": "text/x-python",
   "name": "python",
   "nbconvert_exporter": "python",
   "pygments_lexer": "ipython3",
   "version": "3.6.5"
  }
 },
 "nbformat": 4,
 "nbformat_minor": 2
}
