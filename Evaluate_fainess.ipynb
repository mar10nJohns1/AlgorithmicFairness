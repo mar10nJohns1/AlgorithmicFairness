{
 "cells": [
  {
   "cell_type": "code",
   "execution_count": 1,
   "metadata": {},
   "outputs": [],
   "source": [
    "from __future__ import print_function\n",
    "#%matplotlib inline\n",
    "import argparse\n",
    "import torch\n",
    "import torch.nn as nn\n",
    "import torch.nn.parallel\n",
    "import torch.backends.cudnn as cudnn\n",
    "import torch.optim as optim\n",
    "import torch.utils.data\n",
    "import torchvision.datasets as dset\n",
    "import torchvision.transforms as transforms\n",
    "import torchvision.utils as vutils\n",
    "import numpy as np\n",
    "import matplotlib.pyplot as plt\n",
    "import matplotlib.animation as animation\n",
    "import seaborn as sns\n",
    "from IPython.display import HTML\n",
    "import pandas as pd\n",
    "import data_utils.data_utils_celeba_pytorch5 as data_utils\n",
    "import data_utils.network_tuning_valid as network_tuning\n",
    "from IPython.display import clear_output\n",
    "from skimage.io import imread\n",
    "from skimage.transform import resize\n",
    "from torch.utils.data import Dataset, DataLoader\n",
    "from torchvision import transforms, utils\n",
    "import pandas as pd\n",
    "import pickle\n",
    "# Load functions\n",
    "from torch.autograd import Variable\n",
    "import torch.nn as nn\n",
    "import torch.optim as optim\n",
    "from torch.nn import Linear, GRU, Conv2d, Dropout2d, MaxPool2d, BatchNorm2d\n",
    "from torch.nn.functional import relu, elu, relu6, sigmoid, tanh, softmax"
   ]
  },
  {
   "cell_type": "code",
   "execution_count": 2,
   "metadata": {},
   "outputs": [],
   "source": [
    "IMAGE_SHAPE = [73,60,3]\n",
    "# Root directory for dataset\n",
    "dataroot = 'C:\\\\Users\\\\cfthe\\\\OneDrive\\\\DTU\\\\Kandidat\\\\Deep\\\\AlgorithmicFairness'\n",
    "# Paths to data\n",
    "VALID_PATH = dataroot + \"\\\\data\\\\valid.csv\" \n",
    "TEST_PATH = dataroot + \"\\\\data\\\\test.csv\"  \n",
    "IMAGE_PATHS = \"C:\\\\Users\\\\cfthe\\\\OneDrive\\\\DTU\\\\Kandidat\\\\Deep\\\\celebA_resize3\"\n",
    "TARGET_COL = 'Smiling' #'Smiling'\n",
    "NUM_CLASSES = 2\n",
    "\n",
    "# valid data\n",
    "data_test = data_utils.CelebADataset(TEST_PATH,IMAGE_PATHS,IMAGE_SHAPE,TARGET_COL)"
   ]
  },
  {
   "cell_type": "code",
   "execution_count": 3,
   "metadata": {
    "scrolled": true
   },
   "outputs": [],
   "source": [
    "attributes = pd.read_csv('C:\\\\Users\\\\cfthe\\\\OneDrive\\\\DTU\\\\Kandidat\\\\Deep\\\\AlgorithmicFairness\\\\Data\\\\list_attr_celeba.txt', sep=\" \")\n",
    "attributes.drop('Unnamed: 41',axis=1, inplace=True)\n",
    "partition = pd.read_csv('C:\\\\Users\\\\cfthe\\\\OneDrive\\\\DTU\\\\Kandidat\\\\Deep\\\\list_eval_partition.txt', sep=\" \", header=None, names=['im_id','partition'])\n",
    "matched = attributes.set_index('im_id').join(partition.set_index('im_id')).replace(-1,0)\n",
    "\n",
    "test_df = matched[matched['partition']==2]"
   ]
  },
  {
   "cell_type": "code",
   "execution_count": 4,
   "metadata": {},
   "outputs": [
    {
     "name": "stdout",
     "output_type": "stream",
     "text": [
      "No GPU available.\n"
     ]
    }
   ],
   "source": [
    "use_cuda = torch.cuda.is_available()\n",
    "print(\"Running GPU.\") if use_cuda else print(\"No GPU available.\")\n",
    "\n",
    "\n",
    "def get_variable(x):\n",
    "    \"\"\" Converts tensors to cuda, if available. \"\"\"\n",
    "    if use_cuda:\n",
    "        return x.cuda()\n",
    "    return x\n",
    "\n",
    "\n",
    "def get_numpy(x):\n",
    "    \"\"\" Get numpy array for both cuda and not. \"\"\"\n",
    "    if use_cuda:\n",
    "        return x.cpu().data.numpy()\n",
    "    return x.data.numpy()"
   ]
  },
  {
   "cell_type": "code",
   "execution_count": 5,
   "metadata": {},
   "outputs": [],
   "source": [
    "criterion = nn.CrossEntropyLoss()          #<-- Your code here.   \n",
    "\n",
    "def accuracy(ys, ts):\n",
    "    predictions = torch.max(ys, 1)[1]\n",
    "    correct_prediction = torch.eq(predictions, ts)\n",
    "    return torch.mean(correct_prediction.float())"
   ]
  },
  {
   "cell_type": "code",
   "execution_count": 6,
   "metadata": {},
   "outputs": [],
   "source": [
    "# Function to get label\n",
    "def get_labels(batch):\n",
    "    return get_variable(Variable(batch['target']))\n",
    "\n",
    "# Function to get input\n",
    "def get_input(batch):\n",
    "    return {\n",
    "        'x_img': get_variable(Variable(batch['image']))\n",
    "    }"
   ]
  },
  {
   "cell_type": "code",
   "execution_count": 7,
   "metadata": {},
   "outputs": [],
   "source": [
    "# Read dataframe with training metrics\n",
    "df = pd.read_pickle('models\\\\aws_models\\\\run2__df.pkl') #e.g. pd.read_pickle('df.pkl')"
   ]
  },
  {
   "cell_type": "code",
   "execution_count": 8,
   "metadata": {},
   "outputs": [
    {
     "data": {
      "text/html": [
       "<div>\n",
       "<style scoped>\n",
       "    .dataframe tbody tr th:only-of-type {\n",
       "        vertical-align: middle;\n",
       "    }\n",
       "\n",
       "    .dataframe tbody tr th {\n",
       "        vertical-align: top;\n",
       "    }\n",
       "\n",
       "    .dataframe thead th {\n",
       "        text-align: right;\n",
       "    }\n",
       "</style>\n",
       "<table border=\"1\" class=\"dataframe\">\n",
       "  <thead>\n",
       "    <tr style=\"text-align: right;\">\n",
       "      <th></th>\n",
       "      <th>layers</th>\n",
       "      <th>activations</th>\n",
       "      <th>conv_out_channels</th>\n",
       "      <th>kernel_size</th>\n",
       "      <th>conv_stride</th>\n",
       "      <th>maxpool</th>\n",
       "      <th>dropout</th>\n",
       "      <th>batchnorm</th>\n",
       "      <th>optimizer</th>\n",
       "      <th>learning_rate</th>\n",
       "      <th>weight_decay</th>\n",
       "      <th>batch_size</th>\n",
       "      <th>num_epochs</th>\n",
       "      <th>net</th>\n",
       "      <th>train_loss</th>\n",
       "      <th>train_accs</th>\n",
       "      <th>valid_train_loss</th>\n",
       "      <th>valid_train_accs</th>\n",
       "      <th>valid_loss</th>\n",
       "      <th>valid_accs</th>\n",
       "    </tr>\n",
       "  </thead>\n",
       "  <tbody>\n",
       "    <tr>\n",
       "      <td>1</td>\n",
       "      <td>2</td>\n",
       "      <td>[&lt;function relu at 0x000001C6ADF92E18&gt;, &lt;built...</td>\n",
       "      <td>32</td>\n",
       "      <td>5</td>\n",
       "      <td>1</td>\n",
       "      <td>2</td>\n",
       "      <td>0.2</td>\n",
       "      <td>True</td>\n",
       "      <td>Adam</td>\n",
       "      <td>0.001</td>\n",
       "      <td>0.01</td>\n",
       "      <td>128</td>\n",
       "      <td>5</td>\n",
       "      <td>run2__model1</td>\n",
       "      <td>[0.787320077419281, 1.2756198644638062, 0.6986...</td>\n",
       "      <td>[0.3984375, 0.546875, 0.7109375, 0.671875, 0.6...</td>\n",
       "      <td>[0.7255932688713074, 0.27513042092323303, 0.24...</td>\n",
       "      <td>[0.5130618810653687, 0.8896159529685974, 0.895...</td>\n",
       "      <td>0.207665</td>\n",
       "      <td>0.910455</td>\n",
       "    </tr>\n",
       "    <tr>\n",
       "      <td>2</td>\n",
       "      <td>2</td>\n",
       "      <td>[&lt;function relu at 0x000001C6ADF92E18&gt;, &lt;funct...</td>\n",
       "      <td>32</td>\n",
       "      <td>5</td>\n",
       "      <td>1</td>\n",
       "      <td>2</td>\n",
       "      <td>0.2</td>\n",
       "      <td>True</td>\n",
       "      <td>Adam</td>\n",
       "      <td>0.001</td>\n",
       "      <td>0.01</td>\n",
       "      <td>128</td>\n",
       "      <td>5</td>\n",
       "      <td>run2__model2</td>\n",
       "      <td>[0.7270410656929016, 1.192880392074585, 0.9200...</td>\n",
       "      <td>[0.46875, 0.546875, 0.609375, 0.6171875, 0.710...</td>\n",
       "      <td>[5.199552536010742, 0.27074000239372253, 0.254...</td>\n",
       "      <td>[0.5176926255226135, 0.8867971897125244, 0.894...</td>\n",
       "      <td>0.199299</td>\n",
       "      <td>0.91574</td>\n",
       "    </tr>\n",
       "    <tr>\n",
       "      <td>3</td>\n",
       "      <td>2</td>\n",
       "      <td>[&lt;function relu at 0x000001C6ADF92E18&gt;, &lt;funct...</td>\n",
       "      <td>64</td>\n",
       "      <td>5</td>\n",
       "      <td>1</td>\n",
       "      <td>2</td>\n",
       "      <td>0.8</td>\n",
       "      <td>True</td>\n",
       "      <td>Adam</td>\n",
       "      <td>0.001</td>\n",
       "      <td>0.10</td>\n",
       "      <td>128</td>\n",
       "      <td>5</td>\n",
       "      <td>run2__model3</td>\n",
       "      <td>[0.8246510624885559, 1.9678641557693481, 1.537...</td>\n",
       "      <td>[0.4140625, 0.5078125, 0.53125, 0.609375, 0.59...</td>\n",
       "      <td>[3.5466063022613525, 0.37123364210128784, 0.27...</td>\n",
       "      <td>[0.4940856695175171, 0.8414456248283386, 0.881...</td>\n",
       "      <td>0.291153</td>\n",
       "      <td>0.89017</td>\n",
       "    </tr>\n",
       "    <tr>\n",
       "      <td>4</td>\n",
       "      <td>2</td>\n",
       "      <td>[&lt;function relu at 0x000001C6ADF92E18&gt;, &lt;funct...</td>\n",
       "      <td>32</td>\n",
       "      <td>5</td>\n",
       "      <td>1</td>\n",
       "      <td>2</td>\n",
       "      <td>0.2</td>\n",
       "      <td>True</td>\n",
       "      <td>Adam</td>\n",
       "      <td>0.001</td>\n",
       "      <td>0.01</td>\n",
       "      <td>128</td>\n",
       "      <td>5</td>\n",
       "      <td>run2__model4</td>\n",
       "      <td>[0.852070152759552, 0.7770803570747375, 0.7371...</td>\n",
       "      <td>[0.390625, 0.6328125, 0.6484375, 0.6171875, 0....</td>\n",
       "      <td>[2.5280070304870605, 0.27008363604545593, 0.23...</td>\n",
       "      <td>[0.46172043681144714, 0.8894146084785461, 0.89...</td>\n",
       "      <td>0.208755</td>\n",
       "      <td>0.913626</td>\n",
       "    </tr>\n",
       "    <tr>\n",
       "      <td>5</td>\n",
       "      <td>3</td>\n",
       "      <td>[&lt;function relu at 0x000001C6ADF92E18&gt;, &lt;funct...</td>\n",
       "      <td>32</td>\n",
       "      <td>5</td>\n",
       "      <td>1</td>\n",
       "      <td>2</td>\n",
       "      <td>0.2</td>\n",
       "      <td>True</td>\n",
       "      <td>Adam</td>\n",
       "      <td>0.001</td>\n",
       "      <td>0.01</td>\n",
       "      <td>128</td>\n",
       "      <td>5</td>\n",
       "      <td>run2__model5</td>\n",
       "      <td>[0.8077120780944824, 1.0716813802719116, 1.078...</td>\n",
       "      <td>[0.453125, 0.6484375, 0.6171875, 0.609375, 0.7...</td>\n",
       "      <td>[0.834692120552063, 0.2967720031738281, 0.2535...</td>\n",
       "      <td>[0.515125572681427, 0.8718478083610535, 0.8921...</td>\n",
       "      <td>0.204349</td>\n",
       "      <td>0.914632</td>\n",
       "    </tr>\n",
       "    <tr>\n",
       "      <td>6</td>\n",
       "      <td>4</td>\n",
       "      <td>[&lt;function relu at 0x000001C6ADF92E18&gt;, &lt;funct...</td>\n",
       "      <td>16</td>\n",
       "      <td>5</td>\n",
       "      <td>1</td>\n",
       "      <td>2</td>\n",
       "      <td>0.2</td>\n",
       "      <td>True</td>\n",
       "      <td>Adam</td>\n",
       "      <td>0.001</td>\n",
       "      <td>0.01</td>\n",
       "      <td>128</td>\n",
       "      <td>5</td>\n",
       "      <td>run2__model6</td>\n",
       "      <td>[0.7874405384063721, 0.8448547720909119, 0.667...</td>\n",
       "      <td>[0.4375, 0.5859375, 0.6484375, 0.640625, 0.648...</td>\n",
       "      <td>[0.7212352156639099, 0.2527103126049042, 0.226...</td>\n",
       "      <td>[0.48104897141456604, 0.8892635703086853, 0.90...</td>\n",
       "      <td>0.22052</td>\n",
       "      <td>0.906075</td>\n",
       "    </tr>\n",
       "    <tr>\n",
       "      <td>7</td>\n",
       "      <td>3</td>\n",
       "      <td>[&lt;function relu at 0x000001C6ADF92E18&gt;, &lt;funct...</td>\n",
       "      <td>32</td>\n",
       "      <td>5</td>\n",
       "      <td>1</td>\n",
       "      <td>2</td>\n",
       "      <td>0.2</td>\n",
       "      <td>True</td>\n",
       "      <td>Adam</td>\n",
       "      <td>0.001</td>\n",
       "      <td>0.01</td>\n",
       "      <td>128</td>\n",
       "      <td>5</td>\n",
       "      <td>run2__model7</td>\n",
       "      <td>[0.7538514733314514, 1.1628611087799072, 1.195...</td>\n",
       "      <td>[0.484375, 0.65625, 0.5859375, 0.65625, 0.6328...</td>\n",
       "      <td>[1.578385353088379, 0.25720539689064026, 0.262...</td>\n",
       "      <td>[0.479337602853775, 0.8903709650039673, 0.8862...</td>\n",
       "      <td>0.211087</td>\n",
       "      <td>0.912267</td>\n",
       "    </tr>\n",
       "    <tr>\n",
       "      <td>8</td>\n",
       "      <td>4</td>\n",
       "      <td>[&lt;function relu at 0x000001C6ADF92E18&gt;, &lt;funct...</td>\n",
       "      <td>16</td>\n",
       "      <td>5</td>\n",
       "      <td>1</td>\n",
       "      <td>2</td>\n",
       "      <td>0.2</td>\n",
       "      <td>True</td>\n",
       "      <td>Adam</td>\n",
       "      <td>0.001</td>\n",
       "      <td>0.01</td>\n",
       "      <td>128</td>\n",
       "      <td>5</td>\n",
       "      <td>run2__model8</td>\n",
       "      <td>[0.7434457540512085, 1.2706197500228882, 0.632...</td>\n",
       "      <td>[0.5859375, 0.5078125, 0.7109375, 0.6640625, 0...</td>\n",
       "      <td>[2.1032886505126953, 0.23763082921504974, 0.23...</td>\n",
       "      <td>[0.48497506976127625, 0.8982231616973877, 0.89...</td>\n",
       "      <td>0.206461</td>\n",
       "      <td>0.911864</td>\n",
       "    </tr>\n",
       "  </tbody>\n",
       "</table>\n",
       "</div>"
      ],
      "text/plain": [
       "   layers                                        activations  \\\n",
       "1       2  [<function relu at 0x000001C6ADF92E18>, <built...   \n",
       "2       2  [<function relu at 0x000001C6ADF92E18>, <funct...   \n",
       "3       2  [<function relu at 0x000001C6ADF92E18>, <funct...   \n",
       "4       2  [<function relu at 0x000001C6ADF92E18>, <funct...   \n",
       "5       3  [<function relu at 0x000001C6ADF92E18>, <funct...   \n",
       "6       4  [<function relu at 0x000001C6ADF92E18>, <funct...   \n",
       "7       3  [<function relu at 0x000001C6ADF92E18>, <funct...   \n",
       "8       4  [<function relu at 0x000001C6ADF92E18>, <funct...   \n",
       "\n",
       "   conv_out_channels  kernel_size  conv_stride  maxpool  dropout  batchnorm  \\\n",
       "1                 32            5            1        2      0.2       True   \n",
       "2                 32            5            1        2      0.2       True   \n",
       "3                 64            5            1        2      0.8       True   \n",
       "4                 32            5            1        2      0.2       True   \n",
       "5                 32            5            1        2      0.2       True   \n",
       "6                 16            5            1        2      0.2       True   \n",
       "7                 32            5            1        2      0.2       True   \n",
       "8                 16            5            1        2      0.2       True   \n",
       "\n",
       "  optimizer  learning_rate  weight_decay  batch_size  num_epochs  \\\n",
       "1      Adam          0.001          0.01         128           5   \n",
       "2      Adam          0.001          0.01         128           5   \n",
       "3      Adam          0.001          0.10         128           5   \n",
       "4      Adam          0.001          0.01         128           5   \n",
       "5      Adam          0.001          0.01         128           5   \n",
       "6      Adam          0.001          0.01         128           5   \n",
       "7      Adam          0.001          0.01         128           5   \n",
       "8      Adam          0.001          0.01         128           5   \n",
       "\n",
       "            net                                         train_loss  \\\n",
       "1  run2__model1  [0.787320077419281, 1.2756198644638062, 0.6986...   \n",
       "2  run2__model2  [0.7270410656929016, 1.192880392074585, 0.9200...   \n",
       "3  run2__model3  [0.8246510624885559, 1.9678641557693481, 1.537...   \n",
       "4  run2__model4  [0.852070152759552, 0.7770803570747375, 0.7371...   \n",
       "5  run2__model5  [0.8077120780944824, 1.0716813802719116, 1.078...   \n",
       "6  run2__model6  [0.7874405384063721, 0.8448547720909119, 0.667...   \n",
       "7  run2__model7  [0.7538514733314514, 1.1628611087799072, 1.195...   \n",
       "8  run2__model8  [0.7434457540512085, 1.2706197500228882, 0.632...   \n",
       "\n",
       "                                          train_accs  \\\n",
       "1  [0.3984375, 0.546875, 0.7109375, 0.671875, 0.6...   \n",
       "2  [0.46875, 0.546875, 0.609375, 0.6171875, 0.710...   \n",
       "3  [0.4140625, 0.5078125, 0.53125, 0.609375, 0.59...   \n",
       "4  [0.390625, 0.6328125, 0.6484375, 0.6171875, 0....   \n",
       "5  [0.453125, 0.6484375, 0.6171875, 0.609375, 0.7...   \n",
       "6  [0.4375, 0.5859375, 0.6484375, 0.640625, 0.648...   \n",
       "7  [0.484375, 0.65625, 0.5859375, 0.65625, 0.6328...   \n",
       "8  [0.5859375, 0.5078125, 0.7109375, 0.6640625, 0...   \n",
       "\n",
       "                                    valid_train_loss  \\\n",
       "1  [0.7255932688713074, 0.27513042092323303, 0.24...   \n",
       "2  [5.199552536010742, 0.27074000239372253, 0.254...   \n",
       "3  [3.5466063022613525, 0.37123364210128784, 0.27...   \n",
       "4  [2.5280070304870605, 0.27008363604545593, 0.23...   \n",
       "5  [0.834692120552063, 0.2967720031738281, 0.2535...   \n",
       "6  [0.7212352156639099, 0.2527103126049042, 0.226...   \n",
       "7  [1.578385353088379, 0.25720539689064026, 0.262...   \n",
       "8  [2.1032886505126953, 0.23763082921504974, 0.23...   \n",
       "\n",
       "                                    valid_train_accs valid_loss valid_accs  \n",
       "1  [0.5130618810653687, 0.8896159529685974, 0.895...   0.207665   0.910455  \n",
       "2  [0.5176926255226135, 0.8867971897125244, 0.894...   0.199299    0.91574  \n",
       "3  [0.4940856695175171, 0.8414456248283386, 0.881...   0.291153    0.89017  \n",
       "4  [0.46172043681144714, 0.8894146084785461, 0.89...   0.208755   0.913626  \n",
       "5  [0.515125572681427, 0.8718478083610535, 0.8921...   0.204349   0.914632  \n",
       "6  [0.48104897141456604, 0.8892635703086853, 0.90...    0.22052   0.906075  \n",
       "7  [0.479337602853775, 0.8903709650039673, 0.8862...   0.211087   0.912267  \n",
       "8  [0.48497506976127625, 0.8982231616973877, 0.89...   0.206461   0.911864  "
      ]
     },
     "execution_count": 8,
     "metadata": {},
     "output_type": "execute_result"
    }
   ],
   "source": [
    "df"
   ]
  },
  {
   "cell_type": "code",
   "execution_count": 9,
   "metadata": {
    "scrolled": true
   },
   "outputs": [
    {
     "data": {
      "text/plain": [
       "[<matplotlib.lines.Line2D at 0x1c6b4c7e710>]"
      ]
     },
     "execution_count": 9,
     "metadata": {},
     "output_type": "execute_result"
    },
    {
     "data": {
      "image/png": "[encoded data removed]",
      "text/plain": [
       "<Figure size 1080x360 with 1 Axes>"
      ]
     },
     "metadata": {
      "needs_background": "light"
     },
     "output_type": "display_data"
    }
   ],
   "source": [
    "plt.figure(figsize=(15,5))\n",
    "plt.plot(df.loc[2,'train_accs'])\n",
    "ind = [300*i for i in range(0,22)]\n",
    "plt.plot(ind,df.loc[2,'valid_train_accs'])"
   ]
  },
  {
   "cell_type": "code",
   "execution_count": 10,
   "metadata": {},
   "outputs": [
    {
     "data": {
      "text/plain": [
       "\"i=2\\nprint('Model: ', i)\\nlayers = df['layers']\\nactivations = df['activations']\\nconv_out_channels = df['conv_out_channels']\\nkernel_size = df['kernel_size']\\nconv_stride = df['conv_stride']\\nmaxpool = int(df['maxpool'])\\ndropout = df['dropout']\\nbatchnorm = df['batchnorm']\\noptimizer = df['optimizer']\\nlearning_rate = df['learning_rate']\\nweight_decay = df['weight_decay']\\nbatch_size = int(df['batch_size'])\\nnum_epochs = df['num_epochs']\\n\\nnet = network_tuning.tune_architecture(layers, activations, IMAGE_SHAPE, conv_out_channels, kernel_size,conv_stride, maxpool, dropout, batchnorm)\""
      ]
     },
     "execution_count": 10,
     "metadata": {},
     "output_type": "execute_result"
    }
   ],
   "source": [
    "'''i=2\n",
    "print('Model: ', i)\n",
    "layers = df['layers']\n",
    "activations = df['activations']\n",
    "conv_out_channels = df['conv_out_channels']\n",
    "kernel_size = df['kernel_size']\n",
    "conv_stride = df['conv_stride']\n",
    "maxpool = int(df['maxpool'])\n",
    "dropout = df['dropout']\n",
    "batchnorm = df['batchnorm']\n",
    "optimizer = df['optimizer']\n",
    "learning_rate = df['learning_rate']\n",
    "weight_decay = df['weight_decay']\n",
    "batch_size = int(df['batch_size'])\n",
    "num_epochs = df['num_epochs']\n",
    "\n",
    "net = network_tuning.tune_architecture(layers, activations, IMAGE_SHAPE, conv_out_channels, kernel_size,conv_stride, maxpool, dropout, batchnorm)'''"
   ]
  },
  {
   "cell_type": "code",
   "execution_count": 11,
   "metadata": {
    "scrolled": true
   },
   "outputs": [],
   "source": [
    "# Change i to the model number you want to load\n",
    "i = 2\n",
    "IMAGE_SHAPE = [73,60,3]\n",
    "layers = df.loc[i,'layers']\n",
    "activations = df.loc[i,'activations']\n",
    "conv_out_channels = df.loc[i,'conv_out_channels']\n",
    "kernel_size = df.loc[i,'kernel_size']\n",
    "conv_stride = df.loc[i,'conv_stride']\n",
    "maxpool = int(df.loc[i,'maxpool'])\n",
    "dropout = df.loc[i,'dropout']\n",
    "batchnorm = df.loc[i,'batchnorm']\n",
    "optimizer = df.loc[i,'optimizer']\n",
    "learning_rate = df.loc[i,'learning_rate']\n",
    "weight_decay = df.loc[i,'weight_decay']\n",
    "batch_size = int(df.loc[i,'batch_size'])\n",
    "num_epochs = df.loc[i,'num_epochs']\n",
    "\n",
    "net = network_tuning.tune_architecture(layers, activations, IMAGE_SHAPE, conv_out_channels, kernel_size,conv_stride, maxpool, dropout, batchnorm)"
   ]
  },
  {
   "cell_type": "code",
   "execution_count": 12,
   "metadata": {},
   "outputs": [
    {
     "data": {
      "text/plain": [
       "Net(\n",
       "  (conv_1): Conv2d(3, 32, kernel_size=(5, 5), stride=(1, 1))\n",
       "  (batch1): BatchNorm2d(32, eps=1e-05, momentum=0.1, affine=True, track_running_stats=True)\n",
       "  (conv_2): Conv2d(32, 64, kernel_size=(5, 5), stride=(1, 1))\n",
       "  (batch2): BatchNorm2d(64, eps=1e-05, momentum=0.1, affine=True, track_running_stats=True)\n",
       "  (pool): MaxPool2d(kernel_size=2, stride=2, padding=0, dilation=1, ceil_mode=False)\n",
       "  (dropout): Dropout2d(p=0.2, inplace=False)\n",
       "  (l_out): Linear(in_features=11520, out_features=2, bias=False)\n",
       ")"
      ]
     },
     "execution_count": 12,
     "metadata": {},
     "output_type": "execute_result"
    }
   ],
   "source": [
    "# Load network, choose the model i\n",
    "net.load_state_dict(torch.load('models\\\\aws_models\\\\run2__model2.dms',map_location=torch.device('cpu'))) # e.g. net.load_state_dict(torch.load('model1'))\n",
    "net.eval()"
   ]
  },
  {
   "cell_type": "code",
   "execution_count": 13,
   "metadata": {},
   "outputs": [],
   "source": [
    "#dataframe for saving predictions\n",
    "test_predictions = test_df.astype(object)\n",
    "test_predictions.loc[:,'target'] = test_predictions.loc[:,'Smiling']\n",
    "test_predictions.drop(['Smiling','partition'],axis=1)\n",
    "test_predictions['output'] = np.nan\n",
    "test_predictions['labels_argmax'] = np.nan\n",
    "test_predictions['accuracy'] = np.nan\n",
    "test_predictions['criterion'] = np.nan"
   ]
  },
  {
   "cell_type": "code",
   "execution_count": 14,
   "metadata": {},
   "outputs": [],
   "source": [
    "#calculation predictions on the validation set\n",
    "batch_gen_test = DataLoader(data_test, batch_size, shuffle=True, num_workers=6)\n",
    "test_1_losses,test_1_accs,test_1_lengths,test_0_losses,test_0_accs,test_0_lengths = 0, 0, 0, 0, 0, 0\n",
    "test_predictions = test_predictions.astype(object)\n",
    "j=0\n",
    "with torch.no_grad():\n",
    "    for batch_test in batch_gen_test:\n",
    "        \n",
    "        output = net(**get_input(batch_test))\n",
    "        labels_argmax = torch.max(get_labels(batch_test), 1)[1]\n",
    "        j+=1\n",
    "        for i in range(len(batch_test['file'])):\n",
    "            #plt.figure()\n",
    "            #plt.imshow(np.transpose(vutils.make_grid(batch_valid['image'][i], padding=2,normalize=True).cpu(),(1,2,0)))\n",
    "            #plt.axis('off')\n",
    "            #plt.ioff()\n",
    "            #plt.show()\n",
    "            #print('True Label: ',labels_argmax[i]) \n",
    "            #print('Model output: ', output['out'][i])\n",
    "            #print('File name: ', batch_valid['file'][i])\n",
    "            test_predictions.at[batch_test['file'][i],'output'] = output['out'][i]\n",
    "            test_predictions.at[batch_test['file'][i],'labels_argmax'] = labels_argmax[i]\n",
    "            test_predictions.at[batch_test['file'][i],'accuracy'] = accuracy(output['out'][i:i+1],labels_argmax[i:i+1])\n",
    "            test_predictions.at[batch_test['file'][i],'criterion'] = criterion(output['out'][i:i+1],labels_argmax[i:i+1])"
   ]
  },
  {
   "cell_type": "code",
   "execution_count": 15,
   "metadata": {},
   "outputs": [
    {
     "data": {
      "text/plain": [
       "0.9153391443743112"
      ]
     },
     "execution_count": 15,
     "metadata": {},
     "output_type": "execute_result"
    }
   ],
   "source": [
    "# Should be equalt to validation accuracy in df\n",
    "np.mean(test_predictions['accuracy'])"
   ]
  },
  {
   "cell_type": "code",
   "execution_count": null,
   "metadata": {},
   "outputs": [],
   "source": [
    "#calculating accuracies for all protected attributes\n",
    "attributes = matched.iloc[:,0:-1].drop('Smiling',axis=1).columns\n",
    "df_att = pd.DataFrame(index = attributes, columns=['test_1_loss','test_1_acc','test_0_loss','test_0_acc','test_1_FP','test_1_TP','test_0_FP','test_0_TP','test_1_FN','test_0_FN','test_1_TN','test_0_TN'])\n",
    "batch_gen_test = DataLoader(data_test, batch_size, shuffle=True, num_workers=6)\n",
    "for att in range(0,len(attributes)):\n",
    "    print(attributes[att])\n",
    "    \n",
    "    att_ = test_predictions.iloc[:][attributes[att]]\n",
    "    t_ = test_predictions.iloc[:]['target']\n",
    "    \n",
    "    att_1 = np.where(att_==1)\n",
    "    att_0 = np.where(att_==0)\n",
    "    \n",
    "    att_1_t_1 = np.where((att_==1) & (t_==1))\n",
    "    att_0_t_1 = np.where((att_==0) & (t_==1))\n",
    "    att_1_t_0 = np.where((att_==1) & (t_==0))\n",
    "    att_0_t_0 = np.where((att_==0) & (t_==0))\n",
    "    \n",
    "    df_att.iloc[att]['test_1_loss'] = np.mean(test_predictions.iloc[att_1]['criterion'])\n",
    "    df_att.iloc[att]['test_1_acc'] = np.mean(test_predictions.iloc[att_1]['accuracy'])\n",
    "    df_att.iloc[att]['test_0_loss'] = np.mean(test_predictions.iloc[att_0]['criterion'])\n",
    "    df_att.iloc[att]['test_0_acc'] = np.mean(test_predictions.iloc[att_0]['accuracy'])\n",
    "    df_att.iloc[att]['test_1_FP'] = 1-np.mean(test_predictions.iloc[att_1_t_0]['accuracy'])\n",
    "    df_att.iloc[att]['test_0_FP'] = 1-np.mean(test_predictions.iloc[att_0_t_0]['accuracy'])\n",
    "    df_att.iloc[att]['test_1_TP'] = np.mean(test_predictions.iloc[att_1_t_1]['accuracy'])\n",
    "    df_att.iloc[att]['test_0_TP'] = np.mean(test_predictions.iloc[att_0_t_1]['accuracy'])\n",
    "    df_att.iloc[att]['test_1_FN'] = 1-np.mean(test_predictions.iloc[att_1_t_1]['accuracy'])\n",
    "    df_att.iloc[att]['test_0_FN'] = 1-np.mean(test_predictions.iloc[att_0_t_1]['accuracy'])\n",
    "    df_att.iloc[att]['test_1_TN'] = np.mean(test_predictions.iloc[att_1_t_0]['accuracy'])\n",
    "    df_att.iloc[att]['test_0_TN'] = np.mean(test_predictions.iloc[att_0_t_0]['accuracy'])"
   ]
  },
  {
   "cell_type": "code",
   "execution_count": 115,
   "metadata": {},
   "outputs": [],
   "source": [
    "df_att['TP_OR'] = df_att['test_1_TP'] /df_att['test_0_TP'] \n",
    "df_att['FP_OR'] = df_att['test_1_FP'] /df_att['test_0_FP']\n",
    "df_att['acc_ratio'] = df_att['test_1_acc'] /df_att['test_0_acc']\n",
    "df_att['FN_OR'] = df_att['test_1_FN'] /df_att['test_0_FN'] \n",
    "df_att['TP_OR'] = pd.to_numeric(df_att['TP_OR'])\n",
    "df_att['FP_OR'] = pd.to_numeric(df_att['FP_OR'])\n",
    "df_att['acc_ratio'] = pd.to_numeric(df_att['acc_ratio'])\n",
    "df_att['FN_OR'] = pd.to_numeric(df_att['FN_OR'])\n"
   ]
  },
  {
   "cell_type": "code",
   "execution_count": 118,
   "metadata": {},
   "outputs": [
    {
     "data": {
      "image/png": "[encoded data removed]",
      "text/plain": [
       "<Figure size 360x360 with 2 Axes>"
      ]
     },
     "metadata": {
      "needs_background": "light"
     },
     "output_type": "display_data"
    }
   ],
   "source": [
    "df_confusion = pd.DataFrame(index=['Smiling','Not Smiling'],columns=['Smiling','Not Smiling'])\n",
    "df_confusion.at['Smiling','Smiling'] = df_att.loc['High_Cheekbones']['test_0_TP']\n",
    "df_confusion.at['Smiling','Not Smiling'] = df_att.loc['High_Cheekbones']['test_0_FP']\n",
    "df_confusion.at['Not Smiling','Smiling'] = df_att.loc['High_Cheekbones']['test_0_FN']\n",
    "df_confusion.at['Not Smiling','Not Smiling'] = df_att.loc['High_Cheekbones']['test_0_TN']\n",
    "\n",
    "# Plotting Confusion matrix\n",
    "plt.figure(figsize = (5,5))\n",
    "cmap=sns.color_palette(\"RdBu\",70)\n",
    "heatmap_kwargs = dict(vmin=0, vmax=1, cmap=cmap,annot=True, linewidths=.5, fmt='.4g')\n",
    "ax = sns.heatmap(df_confusion.astype('float'), center=0.5, **heatmap_kwargs)\n",
    "ax.set_xticklabels(list(df_confusion.columns))\n",
    "ax.set_yticklabels(list(df_confusion.index))\n",
    "bottom, top = ax.get_ylim()\n",
    "ax.set_ylim(bottom + 0.5, top - 0.5)\n",
    "ax.xaxis.set_ticks_position('top')\n",
    "plt.tight_layout()\n",
    "#plt.savefig(model+'.png',dpi=500)"
   ]
  },
  {
   "cell_type": "code",
   "execution_count": 119,
   "metadata": {},
   "outputs": [
    {
     "data": {
      "image/png": "[encoded data removed]",
      "text/plain": [
       "<Figure size 360x360 with 2 Axes>"
      ]
     },
     "metadata": {
      "needs_background": "light"
     },
     "output_type": "display_data"
    }
   ],
   "source": [
    "df_confusion2 = pd.DataFrame(index=['Smiling','Not Smiling'],columns=['Smiling','Not Smiling'])\n",
    "df_confusion2.at['Smiling','Smiling'] = df_att.loc['High_Cheekbones']['test_1_TP']\n",
    "df_confusion2.at['Smiling','Not Smiling'] = df_att.loc['High_Cheekbones']['test_1_FP']\n",
    "df_confusion2.at['Not Smiling','Smiling'] = df_att.loc['High_Cheekbones']['test_1_FN']\n",
    "df_confusion2.at['Not Smiling','Not Smiling'] = df_att.loc['High_Cheekbones']['test_1_TN']\n",
    "\n",
    "# Plotting Confusion matrix\n",
    "plt.figure(figsize = (5,5))\n",
    "cmap=sns.color_palette(\"RdBu\",70)\n",
    "heatmap_kwargs = dict(vmin=0, vmax=1, cmap=cmap,annot=True, linewidths=.5, fmt='.4g')\n",
    "ax = sns.heatmap(df_confusion2.astype('float'), center=0.5, **heatmap_kwargs)\n",
    "ax.set_xticklabels(list(df_confusion2.columns))\n",
    "ax.set_yticklabels(list(df_confusion2.index))\n",
    "bottom, top = ax.get_ylim()\n",
    "ax.set_ylim(bottom + 0.5, top - 0.5)\n",
    "ax.xaxis.set_ticks_position('top')\n",
    "plt.tight_layout()\n",
    "#plt.savefig(model+'.png',dpi=500)"
   ]
  },
  {
   "cell_type": "code",
   "execution_count": 94,
   "metadata": {},
   "outputs": [],
   "source": [
    "df_att = df_att.sort_values('acc_ratio')"
   ]
  },
  {
   "cell_type": "code",
   "execution_count": 110,
   "metadata": {},
   "outputs": [],
   "source": [
    "df_att2 = df_att.loc[['Rosy_Cheeks','Gray_Hair','Bags_Under_Eyes','Bald','Chubby','Double_Chin','Goatee','High_Cheekbones','Young','Narrow_Eyes','Blond_Hair','Male','Arched_Eyebrows','Receding_Hairline','Attractive','Oval_Face','Big_Lips','Sideburns','Big_Nose']].sort_values('acc_ratio')"
   ]
  },
  {
   "cell_type": "code",
   "execution_count": 111,
   "metadata": {},
   "outputs": [
    {
     "data": {
      "text/html": [
       "<div>\n",
       "<style scoped>\n",
       "    .dataframe tbody tr th:only-of-type {\n",
       "        vertical-align: middle;\n",
       "    }\n",
       "\n",
       "    .dataframe tbody tr th {\n",
       "        vertical-align: top;\n",
       "    }\n",
       "\n",
       "    .dataframe thead th {\n",
       "        text-align: right;\n",
       "    }\n",
       "</style>\n",
       "<table border=\"1\" class=\"dataframe\">\n",
       "  <thead>\n",
       "    <tr style=\"text-align: right;\">\n",
       "      <th></th>\n",
       "      <th>acc_ratio</th>\n",
       "      <th>FN_OR</th>\n",
       "      <th>FP_OR</th>\n",
       "    </tr>\n",
       "  </thead>\n",
       "  <tbody>\n",
       "    <tr>\n",
       "      <td>Chubby</td>\n",
       "      <td>0.956020</td>\n",
       "      <td>1.098049</td>\n",
       "      <td>2.388439</td>\n",
       "    </tr>\n",
       "    <tr>\n",
       "      <td>Gray_Hair</td>\n",
       "      <td>0.957199</td>\n",
       "      <td>1.121387</td>\n",
       "      <td>2.278270</td>\n",
       "    </tr>\n",
       "    <tr>\n",
       "      <td>Bald</td>\n",
       "      <td>0.967861</td>\n",
       "      <td>1.393599</td>\n",
       "      <td>1.435939</td>\n",
       "    </tr>\n",
       "    <tr>\n",
       "      <td>Oval_Face</td>\n",
       "      <td>0.969676</td>\n",
       "      <td>1.244046</td>\n",
       "      <td>0.893914</td>\n",
       "    </tr>\n",
       "    <tr>\n",
       "      <td>Double_Chin</td>\n",
       "      <td>0.972817</td>\n",
       "      <td>0.785718</td>\n",
       "      <td>3.028945</td>\n",
       "    </tr>\n",
       "    <tr>\n",
       "      <td>Male</td>\n",
       "      <td>0.984664</td>\n",
       "      <td>1.494721</td>\n",
       "      <td>1.079925</td>\n",
       "    </tr>\n",
       "    <tr>\n",
       "      <td>Receding_Hairline</td>\n",
       "      <td>0.990434</td>\n",
       "      <td>0.766968</td>\n",
       "      <td>1.941034</td>\n",
       "    </tr>\n",
       "    <tr>\n",
       "      <td>Sideburns</td>\n",
       "      <td>0.998016</td>\n",
       "      <td>1.697891</td>\n",
       "      <td>0.741333</td>\n",
       "    </tr>\n",
       "    <tr>\n",
       "      <td>Goatee</td>\n",
       "      <td>1.000581</td>\n",
       "      <td>1.446535</td>\n",
       "      <td>0.768443</td>\n",
       "    </tr>\n",
       "    <tr>\n",
       "      <td>Blond_Hair</td>\n",
       "      <td>1.003412</td>\n",
       "      <td>0.710696</td>\n",
       "      <td>1.500447</td>\n",
       "    </tr>\n",
       "    <tr>\n",
       "      <td>High_Cheekbones</td>\n",
       "      <td>1.004232</td>\n",
       "      <td>0.244124</td>\n",
       "      <td>3.103017</td>\n",
       "    </tr>\n",
       "    <tr>\n",
       "      <td>Big_Nose</td>\n",
       "      <td>1.012576</td>\n",
       "      <td>0.527859</td>\n",
       "      <td>1.852125</td>\n",
       "    </tr>\n",
       "    <tr>\n",
       "      <td>Bags_Under_Eyes</td>\n",
       "      <td>1.014422</td>\n",
       "      <td>0.488415</td>\n",
       "      <td>1.950498</td>\n",
       "    </tr>\n",
       "    <tr>\n",
       "      <td>Attractive</td>\n",
       "      <td>1.015659</td>\n",
       "      <td>0.799727</td>\n",
       "      <td>0.671586</td>\n",
       "    </tr>\n",
       "    <tr>\n",
       "      <td>Young</td>\n",
       "      <td>1.021034</td>\n",
       "      <td>0.959130</td>\n",
       "      <td>0.585911</td>\n",
       "    </tr>\n",
       "    <tr>\n",
       "      <td>Narrow_Eyes</td>\n",
       "      <td>1.026162</td>\n",
       "      <td>0.508735</td>\n",
       "      <td>1.245384</td>\n",
       "    </tr>\n",
       "    <tr>\n",
       "      <td>Rosy_Cheeks</td>\n",
       "      <td>1.029844</td>\n",
       "      <td>0.411914</td>\n",
       "      <td>2.430230</td>\n",
       "    </tr>\n",
       "    <tr>\n",
       "      <td>Arched_Eyebrows</td>\n",
       "      <td>1.035226</td>\n",
       "      <td>0.489861</td>\n",
       "      <td>0.997165</td>\n",
       "    </tr>\n",
       "    <tr>\n",
       "      <td>Big_Lips</td>\n",
       "      <td>1.039207</td>\n",
       "      <td>0.460823</td>\n",
       "      <td>1.071519</td>\n",
       "    </tr>\n",
       "  </tbody>\n",
       "</table>\n",
       "</div>"
      ],
      "text/plain": [
       "                   acc_ratio     FN_OR     FP_OR\n",
       "Chubby              0.956020  1.098049  2.388439\n",
       "Gray_Hair           0.957199  1.121387  2.278270\n",
       "Bald                0.967861  1.393599  1.435939\n",
       "Oval_Face           0.969676  1.244046  0.893914\n",
       "Double_Chin         0.972817  0.785718  3.028945\n",
       "Male                0.984664  1.494721  1.079925\n",
       "Receding_Hairline   0.990434  0.766968  1.941034\n",
       "Sideburns           0.998016  1.697891  0.741333\n",
       "Goatee              1.000581  1.446535  0.768443\n",
       "Blond_Hair          1.003412  0.710696  1.500447\n",
       "High_Cheekbones     1.004232  0.244124  3.103017\n",
       "Big_Nose            1.012576  0.527859  1.852125\n",
       "Bags_Under_Eyes     1.014422  0.488415  1.950498\n",
       "Attractive          1.015659  0.799727  0.671586\n",
       "Young               1.021034  0.959130  0.585911\n",
       "Narrow_Eyes         1.026162  0.508735  1.245384\n",
       "Rosy_Cheeks         1.029844  0.411914  2.430230\n",
       "Arched_Eyebrows     1.035226  0.489861  0.997165\n",
       "Big_Lips            1.039207  0.460823  1.071519"
      ]
     },
     "execution_count": 111,
     "metadata": {},
     "output_type": "execute_result"
    }
   ],
   "source": [
    "df_att2[['acc_ratio','FN_OR','FP_OR']]"
   ]
  },
  {
   "cell_type": "code",
   "execution_count": 124,
   "metadata": {},
   "outputs": [
    {
     "data": {
      "image/png": "[encoded data removed]",
      "text/plain": [
       "<Figure size 720x720 with 2 Axes>"
      ]
     },
     "metadata": {
      "needs_background": "light"
     },
     "output_type": "display_data"
    }
   ],
   "source": [
    "plt.figure(figsize = (10,10))\n",
    "cmap=sns.color_palette(\"RdBu\",70)\n",
    "heatmap_kwargs = dict(vmin=0, vmax=4, cmap=cmap,annot=True, linewidths=.5, fmt='.4g')\n",
    "ax = sns.heatmap(df_att2[['acc_ratio','FN_OR','FP_OR']], center=1.0, **heatmap_kwargs)\n",
    "ax.set_xticklabels(['Accuracy ratio','False negative Odds Ratio','False Positive Odds Ratio'])\n",
    "ax.set_yticklabels(list(df_att2.index))\n",
    "bottom, top = ax.get_ylim()\n",
    "ax.set_ylim(bottom + 0.5, top - 0.5)\n",
    "ax.xaxis.set_ticks_position('top')\n",
    "plt.tight_layout()\n",
    "plt.savefig('heat.png',dpi=500)"
   ]
  },
  {
   "cell_type": "code",
   "execution_count": 42,
   "metadata": {},
   "outputs": [],
   "source": [
    "#funtion to show image along with output and tru target\n",
    "def show_batch(sample_batched, bias_idx):\n",
    "    \"\"\"Show image with landmarks for a batch of samples.\"\"\"\n",
    "    images_batch, target_batch, bias = \\\n",
    "            sample_batched['image'], sample_batched['target'], sample_batched['attributes'][:,bias_idx]\n",
    "    \n",
    "    batch_size = len(images_batch)\n",
    "    pred_label = torch.max(get_labels(sample_batched), 1)[1]\n",
    "    \n",
    "    for i in range(batch_size):\n",
    "\n",
    "        #grid = utils.make_grid(images_batch)\n",
    "        plt.figure()\n",
    "        plt.imshow(np.transpose(vutils.make_grid(images_batch[i], padding=2,normalize=True).cpu(),(1,2,0)))\n",
    "        plt.axis('off')\n",
    "        plt.ioff()\n",
    "        plt.show()\n",
    "        print(target_batch[i])\n",
    "        #print(bias[i])\n",
    "        print('Output of NN: ',output['out'][i])\n",
    "        print('Predicted label: ', pred_label[i])"
   ]
  },
  {
   "cell_type": "code",
   "execution_count": 45,
   "metadata": {},
   "outputs": [
    {
     "data": {
      "text/plain": [
       "{'file': ['charlotte.jpg'],\n",
       " 'image': tensor([[[[199., 199., 199.,  ..., 217., 216., 216.],\n",
       "           [202., 202., 202.,  ..., 219., 219., 219.],\n",
       "           [202., 202., 202.,  ..., 220., 220., 220.],\n",
       "           ...,\n",
       "           [ 59.,  58.,  52.,  ...,  93.,  84.,  75.],\n",
       "           [ 58.,  57.,  52.,  ...,  93.,  85.,  74.],\n",
       "           [ 60.,  60.,  52.,  ...,  93.,  82.,  70.]],\n",
       " \n",
       "          [[195., 195., 195.,  ..., 213., 212., 212.],\n",
       "           [198., 198., 198.,  ..., 215., 215., 215.],\n",
       "           [198., 198., 198.,  ..., 216., 216., 216.],\n",
       "           ...,\n",
       "           [ 17.,  18.,  15.,  ...,  43.,  37.,  28.],\n",
       "           [ 16.,  17.,  15.,  ...,  43.,  35.,  27.],\n",
       "           [ 18.,  20.,  17.,  ...,  43.,  32.,  22.]],\n",
       " \n",
       "          [[184., 184., 184.,  ..., 204., 203., 203.],\n",
       "           [187., 187., 187.,  ..., 206., 206., 206.],\n",
       "           [187., 187., 187.,  ..., 207., 207., 207.],\n",
       "           ...,\n",
       "           [ 27.,  27.,  23.,  ...,  54.,  47.,  38.],\n",
       "           [ 26.,  26.,  23.,  ...,  54.,  46.,  37.],\n",
       "           [ 28.,  29.,  24.,  ...,  54.,  43.,  34.]]]]),\n",
       " 'target': tensor([[0., 1.]], dtype=torch.float64),\n",
       " 'attributes': tensor([[0., 0., 1., 0., 0., 1., 1., 0., 0., 0., 0., 0., 0., 0., 0., 0., 0., 0.,\n",
       "          1., 1., 0., 0., 0., 0., 1., 1., 0., 1., 0., 0., 0., 0., 1., 0., 0., 1.,\n",
       "          0., 0., 1.]], dtype=torch.float64)}"
      ]
     },
     "execution_count": 45,
     "metadata": {},
     "output_type": "execute_result"
    }
   ],
   "source": [
    "batch_valid"
   ]
  },
  {
   "cell_type": "code",
   "execution_count": 44,
   "metadata": {},
   "outputs": [
    {
     "data": {
      "text/plain": [
       "<Figure size 432x288 with 0 Axes>"
      ]
     },
     "metadata": {},
     "output_type": "display_data"
    },
    {
     "data": {
      "image/png": "[encoded data removed]",
      "text/plain": [
       "<Figure size 432x288 with 1 Axes>"
      ]
     },
     "metadata": {
      "needs_background": "light"
     },
     "output_type": "display_data"
    },
    {
     "name": "stdout",
     "output_type": "stream",
     "text": [
      "tensor([0., 1.], dtype=torch.float64)\n"
     ]
    },
    {
     "ename": "KeyError",
     "evalue": "0",
     "output_type": "error",
     "traceback": [
      "\u001b[1;31m---------------------------------------------------------------------------\u001b[0m",
      "\u001b[1;31mKeyError\u001b[0m                                  Traceback (most recent call last)",
      "\u001b[1;32m<ipython-input-44-b665cd1fbdc6>\u001b[0m in \u001b[0;36m<module>\u001b[1;34m\u001b[0m\n\u001b[0;32m      1\u001b[0m \u001b[0mplt\u001b[0m\u001b[1;33m.\u001b[0m\u001b[0mfigure\u001b[0m\u001b[1;33m(\u001b[0m\u001b[1;33m)\u001b[0m\u001b[1;33m\u001b[0m\u001b[0m\n\u001b[1;32m----> 2\u001b[1;33m \u001b[0mshow_batch\u001b[0m\u001b[1;33m(\u001b[0m\u001b[0mbatch_valid\u001b[0m\u001b[1;33m,\u001b[0m\u001b[1;36m21\u001b[0m\u001b[1;33m)\u001b[0m\u001b[1;33m\u001b[0m\u001b[0m\n\u001b[0m\u001b[0;32m      3\u001b[0m \u001b[0mplt\u001b[0m\u001b[1;33m.\u001b[0m\u001b[0maxis\u001b[0m\u001b[1;33m(\u001b[0m\u001b[1;34m'off'\u001b[0m\u001b[1;33m)\u001b[0m\u001b[1;33m\u001b[0m\u001b[0m\n\u001b[0;32m      4\u001b[0m \u001b[0mplt\u001b[0m\u001b[1;33m.\u001b[0m\u001b[0mioff\u001b[0m\u001b[1;33m(\u001b[0m\u001b[1;33m)\u001b[0m\u001b[1;33m\u001b[0m\u001b[0m\n\u001b[0;32m      5\u001b[0m \u001b[0mplt\u001b[0m\u001b[1;33m.\u001b[0m\u001b[0mshow\u001b[0m\u001b[1;33m(\u001b[0m\u001b[1;33m)\u001b[0m\u001b[1;33m\u001b[0m\u001b[0m\n",
      "\u001b[1;32m<ipython-input-42-f90a31b3e068>\u001b[0m in \u001b[0;36mshow_batch\u001b[1;34m(sample_batched, bias_idx)\u001b[0m\n\u001b[0;32m     15\u001b[0m         \u001b[0mplt\u001b[0m\u001b[1;33m.\u001b[0m\u001b[0mshow\u001b[0m\u001b[1;33m(\u001b[0m\u001b[1;33m)\u001b[0m\u001b[1;33m\u001b[0m\u001b[0m\n\u001b[0;32m     16\u001b[0m         \u001b[0mprint\u001b[0m\u001b[1;33m(\u001b[0m\u001b[0mtarget_batch\u001b[0m\u001b[1;33m[\u001b[0m\u001b[0mi\u001b[0m\u001b[1;33m]\u001b[0m\u001b[1;33m)\u001b[0m\u001b[1;33m\u001b[0m\u001b[0m\n\u001b[1;32m---> 17\u001b[1;33m         \u001b[0mlabels_argmax\u001b[0m \u001b[1;33m=\u001b[0m \u001b[0mtorch\u001b[0m\u001b[1;33m.\u001b[0m\u001b[0mmax\u001b[0m\u001b[1;33m(\u001b[0m\u001b[0mget_labels\u001b[0m\u001b[1;33m(\u001b[0m\u001b[0msample_batched\u001b[0m\u001b[1;33m[\u001b[0m\u001b[0mi\u001b[0m\u001b[1;33m]\u001b[0m\u001b[1;33m)\u001b[0m\u001b[1;33m,\u001b[0m \u001b[1;36m1\u001b[0m\u001b[1;33m)\u001b[0m\u001b[1;33m[\u001b[0m\u001b[1;36m1\u001b[0m\u001b[1;33m]\u001b[0m\u001b[1;33m\u001b[0m\u001b[0m\n\u001b[0m\u001b[0;32m     18\u001b[0m         \u001b[0mprint\u001b[0m\u001b[1;33m(\u001b[0m\u001b[0mbias\u001b[0m\u001b[1;33m[\u001b[0m\u001b[0mi\u001b[0m\u001b[1;33m]\u001b[0m\u001b[1;33m)\u001b[0m\u001b[1;33m\u001b[0m\u001b[0m\n\u001b[0;32m     19\u001b[0m         \u001b[0mprint\u001b[0m\u001b[1;33m(\u001b[0m\u001b[0moutput\u001b[0m\u001b[1;33m[\u001b[0m\u001b[1;34m'out'\u001b[0m\u001b[1;33m]\u001b[0m\u001b[1;33m[\u001b[0m\u001b[0mi\u001b[0m\u001b[1;33m]\u001b[0m\u001b[1;33m)\u001b[0m\u001b[1;33m\u001b[0m\u001b[0m\n",
      "\u001b[1;31mKeyError\u001b[0m: 0"
     ]
    }
   ],
   "source": [
    "plt.figure()\n",
    "show_batch(batch_valid,21)\n",
    "plt.axis('off')\n",
    "plt.ioff()\n",
    "plt.show()"
   ]
  },
  {
   "cell_type": "code",
   "execution_count": 50,
   "metadata": {},
   "outputs": [],
   "source": [
    "IMAGE_SHAPE = [73,60,3]\n",
    "# Root directory for dataset\n",
    "dataroot = 'C:\\\\Users\\\\cfthe\\\\OneDrive\\\\DTU\\\\Kandidat\\\\Deep\\\\AlgorithmicFairness'\n",
    "# Paths to data\n",
    "VALID_PATH = dataroot + \"\\\\images_resize\\\\valid.csv\"  \n",
    "IMAGE_PATHS = \"C:\\\\Users\\\\cfthe\\\\OneDrive\\\\DTU\\\\Kandidat\\\\Deep\\\\AlgorithmicFairness\\\\images_resize\"\n",
    "TARGET_COL = 'Smiling' #'Smiling'\n",
    "NUM_CLASSES = 2\n",
    "\n",
    "# valid data\n",
    "data_valid = data_utils.CelebADataset(VALID_PATH,IMAGE_PATHS,IMAGE_SHAPE,TARGET_COL)"
   ]
  },
  {
   "cell_type": "code",
   "execution_count": 51,
   "metadata": {},
   "outputs": [
    {
     "name": "stdout",
     "output_type": "stream",
     "text": [
      "tensor(0.8000)\n"
     ]
    }
   ],
   "source": [
    "batch_gen_valid = DataLoader(data_valid, batch_size, shuffle=True, num_workers=6)\n",
    "with torch.no_grad():\n",
    "    for batch_valid in batch_gen_valid:\n",
    "        output = net(**get_input(batch_valid))\n",
    "        labels_argmax = torch.max(get_labels(batch_valid), 1)[1]\n",
    "        ac = accuracy(output['out'],labels_argmax)\n",
    "        print(ac)"
   ]
  },
  {
   "cell_type": "code",
   "execution_count": 52,
   "metadata": {},
   "outputs": [
    {
     "data": {
      "text/plain": [
       "{'out': tensor([[-1.7870,  1.7862],\n",
       "         [-0.1785,  0.1781],\n",
       "         [-2.7959,  2.7955],\n",
       "         [-3.3320,  3.3327],\n",
       "         [ 1.2387, -1.2403]])}"
      ]
     },
     "execution_count": 52,
     "metadata": {},
     "output_type": "execute_result"
    }
   ],
   "source": [
    "output"
   ]
  },
  {
   "cell_type": "code",
   "execution_count": 53,
   "metadata": {},
   "outputs": [
    {
     "data": {
      "text/plain": [
       "{'file': ['martin.jpg', 'ole.jpg', 'charlotte.jpg', '000108.jpg', 'pratt.jpg'],\n",
       " 'image': tensor([[[[171., 171., 170.,  ..., 214., 216., 218.],\n",
       "           [165., 165., 167.,  ..., 216., 218., 220.],\n",
       "           [160., 160., 162.,  ..., 218., 220., 222.],\n",
       "           ...,\n",
       "           [116., 116., 118.,  ...,  75.,  65.,  71.],\n",
       "           [117., 115., 116.,  ...,  77.,  78.,  82.],\n",
       "           [112., 110., 110.,  ...,  82.,  79.,  80.]],\n",
       " \n",
       "          [[184., 184., 184.,  ..., 224., 226., 228.],\n",
       "           [178., 178., 180.,  ..., 226., 228., 230.],\n",
       "           [170., 173., 175.,  ..., 228., 230., 232.],\n",
       "           ...,\n",
       "           [137., 137., 139.,  ...,  80.,  70.,  76.],\n",
       "           [137., 135., 136.,  ...,  81.,  82.,  86.],\n",
       "           [132., 130., 130.,  ...,  83.,  80.,  84.]],\n",
       " \n",
       "          [[193., 193., 193.,  ..., 234., 236., 238.],\n",
       "           [187., 187., 189.,  ..., 236., 238., 240.],\n",
       "           [180., 182., 184.,  ..., 238., 240., 242.],\n",
       "           ...,\n",
       "           [128., 128., 130.,  ...,  84.,  73.,  79.],\n",
       "           [128., 126., 127.,  ...,  84.,  85.,  89.],\n",
       "           [123., 121., 121.,  ...,  87.,  84.,  87.]]],\n",
       " \n",
       " \n",
       "         [[[ 39.,  41.,  45.,  ...,  20.,  18.,  15.],\n",
       "           [ 39.,  40.,  42.,  ...,  30.,  28.,  25.],\n",
       "           [ 42.,  46.,  44.,  ...,  31.,  30.,  27.],\n",
       "           ...,\n",
       "           [ 58.,  57.,  57.,  ...,  75.,  78.,  79.],\n",
       "           [ 57.,  58.,  58.,  ...,  75.,  78.,  76.],\n",
       "           [ 52.,  53.,  56.,  ...,  72.,  76.,  76.]],\n",
       " \n",
       "          [[ 40.,  42.,  45.,  ...,  19.,  17.,  16.],\n",
       "           [ 40.,  41.,  42.,  ...,  29.,  27.,  26.],\n",
       "           [ 43.,  45.,  43.,  ...,  30.,  29.,  28.],\n",
       "           ...,\n",
       "           [ 53.,  54.,  54.,  ...,  91.,  94.,  95.],\n",
       "           [ 54.,  55.,  55.,  ...,  91.,  94.,  92.],\n",
       "           [ 52.,  53.,  56.,  ...,  88.,  92.,  92.]],\n",
       " \n",
       "          [[ 34.,  36.,  37.,  ...,  15.,  13.,  11.],\n",
       "           [ 34.,  35.,  34.,  ...,  25.,  23.,  21.],\n",
       "           [ 37.,  40.,  38.,  ...,  26.,  25.,  23.],\n",
       "           ...,\n",
       "           [ 49.,  47.,  45.,  ..., 117., 120., 121.],\n",
       "           [ 49.,  48.,  46.,  ..., 117., 120., 118.],\n",
       "           [ 42.,  43.,  46.,  ..., 114., 118., 118.]]],\n",
       " \n",
       " \n",
       "         [[[206., 206., 206.,  ..., 216., 217., 217.],\n",
       "           [206., 206., 206.,  ..., 218., 218., 218.],\n",
       "           [206., 206., 206.,  ..., 218., 218., 218.],\n",
       "           ...,\n",
       "           [176., 171., 168.,  ..., 255., 251., 252.],\n",
       "           [169., 162., 156.,  ..., 246., 255., 254.],\n",
       "           [165., 134., 111.,  ...,  80., 195., 252.]],\n",
       " \n",
       "          [[202., 202., 202.,  ..., 212., 213., 213.],\n",
       "           [202., 202., 202.,  ..., 214., 214., 214.],\n",
       "           [202., 202., 202.,  ..., 214., 214., 214.],\n",
       "           ...,\n",
       "           [170., 161., 152.,  ..., 248., 246., 251.],\n",
       "           [162., 149., 138.,  ..., 230., 248., 251.],\n",
       "           [156., 120.,  91.,  ...,  58., 181., 247.]],\n",
       " \n",
       "          [[191., 191., 191.,  ..., 201., 202., 202.],\n",
       "           [191., 191., 191.,  ..., 203., 203., 203.],\n",
       "           [191., 191., 191.,  ..., 203., 203., 203.],\n",
       "           ...,\n",
       "           [158., 149., 137.,  ..., 243., 242., 246.],\n",
       "           [152., 140., 126.,  ..., 230., 246., 246.],\n",
       "           [149., 111.,  80.,  ...,  61., 181., 244.]]],\n",
       " \n",
       " \n",
       "         [[[102., 107., 123.,  ..., 135., 121., 140.],\n",
       "           [102., 103., 121.,  ..., 134., 120., 139.],\n",
       "           [102., 100., 120.,  ..., 135., 119., 137.],\n",
       "           ...,\n",
       "           [125., 114., 117.,  ..., 178., 195., 225.],\n",
       "           [124., 127., 119.,  ..., 177., 196., 231.],\n",
       "           [118., 117., 118.,  ..., 173., 198., 232.]],\n",
       " \n",
       "          [[ 71.,  76.,  94.,  ..., 110.,  90., 107.],\n",
       "           [ 71.,  74.,  92.,  ..., 109.,  89., 106.],\n",
       "           [ 71.,  71.,  91.,  ..., 110.,  90., 104.],\n",
       "           ...,\n",
       "           [ 28.,  15.,  19.,  ..., 161., 177., 208.],\n",
       "           [ 27.,  30.,  26.,  ..., 160., 178., 213.],\n",
       "           [ 34.,  30.,  29.,  ..., 156., 180., 211.]],\n",
       " \n",
       "          [[ 25.,  32.,  52.,  ...,  80.,  59.,  72.],\n",
       "           [ 25.,  30.,  50.,  ...,  79.,  58.,  71.],\n",
       "           [ 27.,  27.,  51.,  ...,  80.,  58.,  69.],\n",
       "           ...,\n",
       "           [ 21.,  10.,  16.,  ..., 151., 163., 188.],\n",
       "           [ 20.,  24.,  21.,  ..., 150., 164., 193.],\n",
       "           [ 24.,  21.,  23.,  ..., 146., 166., 192.]]],\n",
       " \n",
       " \n",
       "         [[[239., 240., 240.,  ..., 254., 254., 255.],\n",
       "           [240., 240., 240.,  ..., 253., 254., 255.],\n",
       "           [240., 240., 240.,  ..., 253., 253., 254.],\n",
       "           ...,\n",
       "           [191., 122.,  44.,  ...,  24.,  26.,  30.],\n",
       "           [ 48.,  27.,  21.,  ...,  21.,  22.,  24.],\n",
       "           [ 17.,  12.,  16.,  ...,  20.,  20.,  22.]],\n",
       " \n",
       "          [[240., 241., 241.,  ..., 254., 254., 253.],\n",
       "           [241., 241., 241.,  ..., 253., 254., 253.],\n",
       "           [241., 241., 241.,  ..., 253., 253., 252.],\n",
       "           ...,\n",
       "           [194., 125.,  48.,  ...,  30.,  32.,  36.],\n",
       "           [ 52.,  31.,  25.,  ...,  28.,  29.,  31.],\n",
       "           [ 24.,  19.,  23.,  ...,  28.,  28.,  30.]],\n",
       " \n",
       "          [[244., 245., 245.,  ..., 255., 255., 254.],\n",
       "           [245., 245., 245.,  ..., 255., 255., 255.],\n",
       "           [245., 245., 245.,  ..., 255., 255., 255.],\n",
       "           ...,\n",
       "           [203., 134.,  57.,  ...,  52.,  54.,  60.],\n",
       "           [ 61.,  42.,  36.,  ...,  44.,  45.,  47.],\n",
       "           [ 34.,  29.,  33.,  ...,  41.,  41.,  43.]]]]),\n",
       " 'target': tensor([[0., 1.],\n",
       "         [0., 1.],\n",
       "         [0., 1.],\n",
       "         [0., 1.],\n",
       "         [0., 1.]], dtype=torch.float64),\n",
       " 'attributes': tensor([[1., 1., 1., 1., 1., 1., 1., 1., 1., 1., 1., 1., 1., 1., 1., 1., 1., 1.,\n",
       "          1., 1., 1., 1., 1., 1., 1., 1., 1., 1., 1., 1., 1., 1., 1., 1., 1., 1.,\n",
       "          1., 1., 1.],\n",
       "         [1., 1., 1., 1., 1., 1., 1., 1., 1., 1., 1., 1., 1., 1., 1., 1., 1., 1.,\n",
       "          1., 1., 1., 1., 1., 1., 1., 1., 1., 1., 1., 1., 1., 1., 1., 1., 1., 1.,\n",
       "          1., 1., 1.],\n",
       "         [1., 1., 1., 1., 1., 1., 1., 1., 1., 1., 1., 1., 1., 1., 1., 1., 1., 1.,\n",
       "          1., 1., 1., 1., 1., 1., 1., 1., 1., 1., 1., 1., 1., 1., 1., 1., 1., 1.,\n",
       "          1., 1., 1.],\n",
       "         [1., 1., 1., 1., 1., 1., 1., 1., 1., 1., 1., 1., 1., 1., 1., 1., 1., 1.,\n",
       "          1., 1., 1., 1., 1., 1., 1., 1., 1., 1., 1., 1., 1., 1., 1., 1., 1., 1.,\n",
       "          1., 1., 1.],\n",
       "         [1., 1., 1., 1., 1., 1., 1., 1., 1., 1., 1., 1., 1., 1., 1., 1., 1., 1.,\n",
       "          1., 1., 1., 1., 1., 1., 1., 1., 1., 1., 1., 1., 1., 1., 1., 1., 1., 1.,\n",
       "          1., 1., 1.]], dtype=torch.float64)}"
      ]
     },
     "execution_count": 53,
     "metadata": {},
     "output_type": "execute_result"
    }
   ],
   "source": [
    "batch_valid"
   ]
  },
  {
   "cell_type": "code",
   "execution_count": null,
   "metadata": {},
   "outputs": [],
   "source": []
  }
 ],
 "metadata": {
  "kernelspec": {
   "display_name": "Python 3",
   "language": "python",
   "name": "python3"
  },
  "language_info": {
   "codemirror_mode": {
    "name": "ipython",
    "version": 3
   },
   "file_extension": ".py",
   "mimetype": "text/x-python",
   "name": "python",
   "nbconvert_exporter": "python",
   "pygments_lexer": "ipython3",
   "version": "3.6.5"
  }
 },
 "nbformat": 4,
 "nbformat_minor": 2
}
