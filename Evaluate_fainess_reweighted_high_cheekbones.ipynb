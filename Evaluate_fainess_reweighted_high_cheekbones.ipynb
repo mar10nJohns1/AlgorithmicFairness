{
 "cells": [
  {
   "cell_type": "code",
   "execution_count": 1,
   "metadata": {},
   "outputs": [],
   "source": [
    "from __future__ import print_function\n",
    "#%matplotlib inline\n",
    "import argparse\n",
    "import torch\n",
    "import torch.nn as nn\n",
    "import torch.nn.parallel\n",
    "import torch.backends.cudnn as cudnn\n",
    "import torch.optim as optim\n",
    "import torch.utils.data\n",
    "import torchvision.datasets as dset\n",
    "import torchvision.transforms as transforms\n",
    "import torchvision.utils as vutils\n",
    "import numpy as np\n",
    "import matplotlib.pyplot as plt\n",
    "import matplotlib.animation as animation\n",
    "import seaborn as sns\n",
    "from IPython.display import HTML\n",
    "import pandas as pd\n",
    "import data_utils.data_utils_celeba_pytorch5 as data_utils\n",
    "import data_utils.network_tuning_valid as network_tuning\n",
    "from IPython.display import clear_output\n",
    "from skimage.io import imread\n",
    "from skimage.transform import resize\n",
    "from torch.utils.data import Dataset, DataLoader\n",
    "from torchvision import transforms, utils\n",
    "import pandas as pd\n",
    "import pickle\n",
    "# Load functions\n",
    "from torch.autograd import Variable\n",
    "import torch.nn as nn\n",
    "import torch.optim as optim\n",
    "from torch.nn import Linear, GRU, Conv2d, Dropout2d, MaxPool2d, BatchNorm2d\n",
    "from torch.nn.functional import relu, elu, relu6, sigmoid, tanh, softmax"
   ]
  },
  {
   "cell_type": "code",
   "execution_count": 2,
   "metadata": {},
   "outputs": [
    {
     "data": {
      "text/plain": [
       "'C:\\\\Users\\\\cfthe\\\\OneDrive\\\\DTU\\\\Kandidat\\\\Deep\\\\AlgorithmicFairness'"
      ]
     },
     "execution_count": 2,
     "metadata": {},
     "output_type": "execute_result"
    }
   ],
   "source": [
    "pwd"
   ]
  },
  {
   "cell_type": "code",
   "execution_count": 3,
   "metadata": {},
   "outputs": [],
   "source": [
    "IMAGE_SHAPE = [73,60,3]\n",
    "# Root directory for dataset\n",
    "dataroot = 'C:\\\\Users\\\\cfthe\\\\OneDrive\\\\DTU\\\\Kandidat\\\\Deep\\\\AlgorithmicFairness'\n",
    "# Paths to data\n",
    "VALID_PATH = dataroot + \"\\\\data\\\\valid.csv\"  \n",
    "TEST_PATH = dataroot + \"\\\\data\\\\test.csv\"  \n",
    "IMAGE_PATHS = \"C:\\\\Users\\\\cfthe\\\\OneDrive\\\\DTU\\\\Kandidat\\\\Deep\\\\celebA_resize3\"\n",
    "TARGET_COL = 'Smiling' #'Smiling'\n",
    "NUM_CLASSES = 2\n",
    "\n",
    "# valid data\n",
    "data_valid = data_utils.CelebADataset(VALID_PATH,IMAGE_PATHS,IMAGE_SHAPE,TARGET_COL)\n",
    "\n",
    "# test data\n",
    "data_test = data_utils.CelebADataset(TEST_PATH,IMAGE_PATHS,IMAGE_SHAPE,TARGET_COL)"
   ]
  },
  {
   "cell_type": "code",
   "execution_count": 4,
   "metadata": {
    "scrolled": true
   },
   "outputs": [
    {
     "ename": "FileNotFoundError",
     "evalue": "[Errno 2] File b'Data/list_attr_celeba.txt' does not exist: b'Data/list_attr_celeba.txt'",
     "output_type": "error",
     "traceback": [
      "\u001b[1;31m---------------------------------------------------------------------------\u001b[0m",
      "\u001b[1;31mFileNotFoundError\u001b[0m                         Traceback (most recent call last)",
      "\u001b[1;32m<ipython-input-4-192b834e10f2>\u001b[0m in \u001b[0;36m<module>\u001b[1;34m\u001b[0m\n\u001b[1;32m----> 1\u001b[1;33m \u001b[0mattributes\u001b[0m \u001b[1;33m=\u001b[0m \u001b[0mpd\u001b[0m\u001b[1;33m.\u001b[0m\u001b[0mread_csv\u001b[0m\u001b[1;33m(\u001b[0m\u001b[1;34m'Data/list_attr_celeba.txt'\u001b[0m\u001b[1;33m,\u001b[0m \u001b[0msep\u001b[0m\u001b[1;33m=\u001b[0m\u001b[1;34m\" \"\u001b[0m\u001b[1;33m)\u001b[0m\u001b[1;33m\u001b[0m\u001b[0m\n\u001b[0m\u001b[0;32m      2\u001b[0m \u001b[0mattributes\u001b[0m\u001b[1;33m.\u001b[0m\u001b[0mdrop\u001b[0m\u001b[1;33m(\u001b[0m\u001b[1;34m'Unnamed: 41'\u001b[0m\u001b[1;33m,\u001b[0m\u001b[0maxis\u001b[0m\u001b[1;33m=\u001b[0m\u001b[1;36m1\u001b[0m\u001b[1;33m,\u001b[0m \u001b[0minplace\u001b[0m\u001b[1;33m=\u001b[0m\u001b[1;32mTrue\u001b[0m\u001b[1;33m)\u001b[0m\u001b[1;33m\u001b[0m\u001b[0m\n\u001b[0;32m      3\u001b[0m \u001b[0mpartition\u001b[0m \u001b[1;33m=\u001b[0m \u001b[0mpd\u001b[0m\u001b[1;33m.\u001b[0m\u001b[0mread_csv\u001b[0m\u001b[1;33m(\u001b[0m\u001b[1;34m'Data/list_eval_partition.txt'\u001b[0m\u001b[1;33m,\u001b[0m \u001b[0msep\u001b[0m\u001b[1;33m=\u001b[0m\u001b[1;34m\" \"\u001b[0m\u001b[1;33m,\u001b[0m \u001b[0mheader\u001b[0m\u001b[1;33m=\u001b[0m\u001b[1;32mNone\u001b[0m\u001b[1;33m,\u001b[0m \u001b[0mnames\u001b[0m\u001b[1;33m=\u001b[0m\u001b[1;33m[\u001b[0m\u001b[1;34m'im_id'\u001b[0m\u001b[1;33m,\u001b[0m\u001b[1;34m'partition'\u001b[0m\u001b[1;33m]\u001b[0m\u001b[1;33m)\u001b[0m\u001b[1;33m\u001b[0m\u001b[0m\n\u001b[0;32m      4\u001b[0m \u001b[0mmatched\u001b[0m \u001b[1;33m=\u001b[0m \u001b[0mattributes\u001b[0m\u001b[1;33m.\u001b[0m\u001b[0mset_index\u001b[0m\u001b[1;33m(\u001b[0m\u001b[1;34m'im_id'\u001b[0m\u001b[1;33m)\u001b[0m\u001b[1;33m.\u001b[0m\u001b[0mjoin\u001b[0m\u001b[1;33m(\u001b[0m\u001b[0mpartition\u001b[0m\u001b[1;33m.\u001b[0m\u001b[0mset_index\u001b[0m\u001b[1;33m(\u001b[0m\u001b[1;34m'im_id'\u001b[0m\u001b[1;33m)\u001b[0m\u001b[1;33m)\u001b[0m\u001b[1;33m.\u001b[0m\u001b[0mreplace\u001b[0m\u001b[1;33m(\u001b[0m\u001b[1;33m-\u001b[0m\u001b[1;36m1\u001b[0m\u001b[1;33m,\u001b[0m\u001b[1;36m0\u001b[0m\u001b[1;33m)\u001b[0m\u001b[1;33m\u001b[0m\u001b[0m\n\u001b[0;32m      5\u001b[0m \u001b[0mtest_df\u001b[0m \u001b[1;33m=\u001b[0m \u001b[0mmatched\u001b[0m\u001b[1;33m[\u001b[0m\u001b[0mmatched\u001b[0m\u001b[1;33m[\u001b[0m\u001b[1;34m'partition'\u001b[0m\u001b[1;33m]\u001b[0m\u001b[1;33m==\u001b[0m\u001b[1;36m2\u001b[0m\u001b[1;33m]\u001b[0m\u001b[1;33m\u001b[0m\u001b[0m\n",
      "\u001b[1;32m~\\Anaconda3\\lib\\site-packages\\pandas\\io\\parsers.py\u001b[0m in \u001b[0;36mparser_f\u001b[1;34m(filepath_or_buffer, sep, delimiter, header, names, index_col, usecols, squeeze, prefix, mangle_dupe_cols, dtype, engine, converters, true_values, false_values, skipinitialspace, skiprows, skipfooter, nrows, na_values, keep_default_na, na_filter, verbose, skip_blank_lines, parse_dates, infer_datetime_format, keep_date_col, date_parser, dayfirst, cache_dates, iterator, chunksize, compression, thousands, decimal, lineterminator, quotechar, quoting, doublequote, escapechar, comment, encoding, dialect, error_bad_lines, warn_bad_lines, delim_whitespace, low_memory, memory_map, float_precision)\u001b[0m\n\u001b[0;32m    683\u001b[0m         )\n\u001b[0;32m    684\u001b[0m \u001b[1;33m\u001b[0m\u001b[0m\n\u001b[1;32m--> 685\u001b[1;33m         \u001b[1;32mreturn\u001b[0m \u001b[0m_read\u001b[0m\u001b[1;33m(\u001b[0m\u001b[0mfilepath_or_buffer\u001b[0m\u001b[1;33m,\u001b[0m \u001b[0mkwds\u001b[0m\u001b[1;33m)\u001b[0m\u001b[1;33m\u001b[0m\u001b[0m\n\u001b[0m\u001b[0;32m    686\u001b[0m \u001b[1;33m\u001b[0m\u001b[0m\n\u001b[0;32m    687\u001b[0m     \u001b[0mparser_f\u001b[0m\u001b[1;33m.\u001b[0m\u001b[0m__name__\u001b[0m \u001b[1;33m=\u001b[0m \u001b[0mname\u001b[0m\u001b[1;33m\u001b[0m\u001b[0m\n",
      "\u001b[1;32m~\\Anaconda3\\lib\\site-packages\\pandas\\io\\parsers.py\u001b[0m in \u001b[0;36m_read\u001b[1;34m(filepath_or_buffer, kwds)\u001b[0m\n\u001b[0;32m    455\u001b[0m \u001b[1;33m\u001b[0m\u001b[0m\n\u001b[0;32m    456\u001b[0m     \u001b[1;31m# Create the parser.\u001b[0m\u001b[1;33m\u001b[0m\u001b[1;33m\u001b[0m\u001b[0m\n\u001b[1;32m--> 457\u001b[1;33m     \u001b[0mparser\u001b[0m \u001b[1;33m=\u001b[0m \u001b[0mTextFileReader\u001b[0m\u001b[1;33m(\u001b[0m\u001b[0mfp_or_buf\u001b[0m\u001b[1;33m,\u001b[0m \u001b[1;33m**\u001b[0m\u001b[0mkwds\u001b[0m\u001b[1;33m)\u001b[0m\u001b[1;33m\u001b[0m\u001b[0m\n\u001b[0m\u001b[0;32m    458\u001b[0m \u001b[1;33m\u001b[0m\u001b[0m\n\u001b[0;32m    459\u001b[0m     \u001b[1;32mif\u001b[0m \u001b[0mchunksize\u001b[0m \u001b[1;32mor\u001b[0m \u001b[0miterator\u001b[0m\u001b[1;33m:\u001b[0m\u001b[1;33m\u001b[0m\u001b[0m\n",
      "\u001b[1;32m~\\Anaconda3\\lib\\site-packages\\pandas\\io\\parsers.py\u001b[0m in \u001b[0;36m__init__\u001b[1;34m(self, f, engine, **kwds)\u001b[0m\n\u001b[0;32m    893\u001b[0m             \u001b[0mself\u001b[0m\u001b[1;33m.\u001b[0m\u001b[0moptions\u001b[0m\u001b[1;33m[\u001b[0m\u001b[1;34m\"has_index_names\"\u001b[0m\u001b[1;33m]\u001b[0m \u001b[1;33m=\u001b[0m \u001b[0mkwds\u001b[0m\u001b[1;33m[\u001b[0m\u001b[1;34m\"has_index_names\"\u001b[0m\u001b[1;33m]\u001b[0m\u001b[1;33m\u001b[0m\u001b[0m\n\u001b[0;32m    894\u001b[0m \u001b[1;33m\u001b[0m\u001b[0m\n\u001b[1;32m--> 895\u001b[1;33m         \u001b[0mself\u001b[0m\u001b[1;33m.\u001b[0m\u001b[0m_make_engine\u001b[0m\u001b[1;33m(\u001b[0m\u001b[0mself\u001b[0m\u001b[1;33m.\u001b[0m\u001b[0mengine\u001b[0m\u001b[1;33m)\u001b[0m\u001b[1;33m\u001b[0m\u001b[0m\n\u001b[0m\u001b[0;32m    896\u001b[0m \u001b[1;33m\u001b[0m\u001b[0m\n\u001b[0;32m    897\u001b[0m     \u001b[1;32mdef\u001b[0m \u001b[0mclose\u001b[0m\u001b[1;33m(\u001b[0m\u001b[0mself\u001b[0m\u001b[1;33m)\u001b[0m\u001b[1;33m:\u001b[0m\u001b[1;33m\u001b[0m\u001b[0m\n",
      "\u001b[1;32m~\\Anaconda3\\lib\\site-packages\\pandas\\io\\parsers.py\u001b[0m in \u001b[0;36m_make_engine\u001b[1;34m(self, engine)\u001b[0m\n\u001b[0;32m   1133\u001b[0m     \u001b[1;32mdef\u001b[0m \u001b[0m_make_engine\u001b[0m\u001b[1;33m(\u001b[0m\u001b[0mself\u001b[0m\u001b[1;33m,\u001b[0m \u001b[0mengine\u001b[0m\u001b[1;33m=\u001b[0m\u001b[1;34m\"c\"\u001b[0m\u001b[1;33m)\u001b[0m\u001b[1;33m:\u001b[0m\u001b[1;33m\u001b[0m\u001b[0m\n\u001b[0;32m   1134\u001b[0m         \u001b[1;32mif\u001b[0m \u001b[0mengine\u001b[0m \u001b[1;33m==\u001b[0m \u001b[1;34m\"c\"\u001b[0m\u001b[1;33m:\u001b[0m\u001b[1;33m\u001b[0m\u001b[0m\n\u001b[1;32m-> 1135\u001b[1;33m             \u001b[0mself\u001b[0m\u001b[1;33m.\u001b[0m\u001b[0m_engine\u001b[0m \u001b[1;33m=\u001b[0m \u001b[0mCParserWrapper\u001b[0m\u001b[1;33m(\u001b[0m\u001b[0mself\u001b[0m\u001b[1;33m.\u001b[0m\u001b[0mf\u001b[0m\u001b[1;33m,\u001b[0m \u001b[1;33m**\u001b[0m\u001b[0mself\u001b[0m\u001b[1;33m.\u001b[0m\u001b[0moptions\u001b[0m\u001b[1;33m)\u001b[0m\u001b[1;33m\u001b[0m\u001b[0m\n\u001b[0m\u001b[0;32m   1136\u001b[0m         \u001b[1;32melse\u001b[0m\u001b[1;33m:\u001b[0m\u001b[1;33m\u001b[0m\u001b[0m\n\u001b[0;32m   1137\u001b[0m             \u001b[1;32mif\u001b[0m \u001b[0mengine\u001b[0m \u001b[1;33m==\u001b[0m \u001b[1;34m\"python\"\u001b[0m\u001b[1;33m:\u001b[0m\u001b[1;33m\u001b[0m\u001b[0m\n",
      "\u001b[1;32m~\\Anaconda3\\lib\\site-packages\\pandas\\io\\parsers.py\u001b[0m in \u001b[0;36m__init__\u001b[1;34m(self, src, **kwds)\u001b[0m\n\u001b[0;32m   1915\u001b[0m         \u001b[0mkwds\u001b[0m\u001b[1;33m[\u001b[0m\u001b[1;34m\"usecols\"\u001b[0m\u001b[1;33m]\u001b[0m \u001b[1;33m=\u001b[0m \u001b[0mself\u001b[0m\u001b[1;33m.\u001b[0m\u001b[0musecols\u001b[0m\u001b[1;33m\u001b[0m\u001b[0m\n\u001b[0;32m   1916\u001b[0m \u001b[1;33m\u001b[0m\u001b[0m\n\u001b[1;32m-> 1917\u001b[1;33m         \u001b[0mself\u001b[0m\u001b[1;33m.\u001b[0m\u001b[0m_reader\u001b[0m \u001b[1;33m=\u001b[0m \u001b[0mparsers\u001b[0m\u001b[1;33m.\u001b[0m\u001b[0mTextReader\u001b[0m\u001b[1;33m(\u001b[0m\u001b[0msrc\u001b[0m\u001b[1;33m,\u001b[0m \u001b[1;33m**\u001b[0m\u001b[0mkwds\u001b[0m\u001b[1;33m)\u001b[0m\u001b[1;33m\u001b[0m\u001b[0m\n\u001b[0m\u001b[0;32m   1918\u001b[0m         \u001b[0mself\u001b[0m\u001b[1;33m.\u001b[0m\u001b[0munnamed_cols\u001b[0m \u001b[1;33m=\u001b[0m \u001b[0mself\u001b[0m\u001b[1;33m.\u001b[0m\u001b[0m_reader\u001b[0m\u001b[1;33m.\u001b[0m\u001b[0munnamed_cols\u001b[0m\u001b[1;33m\u001b[0m\u001b[0m\n\u001b[0;32m   1919\u001b[0m \u001b[1;33m\u001b[0m\u001b[0m\n",
      "\u001b[1;32mpandas\\_libs\\parsers.pyx\u001b[0m in \u001b[0;36mpandas._libs.parsers.TextReader.__cinit__\u001b[1;34m()\u001b[0m\n",
      "\u001b[1;32mpandas\\_libs\\parsers.pyx\u001b[0m in \u001b[0;36mpandas._libs.parsers.TextReader._setup_parser_source\u001b[1;34m()\u001b[0m\n",
      "\u001b[1;31mFileNotFoundError\u001b[0m: [Errno 2] File b'Data/list_attr_celeba.txt' does not exist: b'Data/list_attr_celeba.txt'"
     ]
    }
   ],
   "source": [
    "attributes = pd.read_csv('Data/list_attr_celeba.txt', sep=\" \")\n",
    "attributes.drop('Unnamed: 41',axis=1, inplace=True)\n",
    "partition = pd.read_csv('Data/list_eval_partition.txt', sep=\" \", header=None, names=['im_id','partition'])\n",
    "matched = attributes.set_index('im_id').join(partition.set_index('im_id')).replace(-1,0)\n",
    "test_df = matched[matched['partition']==2]"
   ]
  },
  {
   "cell_type": "code",
   "execution_count": 5,
   "metadata": {},
   "outputs": [
    {
     "name": "stdout",
     "output_type": "stream",
     "text": [
      "No GPU available.\n"
     ]
    }
   ],
   "source": [
    "use_cuda = torch.cuda.is_available()\n",
    "print(\"Running GPU.\") if use_cuda else print(\"No GPU available.\")\n",
    "\n",
    "\n",
    "def get_variable(x):\n",
    "    \"\"\" Converts tensors to cuda, if available. \"\"\"\n",
    "    if use_cuda:\n",
    "        return x.cuda()\n",
    "    return x\n",
    "\n",
    "\n",
    "def get_numpy(x):\n",
    "    \"\"\" Get numpy array for both cuda and not. \"\"\"\n",
    "    if use_cuda:\n",
    "        return x.cpu().data.numpy()\n",
    "    return x.data.numpy()"
   ]
  },
  {
   "cell_type": "code",
   "execution_count": 6,
   "metadata": {},
   "outputs": [],
   "source": [
    "criterion = nn.CrossEntropyLoss()          #<-- Your code here.   \n",
    "\n",
    "def accuracy(ys, ts):\n",
    "    predictions = torch.max(ys, 1)[1]\n",
    "    correct_prediction = torch.eq(predictions, ts)\n",
    "    return torch.mean(correct_prediction.float())"
   ]
  },
  {
   "cell_type": "code",
   "execution_count": 7,
   "metadata": {},
   "outputs": [],
   "source": [
    "# Function to get label\n",
    "def get_labels(batch):\n",
    "    return get_variable(Variable(batch['target']))\n",
    "\n",
    "# Function to get input\n",
    "def get_input(batch):\n",
    "    return {\n",
    "        'x_img': get_variable(Variable(batch['image']))\n",
    "    }"
   ]
  },
  {
   "cell_type": "markdown",
   "metadata": {},
   "source": [
    "### Insert df:"
   ]
  },
  {
   "cell_type": "code",
   "execution_count": 8,
   "metadata": {},
   "outputs": [],
   "source": [
    "df_pkl = 'run4_High_Cheekbones__df.pkl'"
   ]
  },
  {
   "cell_type": "code",
   "execution_count": 9,
   "metadata": {},
   "outputs": [],
   "source": [
    "# Read dataframe with training metrics\n",
    "df = pd.read_pickle('models/aws_models/'+df_pkl) #e.g. pd.read_pickle('df.pkl')"
   ]
  },
  {
   "cell_type": "code",
   "execution_count": 10,
   "metadata": {},
   "outputs": [
    {
     "data": {
      "text/html": [
       "<div>\n",
       "<style scoped>\n",
       "    .dataframe tbody tr th:only-of-type {\n",
       "        vertical-align: middle;\n",
       "    }\n",
       "\n",
       "    .dataframe tbody tr th {\n",
       "        vertical-align: top;\n",
       "    }\n",
       "\n",
       "    .dataframe thead th {\n",
       "        text-align: right;\n",
       "    }\n",
       "</style>\n",
       "<table border=\"1\" class=\"dataframe\">\n",
       "  <thead>\n",
       "    <tr style=\"text-align: right;\">\n",
       "      <th></th>\n",
       "      <th>layers</th>\n",
       "      <th>activations</th>\n",
       "      <th>conv_out_channels</th>\n",
       "      <th>kernel_size</th>\n",
       "      <th>conv_stride</th>\n",
       "      <th>maxpool</th>\n",
       "      <th>dropout</th>\n",
       "      <th>batchnorm</th>\n",
       "      <th>optimizer</th>\n",
       "      <th>learning_rate</th>\n",
       "      <th>weight_decay</th>\n",
       "      <th>batch_size</th>\n",
       "      <th>num_epochs</th>\n",
       "      <th>net</th>\n",
       "      <th>train_loss</th>\n",
       "      <th>train_accs</th>\n",
       "      <th>valid_train_loss</th>\n",
       "      <th>valid_train_accs</th>\n",
       "      <th>valid_loss</th>\n",
       "      <th>valid_accs</th>\n",
       "    </tr>\n",
       "  </thead>\n",
       "  <tbody>\n",
       "    <tr>\n",
       "      <td>2</td>\n",
       "      <td>2</td>\n",
       "      <td>[&lt;function relu at 0x0000029385703E18&gt;, &lt;funct...</td>\n",
       "      <td>32</td>\n",
       "      <td>5</td>\n",
       "      <td>1</td>\n",
       "      <td>2</td>\n",
       "      <td>0.2</td>\n",
       "      <td>True</td>\n",
       "      <td>Adam</td>\n",
       "      <td>0.001</td>\n",
       "      <td>0.01</td>\n",
       "      <td>128</td>\n",
       "      <td>5</td>\n",
       "      <td>run4_High_Cheekbones__model2</td>\n",
       "      <td>[0.7827200293540955, 1.2428656816482544, 0.924...</td>\n",
       "      <td>[0.53125, 0.4375, 0.5546875, 0.515625, 0.63281...</td>\n",
       "      <td>[12.342262268066406, 0.31530147790908813, 0.24...</td>\n",
       "      <td>[0.4864851236343384, 0.8624855279922485, 0.893...</td>\n",
       "      <td>0.252845</td>\n",
       "      <td>0.903206</td>\n",
       "    </tr>\n",
       "  </tbody>\n",
       "</table>\n",
       "</div>"
      ],
      "text/plain": [
       "   layers                                        activations  \\\n",
       "2       2  [<function relu at 0x0000029385703E18>, <funct...   \n",
       "\n",
       "   conv_out_channels  kernel_size  conv_stride  maxpool  dropout  batchnorm  \\\n",
       "2                 32            5            1        2      0.2       True   \n",
       "\n",
       "  optimizer  learning_rate  weight_decay  batch_size  num_epochs  \\\n",
       "2      Adam          0.001          0.01         128           5   \n",
       "\n",
       "                            net  \\\n",
       "2  run4_High_Cheekbones__model2   \n",
       "\n",
       "                                          train_loss  \\\n",
       "2  [0.7827200293540955, 1.2428656816482544, 0.924...   \n",
       "\n",
       "                                          train_accs  \\\n",
       "2  [0.53125, 0.4375, 0.5546875, 0.515625, 0.63281...   \n",
       "\n",
       "                                    valid_train_loss  \\\n",
       "2  [12.342262268066406, 0.31530147790908813, 0.24...   \n",
       "\n",
       "                                    valid_train_accs valid_loss valid_accs  \n",
       "2  [0.4864851236343384, 0.8624855279922485, 0.893...   0.252845   0.903206  "
      ]
     },
     "execution_count": 10,
     "metadata": {},
     "output_type": "execute_result"
    }
   ],
   "source": [
    "df"
   ]
  },
  {
   "cell_type": "code",
   "execution_count": 11,
   "metadata": {},
   "outputs": [],
   "source": [
    "# Change i to the model number you want to load\n",
    "i = 2\n",
    "IMAGE_SHAPE = [73,60,3]\n",
    "layers = df.loc[i,'layers']\n",
    "activations = df.loc[i,'activations']\n",
    "conv_out_channels = df.loc[i,'conv_out_channels']\n",
    "kernel_size = df.loc[i,'kernel_size']\n",
    "conv_stride = df.loc[i,'conv_stride']\n",
    "maxpool = int(df.loc[i,'maxpool'])\n",
    "dropout = df.loc[i,'dropout']\n",
    "batchnorm = df.loc[i,'batchnorm']\n",
    "optimizer = df.loc[i,'optimizer']\n",
    "learning_rate = df.loc[i,'learning_rate']\n",
    "weight_decay = df.loc[i,'weight_decay']\n",
    "batch_size = int(df.loc[i,'batch_size'])\n",
    "num_epochs = df.loc[i,'num_epochs']\n",
    "\n",
    "net = network_tuning.tune_architecture(layers, activations, IMAGE_SHAPE, conv_out_channels, kernel_size,conv_stride, maxpool, dropout, batchnorm)"
   ]
  },
  {
   "cell_type": "markdown",
   "metadata": {},
   "source": [
    "### Insert model"
   ]
  },
  {
   "cell_type": "code",
   "execution_count": 12,
   "metadata": {},
   "outputs": [],
   "source": [
    "model = 'run4_High_Cheekbones__model2.dms'"
   ]
  },
  {
   "cell_type": "code",
   "execution_count": 13,
   "metadata": {},
   "outputs": [
    {
     "data": {
      "text/plain": [
       "Net(\n",
       "  (conv_1): Conv2d(3, 32, kernel_size=(5, 5), stride=(1, 1))\n",
       "  (batch1): BatchNorm2d(32, eps=1e-05, momentum=0.1, affine=True, track_running_stats=True)\n",
       "  (conv_2): Conv2d(32, 64, kernel_size=(5, 5), stride=(1, 1))\n",
       "  (batch2): BatchNorm2d(64, eps=1e-05, momentum=0.1, affine=True, track_running_stats=True)\n",
       "  (pool): MaxPool2d(kernel_size=2, stride=2, padding=0, dilation=1, ceil_mode=False)\n",
       "  (dropout): Dropout2d(p=0.2, inplace=False)\n",
       "  (l_out): Linear(in_features=11520, out_features=2, bias=False)\n",
       ")"
      ]
     },
     "execution_count": 13,
     "metadata": {},
     "output_type": "execute_result"
    }
   ],
   "source": [
    "# Load network, choose the model i\n",
    "net.load_state_dict(torch.load('models/aws_models/'+model,map_location=torch.device('cpu'))) # e.g. net.load_state_dict(torch.load('model1'))\n",
    "net.eval()"
   ]
  },
  {
   "cell_type": "code",
   "execution_count": 14,
   "metadata": {},
   "outputs": [],
   "source": [
    "#dataframe for saving predictions\n",
    "test_predictions = test_df.astype(object)\n",
    "test_predictions.loc[:,'target'] = test_predictions.loc[:,'Smiling']\n",
    "test_predictions.drop(['Smiling','partition'],axis=1)\n",
    "test_predictions['output'] = np.nan\n",
    "test_predictions['labels_argmax'] = np.nan\n",
    "test_predictions['accuracy'] = np.nan\n",
    "test_predictions['criterion'] = np.nan"
   ]
  },
  {
   "cell_type": "code",
   "execution_count": 15,
   "metadata": {},
   "outputs": [],
   "source": [
    "#calculation predictions on the validation set\n",
    "batch_gen_test = DataLoader(data_test, batch_size, shuffle=True, num_workers=6)\n",
    "test_1_losses,test_1_accs,test_1_lengths,test_0_losses,test_0_accs,test_0_lengths = 0, 0, 0, 0, 0, 0\n",
    "test_predictions = test_predictions.astype(object)\n",
    "j=0\n",
    "with torch.no_grad():\n",
    "    for batch_test in batch_gen_test:\n",
    "        \n",
    "        output = net(**get_input(batch_test))\n",
    "        labels_argmax = torch.max(get_labels(batch_test), 1)[1]\n",
    "        j+=1\n",
    "        for i in range(len(batch_test['file'])):\n",
    "            #plt.figure()\n",
    "            #plt.imshow(np.transpose(vutils.make_grid(batch_valid['image'][i], padding=2,normalize=True).cpu(),(1,2,0)))\n",
    "            #plt.axis('off')\n",
    "            #plt.ioff()\n",
    "            #plt.show()\n",
    "            #print('True Label: ',labels_argmax[i]) \n",
    "            #print('Model output: ', output['out'][i])\n",
    "            #print('File name: ', batch_valid['file'][i])\n",
    "            test_predictions.at[batch_test['file'][i],'output'] = output['out'][i]\n",
    "            test_predictions.at[batch_test['file'][i],'labels_argmax'] = labels_argmax[i]\n",
    "            test_predictions.at[batch_test['file'][i],'accuracy'] = accuracy(output['out'][i:i+1],labels_argmax[i:i+1])\n",
    "            test_predictions.at[batch_test['file'][i],'criterion'] = criterion(output['out'][i:i+1],labels_argmax[i:i+1])"
   ]
  },
  {
   "cell_type": "code",
   "execution_count": 16,
   "metadata": {},
   "outputs": [
    {
     "data": {
      "text/plain": [
       "0.8980062118024246"
      ]
     },
     "execution_count": 16,
     "metadata": {},
     "output_type": "execute_result"
    }
   ],
   "source": [
    "# Should be equalt to validation accuracy in df\n",
    "np.mean(test_predictions['accuracy'])"
   ]
  },
  {
   "cell_type": "code",
   "execution_count": 17,
   "metadata": {},
   "outputs": [
    {
     "name": "stdout",
     "output_type": "stream",
     "text": [
      "5_o_Clock_Shadow\n",
      "Arched_Eyebrows\n",
      "Attractive\n",
      "Bags_Under_Eyes\n",
      "Bald\n",
      "Bangs\n",
      "Big_Lips\n",
      "Big_Nose\n",
      "Black_Hair\n",
      "Blond_Hair\n",
      "Blurry\n",
      "Brown_Hair\n",
      "Bushy_Eyebrows\n",
      "Chubby\n",
      "Double_Chin\n",
      "Eyeglasses\n",
      "Goatee\n",
      "Gray_Hair\n",
      "Heavy_Makeup\n",
      "High_Cheekbones\n",
      "Male\n",
      "Mouth_Slightly_Open\n",
      "Mustache\n",
      "Narrow_Eyes\n",
      "No_Beard\n",
      "Oval_Face\n",
      "Pale_Skin\n",
      "Pointy_Nose\n",
      "Receding_Hairline\n",
      "Rosy_Cheeks\n",
      "Sideburns\n",
      "Straight_Hair\n",
      "Wavy_Hair\n",
      "Wearing_Earrings\n",
      "Wearing_Hat\n",
      "Wearing_Lipstick\n",
      "Wearing_Necklace\n",
      "Wearing_Necktie\n",
      "Young\n"
     ]
    }
   ],
   "source": [
    "#calculating accuracies for all protected attributes\n",
    "attributes = matched.iloc[:,0:-1].drop('Smiling',axis=1).columns\n",
    "df_att = pd.DataFrame(index = attributes, columns=['test_1_loss','test_1_acc','test_0_loss','test_0_acc','test_1_FP','test_1_TP','test_0_FP','test_0_TP','test_1_FN','test_0_FN','test_1_TN','test_0_TN'])\n",
    "batch_gen_test = DataLoader(data_test, batch_size, shuffle=True, num_workers=6)\n",
    "for att in range(0,len(attributes)):\n",
    "    print(attributes[att])\n",
    "    \n",
    "    att_ = test_predictions.iloc[:][attributes[att]]\n",
    "    t_ = test_predictions.iloc[:]['target']\n",
    "    \n",
    "    att_1 = np.where(att_==1)\n",
    "    att_0 = np.where(att_==0)\n",
    "    \n",
    "    att_1_t_1 = np.where((att_==1) & (t_==1))\n",
    "    att_0_t_1 = np.where((att_==0) & (t_==1))\n",
    "    att_1_t_0 = np.where((att_==1) & (t_==0))\n",
    "    att_0_t_0 = np.where((att_==0) & (t_==0))\n",
    "    \n",
    "    df_att.iloc[att]['test_1_loss'] = np.mean(test_predictions.iloc[att_1]['criterion'])\n",
    "    df_att.iloc[att]['test_1_acc'] = np.mean(test_predictions.iloc[att_1]['accuracy'])\n",
    "    df_att.iloc[att]['test_0_loss'] = np.mean(test_predictions.iloc[att_0]['criterion'])\n",
    "    df_att.iloc[att]['test_0_acc'] = np.mean(test_predictions.iloc[att_0]['accuracy'])\n",
    "    df_att.iloc[att]['test_1_FP'] = 1-np.mean(test_predictions.iloc[att_1_t_0]['accuracy'])\n",
    "    df_att.iloc[att]['test_0_FP'] = 1-np.mean(test_predictions.iloc[att_0_t_0]['accuracy'])\n",
    "    df_att.iloc[att]['test_1_TP'] = np.mean(test_predictions.iloc[att_1_t_1]['accuracy'])\n",
    "    df_att.iloc[att]['test_0_TP'] = np.mean(test_predictions.iloc[att_0_t_1]['accuracy'])\n",
    "    df_att.iloc[att]['test_1_FN'] = 1-np.mean(test_predictions.iloc[att_1_t_1]['accuracy'])\n",
    "    df_att.iloc[att]['test_0_FN'] = 1-np.mean(test_predictions.iloc[att_0_t_1]['accuracy'])\n",
    "    df_att.iloc[att]['test_1_TN'] = np.mean(test_predictions.iloc[att_1_t_0]['accuracy'])\n",
    "    df_att.iloc[att]['test_0_TN'] = np.mean(test_predictions.iloc[att_0_t_0]['accuracy'])"
   ]
  },
  {
   "cell_type": "code",
   "execution_count": 18,
   "metadata": {},
   "outputs": [],
   "source": [
    "df_att['TP_OR'] = df_att['test_1_TP'] /df_att['test_0_TP'] \n",
    "df_att['FP_OR'] = df_att['test_1_FP'] /df_att['test_0_FP']\n",
    "df_att['acc_ratio'] = df_att['test_1_acc'] /df_att['test_0_acc']\n",
    "df_att['FN_OR'] = df_att['test_1_FN'] /df_att['test_0_FN'] \n",
    "df_att['TP_OR'] = pd.to_numeric(df_att['TP_OR'])\n",
    "df_att['FP_OR'] = pd.to_numeric(df_att['FP_OR'])\n",
    "df_att['acc_ratio'] = pd.to_numeric(df_att['acc_ratio'])\n",
    "df_att['FN_OR'] = pd.to_numeric(df_att['FN_OR'])\n"
   ]
  },
  {
   "cell_type": "code",
   "execution_count": 19,
   "metadata": {},
   "outputs": [],
   "source": [
    "df_att = df_att.sort_values('acc_ratio')"
   ]
  },
  {
   "cell_type": "code",
   "execution_count": 54,
   "metadata": {},
   "outputs": [],
   "source": [
    "df_confusion = pd.DataFrame(index=['Smiling','Not Smiling'],columns=['Smiling','Not Smiling'])\n",
    "df_confusion.at['Smiling','Smiling'] = df_att.loc['High_Cheekbones']['test_0_TP']\n",
    "df_confusion.at['Smiling','Not Smiling'] = df_att.loc['High_Cheekbones']['test_0_FP']\n",
    "df_confusion.at['Not Smiling','Smiling'] = df_att.loc['High_Cheekbones']['test_0_FN']\n",
    "df_confusion.at['Not Smiling','Not Smiling'] = df_att.loc['High_Cheekbones']['test_0_TN']"
   ]
  },
  {
   "cell_type": "code",
   "execution_count": 55,
   "metadata": {},
   "outputs": [
    {
     "data": {
      "image/png": "[encoded data removed]",
      "text/plain": [
       "<Figure size 360x360 with 2 Axes>"
      ]
     },
     "metadata": {
      "needs_background": "light"
     },
     "output_type": "display_data"
    }
   ],
   "source": [
    "plt.figure(figsize = (5,5))\n",
    "cmap=sns.color_palette(\"RdBu\",70)\n",
    "heatmap_kwargs = dict(vmin=0, vmax=1, cmap=cmap,annot=True, linewidths=.5, fmt='.4g')\n",
    "ax = sns.heatmap(df_confusion.astype('float'), center=0.5, **heatmap_kwargs)\n",
    "ax.set_xticklabels(list(df_confusion.columns))\n",
    "ax.set_yticklabels(list(df_confusion.index))\n",
    "bottom, top = ax.get_ylim()\n",
    "ax.set_ylim(bottom + 0.5, top - 0.5)\n",
    "ax.xaxis.set_ticks_position('top')\n",
    "plt.tight_layout()\n",
    "#plt.savefig(model+'.png',dpi=500)"
   ]
  },
  {
   "cell_type": "code",
   "execution_count": 52,
   "metadata": {},
   "outputs": [],
   "source": [
    "df_confusion2 = pd.DataFrame(index=['Smiling','Not Smiling'],columns=['Smiling','Not Smiling'])\n",
    "df_confusion2.at['Smiling','Smiling'] = df_att.loc['High_Cheekbones']['test_1_TP']\n",
    "df_confusion2.at['Smiling','Not Smiling'] = df_att.loc['High_Cheekbones']['test_1_FP']\n",
    "df_confusion2.at['Not Smiling','Smiling'] = df_att.loc['High_Cheekbones']['test_1_FN']\n",
    "df_confusion2.at['Not Smiling','Not Smiling'] = df_att.loc['High_Cheekbones']['test_1_TN']"
   ]
  },
  {
   "cell_type": "code",
   "execution_count": 53,
   "metadata": {},
   "outputs": [
    {
     "data": {
      "image/png": "[encoded data removed]",
      "text/plain": [
       "<Figure size 360x360 with 2 Axes>"
      ]
     },
     "metadata": {
      "needs_background": "light"
     },
     "output_type": "display_data"
    }
   ],
   "source": [
    "plt.figure(figsize = (5,5))\n",
    "cmap=sns.color_palette(\"RdBu\",70)\n",
    "heatmap_kwargs = dict(vmin=0, vmax=1, cmap=cmap,annot=True, linewidths=.5, fmt='.4g')\n",
    "ax = sns.heatmap(df_confusion2.astype('float'), center=0.5, **heatmap_kwargs)\n",
    "ax.set_xticklabels(list(df_confusion2.columns))\n",
    "ax.set_yticklabels(list(df_confusion2.index))\n",
    "bottom, top = ax.get_ylim()\n",
    "ax.set_ylim(bottom + 0.5, top - 0.5)\n",
    "ax.xaxis.set_ticks_position('top')\n",
    "plt.tight_layout()\n",
    "#plt.savefig(model+'.png',dpi=500)"
   ]
  },
  {
   "cell_type": "code",
   "execution_count": 21,
   "metadata": {},
   "outputs": [],
   "source": [
    "df_att2 = df_att.loc[['Rosy_Cheeks','Gray_Hair','Bags_Under_Eyes','Bald','Chubby','Double_Chin','Goatee','High_Cheekbones','Young','Narrow_Eyes','Blond_Hair','Male','Arched_Eyebrows','Receding_Hairline','Attractive','Oval_Face','Big_Lips','Sideburns','Big_Nose']].sort_values('acc_ratio')"
   ]
  },
  {
   "cell_type": "code",
   "execution_count": 22,
   "metadata": {},
   "outputs": [
    {
     "data": {
      "text/html": [
       "<div>\n",
       "<style scoped>\n",
       "    .dataframe tbody tr th:only-of-type {\n",
       "        vertical-align: middle;\n",
       "    }\n",
       "\n",
       "    .dataframe tbody tr th {\n",
       "        vertical-align: top;\n",
       "    }\n",
       "\n",
       "    .dataframe thead th {\n",
       "        text-align: right;\n",
       "    }\n",
       "</style>\n",
       "<table border=\"1\" class=\"dataframe\">\n",
       "  <thead>\n",
       "    <tr style=\"text-align: right;\">\n",
       "      <th></th>\n",
       "      <th>acc_ratio</th>\n",
       "      <th>FN_OR</th>\n",
       "      <th>FP_OR</th>\n",
       "    </tr>\n",
       "  </thead>\n",
       "  <tbody>\n",
       "    <tr>\n",
       "      <td>Bald</td>\n",
       "      <td>0.938606</td>\n",
       "      <td>1.078393</td>\n",
       "      <td>2.401525</td>\n",
       "    </tr>\n",
       "    <tr>\n",
       "      <td>Gray_Hair</td>\n",
       "      <td>0.960025</td>\n",
       "      <td>1.234703</td>\n",
       "      <td>1.543042</td>\n",
       "    </tr>\n",
       "    <tr>\n",
       "      <td>Chubby</td>\n",
       "      <td>0.965508</td>\n",
       "      <td>0.987623</td>\n",
       "      <td>1.920505</td>\n",
       "    </tr>\n",
       "    <tr>\n",
       "      <td>Oval_Face</td>\n",
       "      <td>0.966805</td>\n",
       "      <td>1.306461</td>\n",
       "      <td>0.854201</td>\n",
       "    </tr>\n",
       "    <tr>\n",
       "      <td>Sideburns</td>\n",
       "      <td>0.969080</td>\n",
       "      <td>1.423956</td>\n",
       "      <td>1.486265</td>\n",
       "    </tr>\n",
       "    <tr>\n",
       "      <td>Double_Chin</td>\n",
       "      <td>0.986103</td>\n",
       "      <td>0.605565</td>\n",
       "      <td>2.933363</td>\n",
       "    </tr>\n",
       "    <tr>\n",
       "      <td>Goatee</td>\n",
       "      <td>0.986392</td>\n",
       "      <td>1.010658</td>\n",
       "      <td>1.476753</td>\n",
       "    </tr>\n",
       "    <tr>\n",
       "      <td>Male</td>\n",
       "      <td>0.986864</td>\n",
       "      <td>1.056614</td>\n",
       "      <td>1.623623</td>\n",
       "    </tr>\n",
       "    <tr>\n",
       "      <td>Receding_Hairline</td>\n",
       "      <td>0.994097</td>\n",
       "      <td>0.816898</td>\n",
       "      <td>1.490526</td>\n",
       "    </tr>\n",
       "    <tr>\n",
       "      <td>High_Cheekbones</td>\n",
       "      <td>1.000665</td>\n",
       "      <td>0.389931</td>\n",
       "      <td>1.383698</td>\n",
       "    </tr>\n",
       "    <tr>\n",
       "      <td>Blond_Hair</td>\n",
       "      <td>1.002562</td>\n",
       "      <td>0.887560</td>\n",
       "      <td>0.988313</td>\n",
       "    </tr>\n",
       "    <tr>\n",
       "      <td>Big_Nose</td>\n",
       "      <td>1.013273</td>\n",
       "      <td>0.594874</td>\n",
       "      <td>1.517086</td>\n",
       "    </tr>\n",
       "    <tr>\n",
       "      <td>Rosy_Cheeks</td>\n",
       "      <td>1.013463</td>\n",
       "      <td>0.655034</td>\n",
       "      <td>1.304842</td>\n",
       "    </tr>\n",
       "    <tr>\n",
       "      <td>Attractive</td>\n",
       "      <td>1.019497</td>\n",
       "      <td>0.871809</td>\n",
       "      <td>0.620245</td>\n",
       "    </tr>\n",
       "    <tr>\n",
       "      <td>Narrow_Eyes</td>\n",
       "      <td>1.021096</td>\n",
       "      <td>0.543123</td>\n",
       "      <td>1.428319</td>\n",
       "    </tr>\n",
       "    <tr>\n",
       "      <td>Bags_Under_Eyes</td>\n",
       "      <td>1.021348</td>\n",
       "      <td>0.538326</td>\n",
       "      <td>1.443178</td>\n",
       "    </tr>\n",
       "    <tr>\n",
       "      <td>Young</td>\n",
       "      <td>1.030585</td>\n",
       "      <td>0.951595</td>\n",
       "      <td>0.572460</td>\n",
       "    </tr>\n",
       "    <tr>\n",
       "      <td>Big_Lips</td>\n",
       "      <td>1.037673</td>\n",
       "      <td>0.594343</td>\n",
       "      <td>0.883977</td>\n",
       "    </tr>\n",
       "    <tr>\n",
       "      <td>Arched_Eyebrows</td>\n",
       "      <td>1.037708</td>\n",
       "      <td>0.650913</td>\n",
       "      <td>0.658961</td>\n",
       "    </tr>\n",
       "  </tbody>\n",
       "</table>\n",
       "</div>"
      ],
      "text/plain": [
       "                   acc_ratio     FN_OR     FP_OR\n",
       "Bald                0.938606  1.078393  2.401525\n",
       "Gray_Hair           0.960025  1.234703  1.543042\n",
       "Chubby              0.965508  0.987623  1.920505\n",
       "Oval_Face           0.966805  1.306461  0.854201\n",
       "Sideburns           0.969080  1.423956  1.486265\n",
       "Double_Chin         0.986103  0.605565  2.933363\n",
       "Goatee              0.986392  1.010658  1.476753\n",
       "Male                0.986864  1.056614  1.623623\n",
       "Receding_Hairline   0.994097  0.816898  1.490526\n",
       "High_Cheekbones     1.000665  0.389931  1.383698\n",
       "Blond_Hair          1.002562  0.887560  0.988313\n",
       "Big_Nose            1.013273  0.594874  1.517086\n",
       "Rosy_Cheeks         1.013463  0.655034  1.304842\n",
       "Attractive          1.019497  0.871809  0.620245\n",
       "Narrow_Eyes         1.021096  0.543123  1.428319\n",
       "Bags_Under_Eyes     1.021348  0.538326  1.443178\n",
       "Young               1.030585  0.951595  0.572460\n",
       "Big_Lips            1.037673  0.594343  0.883977\n",
       "Arched_Eyebrows     1.037708  0.650913  0.658961"
      ]
     },
     "execution_count": 22,
     "metadata": {},
     "output_type": "execute_result"
    }
   ],
   "source": [
    "df_att2[['acc_ratio','FN_OR','FP_OR']]"
   ]
  },
  {
   "cell_type": "code",
   "execution_count": 23,
   "metadata": {},
   "outputs": [
    {
     "data": {
      "image/png": "[encoded data removed]",
      "text/plain": [
       "<Figure size 720x720 with 2 Axes>"
      ]
     },
     "metadata": {
      "needs_background": "light"
     },
     "output_type": "display_data"
    }
   ],
   "source": [
    "plt.figure(figsize = (10,10))\n",
    "cmap=sns.color_palette(\"RdBu\",70)\n",
    "heatmap_kwargs = dict(vmin=0, vmax=4, cmap=cmap,annot=True, linewidths=.5, fmt='.4g')\n",
    "ax = sns.heatmap(df_att2[['acc_ratio','FN_OR','FP_OR']], center=1.0, **heatmap_kwargs)\n",
    "ax.set_xticklabels(['Accuracy ratio','False negative Odds Ratio','False Positive Odds Ratio'])\n",
    "ax.set_yticklabels(list(df_att2.index))\n",
    "bottom, top = ax.get_ylim()\n",
    "ax.set_ylim(bottom + 0.5, top - 0.5)\n",
    "ax.xaxis.set_ticks_position('top')\n",
    "plt.tight_layout()\n",
    "plt.savefig(model+'.png',dpi=500)"
   ]
  },
  {
   "cell_type": "code",
   "execution_count": null,
   "metadata": {},
   "outputs": [],
   "source": [
    "#funtion to show image along with output and tru target\n",
    "def show_batch(sample_batched, bias_idx):\n",
    "    \"\"\"Show image with landmarks for a batch of samples.\"\"\"\n",
    "    images_batch, target_batch, bias = \\\n",
    "            sample_batched['image'], sample_batched['target'], sample_batched['attributes'][:,bias_idx]\n",
    "    \n",
    "    batch_size = len(images_batch)\n",
    "    pred_label = torch.max(get_labels(sample_batched), 1)[1]\n",
    "    \n",
    "    for i in range(batch_size):\n",
    "\n",
    "        #grid = utils.make_grid(images_batch)\n",
    "        plt.figure()\n",
    "        plt.imshow(np.transpose(vutils.make_grid(images_batch[i], padding=2,normalize=True).cpu(),(1,2,0)))\n",
    "        plt.axis('off')\n",
    "        plt.ioff()\n",
    "        plt.show()\n",
    "        print(target_batch[i])\n",
    "        #print(bias[i])\n",
    "        print('Output of NN: ',output['out'][i])\n",
    "        print('Predicted label: ', pred_label[i])"
   ]
  },
  {
   "cell_type": "code",
   "execution_count": null,
   "metadata": {},
   "outputs": [],
   "source": [
    "batch_valid"
   ]
  },
  {
   "cell_type": "code",
   "execution_count": null,
   "metadata": {},
   "outputs": [],
   "source": [
    "plt.figure()\n",
    "show_batch(batch_valid,21)\n",
    "plt.axis('off')\n",
    "plt.ioff()\n",
    "plt.show()"
   ]
  },
  {
   "cell_type": "code",
   "execution_count": null,
   "metadata": {},
   "outputs": [],
   "source": [
    "IMAGE_SHAPE = [73,60,3]\n",
    "# Root directory for dataset\n",
    "dataroot = 'C:\\\\Users\\\\cfthe\\\\OneDrive\\\\DTU\\\\Kandidat\\\\Deep\\\\AlgorithmicFairness'\n",
    "# Paths to data\n",
    "VALID_PATH = dataroot + \"\\\\images_resize\\\\valid.csv\"  \n",
    "IMAGE_PATHS = \"C:\\\\Users\\\\cfthe\\\\OneDrive\\\\DTU\\\\Kandidat\\\\Deep\\\\AlgorithmicFairness\\\\images_resize\"\n",
    "TARGET_COL = 'Smiling' #'Smiling'\n",
    "NUM_CLASSES = 2\n",
    "\n",
    "# valid data\n",
    "data_valid = data_utils.CelebADataset(VALID_PATH,IMAGE_PATHS,IMAGE_SHAPE,TARGET_COL)"
   ]
  },
  {
   "cell_type": "code",
   "execution_count": null,
   "metadata": {},
   "outputs": [],
   "source": [
    "batch_gen_valid = DataLoader(data_valid, batch_size, shuffle=True, num_workers=6)\n",
    "with torch.no_grad():\n",
    "    for batch_valid in batch_gen_valid:\n",
    "        output = net(**get_input(batch_valid))\n",
    "        labels_argmax = torch.max(get_labels(batch_valid), 1)[1]\n",
    "        ac = accuracy(output['out'],labels_argmax)\n",
    "        print(ac)"
   ]
  },
  {
   "cell_type": "code",
   "execution_count": null,
   "metadata": {},
   "outputs": [],
   "source": [
    "output"
   ]
  },
  {
   "cell_type": "code",
   "execution_count": null,
   "metadata": {},
   "outputs": [],
   "source": [
    "batch_valid"
   ]
  },
  {
   "cell_type": "code",
   "execution_count": null,
   "metadata": {},
   "outputs": [],
   "source": []
  }
 ],
 "metadata": {
  "kernelspec": {
   "display_name": "Python 3",
   "language": "python",
   "name": "python3"
  },
  "language_info": {
   "codemirror_mode": {
    "name": "ipython",
    "version": 3
   },
   "file_extension": ".py",
   "mimetype": "text/x-python",
   "name": "python",
   "nbconvert_exporter": "python",
   "pygments_lexer": "ipython3",
   "version": "3.6.5"
  }
 },
 "nbformat": 4,
 "nbformat_minor": 2
}
