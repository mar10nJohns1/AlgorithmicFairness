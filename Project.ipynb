{
 "cells": [
  {
   "cell_type": "code",
   "execution_count": 1,
   "metadata": {},
   "outputs": [],
   "source": [
    "from __future__ import print_function\n",
    "#%matplotlib inline\n",
    "import argparse\n",
    "import os\n",
    "import random\n",
    "import torch\n",
    "import torch.nn as nn\n",
    "import torch.nn.parallel\n",
    "import torch.backends.cudnn as cudnn\n",
    "import torch.optim as optim\n",
    "import torch.utils.data\n",
    "import torchvision.datasets as dset\n",
    "import torchvision.transforms as transforms\n",
    "import torchvision.utils as vutils\n",
    "import numpy as np\n",
    "import matplotlib.pyplot as plt\n",
    "import matplotlib.animation as animation\n",
    "from IPython.display import HTML\n",
    "import pandas as pd\n",
    "import glob\n",
    "import data_utils.data_utils_celeba as data_utils_celeba\n",
    "from IPython.display import clear_output\n",
    "\n",
    "\n",
    "import numpy as np\n",
    "import pandas as pd\n",
    "import os"
   ]
  },
  {
   "cell_type": "code",
   "execution_count": 2,
   "metadata": {},
   "outputs": [],
   "source": [
    "# Root directory for dataset\n",
    "dataroot = 'C:\\\\Users\\\\cfthe\\\\OneDrive\\\\DTU\\\\Kandidat\\\\Deep\\\\AlgorithmicFairness\\\\Data'\n",
    "\n",
    "# Number of workers for dataloader\n",
    "workers = 4\n",
    "\n",
    "# Batch size during training\n",
    "batch_size = 128\n",
    "\n",
    "# Spatial size of training images. All images will be resized to this\n",
    "#   size using a transformer.\n",
    "image_size = 64"
   ]
  },
  {
   "cell_type": "code",
   "execution_count": 8,
   "metadata": {
    "scrolled": true
   },
   "outputs": [],
   "source": [
    "attributes = pd.read_csv('C:\\\\Users\\\\cfthe\\\\OneDrive\\\\DTU\\\\Kandidat\\\\Deep\\\\AlgorithmicFairness\\\\Data\\\\list_attr_celeba.txt', sep=\" \")\n",
    "attributes.drop('Unnamed: 41',axis=1, inplace=True)\n",
    "partition = pd.read_csv('C:\\\\Users\\\\cfthe\\\\OneDrive\\\\DTU\\\\Kandidat\\\\Deep\\\\list_eval_partition.txt', sep=\" \", header=None, names=['im_id','partition'])\n",
    "matched = attributes.set_index('im_id').join(partition.set_index('im_id'))"
   ]
  },
  {
   "cell_type": "code",
   "execution_count": 140,
   "metadata": {},
   "outputs": [
    {
     "data": {
      "text/plain": [
       "8458"
      ]
     },
     "execution_count": 140,
     "metadata": {},
     "output_type": "execute_result"
    }
   ],
   "source": [
    "matched[(matched['Male']==1) & (matched['partition']==1)].Male.sum()"
   ]
  },
  {
   "cell_type": "code",
   "execution_count": 177,
   "metadata": {},
   "outputs": [
    {
     "data": {
      "text/plain": [
       "0.04308652539386923"
      ]
     },
     "execution_count": 177,
     "metadata": {},
     "output_type": "execute_result"
    }
   ],
   "source": [
    "matched[(matched['Pale_Skin']==1) & (matched['partition']==1)].Pale_Skin.sum()/matched[matched['partition']==1].Pale_Skin.count()"
   ]
  },
  {
   "cell_type": "code",
   "execution_count": 186,
   "metadata": {},
   "outputs": [
    {
     "data": {
      "text/html": [
       "<div>\n",
       "<style scoped>\n",
       "    .dataframe tbody tr th:only-of-type {\n",
       "        vertical-align: middle;\n",
       "    }\n",
       "\n",
       "    .dataframe tbody tr th {\n",
       "        vertical-align: top;\n",
       "    }\n",
       "\n",
       "    .dataframe thead th {\n",
       "        text-align: right;\n",
       "    }\n",
       "</style>\n",
       "<table border=\"1\" class=\"dataframe\">\n",
       "  <thead>\n",
       "    <tr style=\"text-align: right;\">\n",
       "      <th></th>\n",
       "      <th>5_o_Clock_Shadow</th>\n",
       "      <th>Arched_Eyebrows</th>\n",
       "      <th>Attractive</th>\n",
       "      <th>Bags_Under_Eyes</th>\n",
       "      <th>Bald</th>\n",
       "      <th>Bangs</th>\n",
       "      <th>Big_Lips</th>\n",
       "      <th>Big_Nose</th>\n",
       "      <th>Black_Hair</th>\n",
       "      <th>Blond_Hair</th>\n",
       "      <th>...</th>\n",
       "      <th>Smiling</th>\n",
       "      <th>Straight_Hair</th>\n",
       "      <th>Wavy_Hair</th>\n",
       "      <th>Wearing_Earrings</th>\n",
       "      <th>Wearing_Hat</th>\n",
       "      <th>Wearing_Lipstick</th>\n",
       "      <th>Wearing_Necklace</th>\n",
       "      <th>Wearing_Necktie</th>\n",
       "      <th>Young</th>\n",
       "      <th>partition</th>\n",
       "    </tr>\n",
       "    <tr>\n",
       "      <th>im_id</th>\n",
       "      <th></th>\n",
       "      <th></th>\n",
       "      <th></th>\n",
       "      <th></th>\n",
       "      <th></th>\n",
       "      <th></th>\n",
       "      <th></th>\n",
       "      <th></th>\n",
       "      <th></th>\n",
       "      <th></th>\n",
       "      <th></th>\n",
       "      <th></th>\n",
       "      <th></th>\n",
       "      <th></th>\n",
       "      <th></th>\n",
       "      <th></th>\n",
       "      <th></th>\n",
       "      <th></th>\n",
       "      <th></th>\n",
       "      <th></th>\n",
       "      <th></th>\n",
       "    </tr>\n",
       "  </thead>\n",
       "  <tbody>\n",
       "    <tr>\n",
       "      <td>000001.jpg</td>\n",
       "      <td>-1</td>\n",
       "      <td>1</td>\n",
       "      <td>1</td>\n",
       "      <td>-1</td>\n",
       "      <td>-1</td>\n",
       "      <td>-1</td>\n",
       "      <td>-1</td>\n",
       "      <td>-1</td>\n",
       "      <td>-1</td>\n",
       "      <td>-1</td>\n",
       "      <td>...</td>\n",
       "      <td>1</td>\n",
       "      <td>1</td>\n",
       "      <td>-1</td>\n",
       "      <td>1</td>\n",
       "      <td>-1</td>\n",
       "      <td>1</td>\n",
       "      <td>-1</td>\n",
       "      <td>-1</td>\n",
       "      <td>1</td>\n",
       "      <td>0</td>\n",
       "    </tr>\n",
       "    <tr>\n",
       "      <td>000002.jpg</td>\n",
       "      <td>-1</td>\n",
       "      <td>-1</td>\n",
       "      <td>-1</td>\n",
       "      <td>1</td>\n",
       "      <td>-1</td>\n",
       "      <td>-1</td>\n",
       "      <td>-1</td>\n",
       "      <td>1</td>\n",
       "      <td>-1</td>\n",
       "      <td>-1</td>\n",
       "      <td>...</td>\n",
       "      <td>1</td>\n",
       "      <td>-1</td>\n",
       "      <td>-1</td>\n",
       "      <td>-1</td>\n",
       "      <td>-1</td>\n",
       "      <td>-1</td>\n",
       "      <td>-1</td>\n",
       "      <td>-1</td>\n",
       "      <td>1</td>\n",
       "      <td>0</td>\n",
       "    </tr>\n",
       "    <tr>\n",
       "      <td>000003.jpg</td>\n",
       "      <td>-1</td>\n",
       "      <td>-1</td>\n",
       "      <td>-1</td>\n",
       "      <td>-1</td>\n",
       "      <td>-1</td>\n",
       "      <td>-1</td>\n",
       "      <td>1</td>\n",
       "      <td>-1</td>\n",
       "      <td>-1</td>\n",
       "      <td>-1</td>\n",
       "      <td>...</td>\n",
       "      <td>-1</td>\n",
       "      <td>-1</td>\n",
       "      <td>1</td>\n",
       "      <td>-1</td>\n",
       "      <td>-1</td>\n",
       "      <td>-1</td>\n",
       "      <td>-1</td>\n",
       "      <td>-1</td>\n",
       "      <td>1</td>\n",
       "      <td>0</td>\n",
       "    </tr>\n",
       "    <tr>\n",
       "      <td>000004.jpg</td>\n",
       "      <td>-1</td>\n",
       "      <td>-1</td>\n",
       "      <td>1</td>\n",
       "      <td>-1</td>\n",
       "      <td>-1</td>\n",
       "      <td>-1</td>\n",
       "      <td>-1</td>\n",
       "      <td>-1</td>\n",
       "      <td>-1</td>\n",
       "      <td>-1</td>\n",
       "      <td>...</td>\n",
       "      <td>-1</td>\n",
       "      <td>1</td>\n",
       "      <td>-1</td>\n",
       "      <td>1</td>\n",
       "      <td>-1</td>\n",
       "      <td>1</td>\n",
       "      <td>1</td>\n",
       "      <td>-1</td>\n",
       "      <td>1</td>\n",
       "      <td>0</td>\n",
       "    </tr>\n",
       "    <tr>\n",
       "      <td>000005.jpg</td>\n",
       "      <td>-1</td>\n",
       "      <td>1</td>\n",
       "      <td>1</td>\n",
       "      <td>-1</td>\n",
       "      <td>-1</td>\n",
       "      <td>-1</td>\n",
       "      <td>1</td>\n",
       "      <td>-1</td>\n",
       "      <td>-1</td>\n",
       "      <td>-1</td>\n",
       "      <td>...</td>\n",
       "      <td>-1</td>\n",
       "      <td>-1</td>\n",
       "      <td>-1</td>\n",
       "      <td>-1</td>\n",
       "      <td>-1</td>\n",
       "      <td>1</td>\n",
       "      <td>-1</td>\n",
       "      <td>-1</td>\n",
       "      <td>1</td>\n",
       "      <td>0</td>\n",
       "    </tr>\n",
       "    <tr>\n",
       "      <td>...</td>\n",
       "      <td>...</td>\n",
       "      <td>...</td>\n",
       "      <td>...</td>\n",
       "      <td>...</td>\n",
       "      <td>...</td>\n",
       "      <td>...</td>\n",
       "      <td>...</td>\n",
       "      <td>...</td>\n",
       "      <td>...</td>\n",
       "      <td>...</td>\n",
       "      <td>...</td>\n",
       "      <td>...</td>\n",
       "      <td>...</td>\n",
       "      <td>...</td>\n",
       "      <td>...</td>\n",
       "      <td>...</td>\n",
       "      <td>...</td>\n",
       "      <td>...</td>\n",
       "      <td>...</td>\n",
       "      <td>...</td>\n",
       "      <td>...</td>\n",
       "    </tr>\n",
       "    <tr>\n",
       "      <td>202595.jpg</td>\n",
       "      <td>-1</td>\n",
       "      <td>-1</td>\n",
       "      <td>1</td>\n",
       "      <td>-1</td>\n",
       "      <td>-1</td>\n",
       "      <td>-1</td>\n",
       "      <td>1</td>\n",
       "      <td>-1</td>\n",
       "      <td>-1</td>\n",
       "      <td>1</td>\n",
       "      <td>...</td>\n",
       "      <td>-1</td>\n",
       "      <td>-1</td>\n",
       "      <td>-1</td>\n",
       "      <td>-1</td>\n",
       "      <td>-1</td>\n",
       "      <td>1</td>\n",
       "      <td>-1</td>\n",
       "      <td>-1</td>\n",
       "      <td>1</td>\n",
       "      <td>2</td>\n",
       "    </tr>\n",
       "    <tr>\n",
       "      <td>202596.jpg</td>\n",
       "      <td>-1</td>\n",
       "      <td>-1</td>\n",
       "      <td>-1</td>\n",
       "      <td>-1</td>\n",
       "      <td>-1</td>\n",
       "      <td>1</td>\n",
       "      <td>1</td>\n",
       "      <td>-1</td>\n",
       "      <td>-1</td>\n",
       "      <td>1</td>\n",
       "      <td>...</td>\n",
       "      <td>1</td>\n",
       "      <td>1</td>\n",
       "      <td>-1</td>\n",
       "      <td>-1</td>\n",
       "      <td>-1</td>\n",
       "      <td>-1</td>\n",
       "      <td>-1</td>\n",
       "      <td>-1</td>\n",
       "      <td>1</td>\n",
       "      <td>2</td>\n",
       "    </tr>\n",
       "    <tr>\n",
       "      <td>202597.jpg</td>\n",
       "      <td>-1</td>\n",
       "      <td>-1</td>\n",
       "      <td>-1</td>\n",
       "      <td>-1</td>\n",
       "      <td>-1</td>\n",
       "      <td>-1</td>\n",
       "      <td>-1</td>\n",
       "      <td>-1</td>\n",
       "      <td>1</td>\n",
       "      <td>-1</td>\n",
       "      <td>...</td>\n",
       "      <td>1</td>\n",
       "      <td>-1</td>\n",
       "      <td>-1</td>\n",
       "      <td>-1</td>\n",
       "      <td>-1</td>\n",
       "      <td>-1</td>\n",
       "      <td>-1</td>\n",
       "      <td>-1</td>\n",
       "      <td>1</td>\n",
       "      <td>2</td>\n",
       "    </tr>\n",
       "    <tr>\n",
       "      <td>202598.jpg</td>\n",
       "      <td>-1</td>\n",
       "      <td>1</td>\n",
       "      <td>1</td>\n",
       "      <td>-1</td>\n",
       "      <td>-1</td>\n",
       "      <td>-1</td>\n",
       "      <td>1</td>\n",
       "      <td>-1</td>\n",
       "      <td>1</td>\n",
       "      <td>-1</td>\n",
       "      <td>...</td>\n",
       "      <td>1</td>\n",
       "      <td>-1</td>\n",
       "      <td>1</td>\n",
       "      <td>1</td>\n",
       "      <td>-1</td>\n",
       "      <td>1</td>\n",
       "      <td>-1</td>\n",
       "      <td>-1</td>\n",
       "      <td>1</td>\n",
       "      <td>2</td>\n",
       "    </tr>\n",
       "    <tr>\n",
       "      <td>202599.jpg</td>\n",
       "      <td>-1</td>\n",
       "      <td>1</td>\n",
       "      <td>1</td>\n",
       "      <td>-1</td>\n",
       "      <td>-1</td>\n",
       "      <td>-1</td>\n",
       "      <td>-1</td>\n",
       "      <td>-1</td>\n",
       "      <td>-1</td>\n",
       "      <td>1</td>\n",
       "      <td>...</td>\n",
       "      <td>-1</td>\n",
       "      <td>-1</td>\n",
       "      <td>1</td>\n",
       "      <td>-1</td>\n",
       "      <td>-1</td>\n",
       "      <td>1</td>\n",
       "      <td>-1</td>\n",
       "      <td>-1</td>\n",
       "      <td>1</td>\n",
       "      <td>2</td>\n",
       "    </tr>\n",
       "  </tbody>\n",
       "</table>\n",
       "<p>202599 rows × 41 columns</p>\n",
       "</div>"
      ],
      "text/plain": [
       "            5_o_Clock_Shadow  Arched_Eyebrows  Attractive  Bags_Under_Eyes  \\\n",
       "im_id                                                                        \n",
       "000001.jpg                -1                1           1               -1   \n",
       "000002.jpg                -1               -1          -1                1   \n",
       "000003.jpg                -1               -1          -1               -1   \n",
       "000004.jpg                -1               -1           1               -1   \n",
       "000005.jpg                -1                1           1               -1   \n",
       "...                      ...              ...         ...              ...   \n",
       "202595.jpg                -1               -1           1               -1   \n",
       "202596.jpg                -1               -1          -1               -1   \n",
       "202597.jpg                -1               -1          -1               -1   \n",
       "202598.jpg                -1                1           1               -1   \n",
       "202599.jpg                -1                1           1               -1   \n",
       "\n",
       "            Bald  Bangs  Big_Lips  Big_Nose  Black_Hair  Blond_Hair  ...  \\\n",
       "im_id                                                                ...   \n",
       "000001.jpg    -1     -1        -1        -1          -1          -1  ...   \n",
       "000002.jpg    -1     -1        -1         1          -1          -1  ...   \n",
       "000003.jpg    -1     -1         1        -1          -1          -1  ...   \n",
       "000004.jpg    -1     -1        -1        -1          -1          -1  ...   \n",
       "000005.jpg    -1     -1         1        -1          -1          -1  ...   \n",
       "...          ...    ...       ...       ...         ...         ...  ...   \n",
       "202595.jpg    -1     -1         1        -1          -1           1  ...   \n",
       "202596.jpg    -1      1         1        -1          -1           1  ...   \n",
       "202597.jpg    -1     -1        -1        -1           1          -1  ...   \n",
       "202598.jpg    -1     -1         1        -1           1          -1  ...   \n",
       "202599.jpg    -1     -1        -1        -1          -1           1  ...   \n",
       "\n",
       "            Smiling  Straight_Hair  Wavy_Hair  Wearing_Earrings  Wearing_Hat  \\\n",
       "im_id                                                                          \n",
       "000001.jpg        1              1         -1                 1           -1   \n",
       "000002.jpg        1             -1         -1                -1           -1   \n",
       "000003.jpg       -1             -1          1                -1           -1   \n",
       "000004.jpg       -1              1         -1                 1           -1   \n",
       "000005.jpg       -1             -1         -1                -1           -1   \n",
       "...             ...            ...        ...               ...          ...   \n",
       "202595.jpg       -1             -1         -1                -1           -1   \n",
       "202596.jpg        1              1         -1                -1           -1   \n",
       "202597.jpg        1             -1         -1                -1           -1   \n",
       "202598.jpg        1             -1          1                 1           -1   \n",
       "202599.jpg       -1             -1          1                -1           -1   \n",
       "\n",
       "            Wearing_Lipstick  Wearing_Necklace  Wearing_Necktie  Young  \\\n",
       "im_id                                                                    \n",
       "000001.jpg                 1                -1               -1      1   \n",
       "000002.jpg                -1                -1               -1      1   \n",
       "000003.jpg                -1                -1               -1      1   \n",
       "000004.jpg                 1                 1               -1      1   \n",
       "000005.jpg                 1                -1               -1      1   \n",
       "...                      ...               ...              ...    ...   \n",
       "202595.jpg                 1                -1               -1      1   \n",
       "202596.jpg                -1                -1               -1      1   \n",
       "202597.jpg                -1                -1               -1      1   \n",
       "202598.jpg                 1                -1               -1      1   \n",
       "202599.jpg                 1                -1               -1      1   \n",
       "\n",
       "            partition  \n",
       "im_id                  \n",
       "000001.jpg          0  \n",
       "000002.jpg          0  \n",
       "000003.jpg          0  \n",
       "000004.jpg          0  \n",
       "000005.jpg          0  \n",
       "...               ...  \n",
       "202595.jpg          2  \n",
       "202596.jpg          2  \n",
       "202597.jpg          2  \n",
       "202598.jpg          2  \n",
       "202599.jpg          2  \n",
       "\n",
       "[202599 rows x 41 columns]"
      ]
     },
     "execution_count": 186,
     "metadata": {},
     "output_type": "execute_result"
    }
   ],
   "source": [
    "matched"
   ]
  },
  {
   "cell_type": "code",
   "execution_count": 228,
   "metadata": {},
   "outputs": [],
   "source": [
    "train = matched[matched['partition']==0]\n",
    "valid = matched[matched['partition']==1]\n",
    "test = matched[matched['partition']==2]\n",
    "#train[0:10].to_csv('train.csv')\n",
    "#valid[0:10].to_csv('valid.csv')\n",
    "#test[0:10].to_csv('test.csv')"
   ]
  },
  {
   "cell_type": "code",
   "execution_count": 3,
   "metadata": {
    "scrolled": true
   },
   "outputs": [
    {
     "name": "stdout",
     "output_type": "stream",
     "text": [
      "Loading training data\n",
      "\t0 of 1000\n",
      "Loading validation data\n",
      "\t0 of 1000\n",
      "Loading test data\n",
      "\t0 of 1000\n"
     ]
    }
   ],
   "source": [
    "IMAGE_SHAPE = [73,60,3]\n",
    "# Paths to data\n",
    "TRAIN_PATH =  dataroot + \"\\\\train.csv\" \n",
    "VALID_PATH = dataroot + \"\\\\valid.csv\" \n",
    "TEST_PATH = dataroot + \"\\\\test.csv\" \n",
    "IMAGE_PATHS = glob.glob(\"C:\\\\Users\\\\cfthe\\\\OneDrive\\\\DTU\\\\Kandidat\\\\Deep\\\\celebA\\\\*.jpg\")\n",
    "TARGET_COL = 'Male'\n",
    "\n",
    "# train holds both X (input) and t (target/truth)\n",
    "data = data_utils_celeba.load_data(train_path=TRAIN_PATH,\n",
    "                            valid_path = VALID_PATH,\n",
    "                            test_path=TEST_PATH,\n",
    "                            image_paths=IMAGE_PATHS,\n",
    "                            target_col = TARGET_COL,\n",
    "                            image_shape=IMAGE_SHAPE[:2])"
   ]
  },
  {
   "cell_type": "code",
   "execution_count": 4,
   "metadata": {},
   "outputs": [
    {
     "data": {
      "text/plain": [
       "128"
      ]
     },
     "execution_count": 4,
     "metadata": {},
     "output_type": "execute_result"
    }
   ],
   "source": [
    "batch_size"
   ]
  },
  {
   "cell_type": "code",
   "execution_count": 5,
   "metadata": {},
   "outputs": [],
   "source": [
    "NUM_CLASSES = 2\n",
    "dummy_batch_gen = data_utils_celeba.batch_generator(data, batch_size=batch_size, num_classes=NUM_CLASSES, num_iterations=5e3, num_features=40, seed=42)"
   ]
  },
  {
   "cell_type": "code",
   "execution_count": 6,
   "metadata": {},
   "outputs": [],
   "source": [
    "train_batch = next(dummy_batch_gen.gen_train())\n",
    "valid_batch, i = next(dummy_batch_gen.gen_valid())\n",
    "test_batch, i = next(dummy_batch_gen.gen_test())"
   ]
  },
  {
   "cell_type": "code",
   "execution_count": 7,
   "metadata": {},
   "outputs": [
    {
     "data": {
      "text/plain": [
       "<matplotlib.image.AxesImage at 0x282cfc5e518>"
      ]
     },
     "execution_count": 7,
     "metadata": {},
     "output_type": "execute_result"
    },
    {
     "data": {
      "image/png": "[encoded data removed]",
      "text/plain": [
       "<Figure size 432x288 with 1 Axes>"
      ]
     },
     "metadata": {
      "needs_background": "light"
     },
     "output_type": "display_data"
    }
   ],
   "source": [
    "plt.imshow(np.transpose(vutils.make_grid(torch.Tensor(train_batch['images'][0]), padding=2,normalize=True).cpu(),(0,1,2)))"
   ]
  },
  {
   "cell_type": "code",
   "execution_count": 8,
   "metadata": {},
   "outputs": [],
   "source": [
    "# Load functions\n",
    "import torch\n",
    "from torch.autograd import Variable\n",
    "import torch.nn as nn\n",
    "import torch.optim as optim\n",
    "from torch.nn import Linear, GRU, Conv2d, Dropout2d, MaxPool2d, BatchNorm2d\n",
    "from torch.nn.functional import relu, elu, relu6, sigmoid, tanh, softmax"
   ]
  },
  {
   "cell_type": "code",
   "execution_count": 9,
   "metadata": {},
   "outputs": [
    {
     "name": "stdout",
     "output_type": "stream",
     "text": [
      "No GPU available.\n"
     ]
    }
   ],
   "source": [
    "use_cuda = torch.cuda.is_available()\n",
    "print(\"Running GPU.\") if use_cuda else print(\"No GPU available.\")\n",
    "\n",
    "\n",
    "def get_variable(x):\n",
    "    \"\"\" Converts tensors to cuda, if available. \"\"\"\n",
    "    if use_cuda:\n",
    "        return x.cuda()\n",
    "    return x\n",
    "\n",
    "\n",
    "def get_numpy(x):\n",
    "    \"\"\" Get numpy array for both cuda and not. \"\"\"\n",
    "    if use_cuda:\n",
    "        return x.cpu().data.numpy()\n",
    "    return x.data.numpy()"
   ]
  },
  {
   "cell_type": "code",
   "execution_count": 10,
   "metadata": {},
   "outputs": [
    {
     "name": "stdout",
     "output_type": "stream",
     "text": [
      "Net(\n",
      "  (conv_1): Conv2d(3, 16, kernel_size=(5, 5), stride=(1, 1))\n",
      "  (l_out): Linear(in_features=61824, out_features=2, bias=False)\n",
      ")\n"
     ]
    }
   ],
   "source": [
    "height, width, channels = IMAGE_SHAPE\n",
    "\n",
    "conv_out_channels =  16 # <-- Filters in your convolutional layer\n",
    "kernel_size = 5       # <-- Kernel size\n",
    "conv_stride = 1       # <-- Stride\n",
    "conv_pad    = 0       # <-- Padding\n",
    " \n",
    "\n",
    "\n",
    "conv1_h = int(height - kernel_size + 2 * conv_pad / conv_stride + 1)\n",
    "conv1_w = int(width - kernel_size + 2 * conv_pad / conv_stride + 1)\n",
    "\n",
    "# Keep track of features to output layer\n",
    "features_cat_size = int(conv_out_channels * conv1_h * conv1_w)\\\n",
    "\n",
    "# <-- Number of features concatenated before output layer\n",
    "  \n",
    "class Net(nn.Module):\n",
    "    def __init__(self):\n",
    "        super(Net, self).__init__()\n",
    "        \n",
    "        self.conv_1 = Conv2d(in_channels=channels,\n",
    "                             out_channels=conv_out_channels,\n",
    "                             kernel_size=kernel_size,\n",
    "                             stride=conv_stride,\n",
    "                             padding=conv_pad)\n",
    "\n",
    "             \n",
    "        self.l_out = Linear(in_features=features_cat_size,\n",
    "                            out_features=NUM_CLASSES,\n",
    "                            bias=False)\n",
    "        \n",
    "    def forward(self, x_img):\n",
    "        features = []\n",
    "        out = {}\n",
    "        \n",
    "        ## Convolutional layer ##\n",
    "        # - Change dimensions to fit the convolutional layer \n",
    "        # - Apply Conv2d\n",
    "        # - Use an activation function\n",
    "        # - Change dimensions s.t. the features can be used in the final FFNN output layer\n",
    "        \n",
    "        # >> YOUR CODE HERE <<\n",
    "        x_img = x_img.permute(0,3,1,2)\n",
    "        features_img = relu(self.conv_1(x_img))\n",
    "        \n",
    "        features_img = features_img.view(-1, features_cat_size)\n",
    "\n",
    "        ## Output layer where all features are in use ##\n",
    "        \n",
    "        out['out'] = self.l_out(features_img)\n",
    "        return out\n",
    "\n",
    "net = Net()\n",
    "if use_cuda:\n",
    "    net.cuda()\n",
    "print(net)"
   ]
  },
  {
   "cell_type": "code",
   "execution_count": 11,
   "metadata": {},
   "outputs": [],
   "source": [
    "LEARNING_RATE = 0.001\n",
    "criterion = nn.CrossEntropyLoss()          #<-- Your code here.   \n",
    "\n",
    "# weight_decay is equal to L2 regularization\n",
    "optimizer = optim.Adam(net.parameters(), lr=LEARNING_RATE)\n",
    "\n",
    "def accuracy(ys, ts):\n",
    "    predictions = torch.max(ys, 1)[1]\n",
    "    correct_prediction = torch.eq(predictions, ts)\n",
    "    return torch.mean(correct_prediction.float())"
   ]
  },
  {
   "cell_type": "code",
   "execution_count": 12,
   "metadata": {},
   "outputs": [
    {
     "data": {
      "text/plain": [
       "torch.Size([128, 2])"
      ]
     },
     "execution_count": 12,
     "metadata": {},
     "output_type": "execute_result"
    }
   ],
   "source": [
    "_img_shape = tuple([batch_size] + list(IMAGE_SHAPE))\n",
    "\n",
    "def randnorm(size):\n",
    "    return np.random.normal(0, 1, size).astype('float32')\n",
    "\n",
    "# dummy data\n",
    "_x_image = get_variable(Variable(torch.from_numpy(randnorm(_img_shape))))\n",
    "\n",
    "# test the forward pass\n",
    "output = net(x_img=_x_image)\n",
    "output['out'].shape"
   ]
  },
  {
   "cell_type": "code",
   "execution_count": 13,
   "metadata": {
    "scrolled": true
   },
   "outputs": [
    {
     "data": {
      "image/png": "[encoded data removed]",
      "text/plain": [
       "<Figure size 864x288 with 2 Axes>"
      ]
     },
     "metadata": {
      "needs_background": "light"
     },
     "output_type": "display_data"
    }
   ],
   "source": [
    "# Setup settings for training \n",
    "max_iter = 200\n",
    "log_every = 100\n",
    "eval_every = 100\n",
    "\n",
    "# Function to get label\n",
    "def get_labels(batch):\n",
    "    return get_variable(Variable(torch.from_numpy(batch['ts']).long()))\n",
    "\n",
    "# Function to get input\n",
    "def get_input(batch):\n",
    "    return {\n",
    "        'x_img': get_variable(Variable(torch.from_numpy(batch['images'])))\n",
    "    }\n",
    "\n",
    "# Initialize lists for training and validation\n",
    "train_iter = []\n",
    "train_loss, train_accs = [], []\n",
    "valid_iter = []\n",
    "valid_loss, valid_accs = [], []\n",
    "\n",
    "# Generate batches\n",
    "batch_gen = data_utils_celeba.batch_generator(data,\n",
    "                                       batch_size=batch_size,\n",
    "                                       num_classes=NUM_CLASSES,\n",
    "                                       num_iterations=max_iter,\n",
    "                                       seed=42)\n",
    "\n",
    "# Train network\n",
    "net.train()\n",
    "for i, batch_train in enumerate(batch_gen.gen_train()):\n",
    "    if i % eval_every == 0:\n",
    "        \n",
    "        # Do the validaiton\n",
    "        net.eval()\n",
    "        val_losses, val_accs, val_lengths = 0, 0, 0\n",
    "        for batch_valid, num in batch_gen.gen_valid():\n",
    "            output = net(**get_input(batch_valid))\n",
    "            labels_argmax = torch.max(get_labels(batch_valid), 1)[1]\n",
    "            val_losses += criterion(output['out'], labels_argmax) * num\n",
    "            val_accs += accuracy(output['out'], labels_argmax) * num\n",
    "            val_lengths += num\n",
    "\n",
    "        # Divide by the total accumulated batch sizes\n",
    "        val_losses /= val_lengths\n",
    "        val_accs /= val_lengths\n",
    "        valid_loss.append(get_numpy(val_losses))\n",
    "        valid_accs.append(get_numpy(val_accs))\n",
    "        valid_iter.append(i)\n",
    "#         print(\"Valid, it: {} loss: {:.2f} accs: {:.2f}\\n\".format(i, valid_loss[-1], valid_accs[-1]))\n",
    "        net.train()\n",
    "    \n",
    "    # Train network\n",
    "    output = net(**get_input(batch_train))\n",
    "    labels_argmax = torch.max(get_labels(batch_train), 1)[1]\n",
    "    batch_loss = criterion(output['out'], labels_argmax)\n",
    "    \n",
    "    train_iter.append(i)\n",
    "    train_loss.append(float(get_numpy(batch_loss)))\n",
    "    train_accs.append(float(get_numpy(accuracy(output['out'], labels_argmax))))\n",
    "    \n",
    "    optimizer.zero_grad()\n",
    "    batch_loss.backward()\n",
    "    optimizer.step()\n",
    "    \n",
    "    # Log i figure\n",
    "    if i % log_every == 0:\n",
    "        fig = plt.figure(figsize=(12,4))\n",
    "        plt.subplot(1, 2, 1)\n",
    "        plt.plot(train_iter, train_loss, label='train_loss')\n",
    "        plt.plot(valid_iter, valid_loss, label='valid_loss')\n",
    "        plt.legend()\n",
    "\n",
    "        plt.subplot(1, 2, 2)\n",
    "        plt.plot(train_iter, train_accs, label='train_accs')\n",
    "        plt.plot(valid_iter, valid_accs, label='valid_accs')\n",
    "        plt.legend()\n",
    "        plt.show()\n",
    "        clear_output(wait=True)\n",
    "        #print(\"Train, it: {} loss: {:.2f} accs: {:.2f}\".format(i, train_loss[-1], train_accs[-1]))\n",
    "        \n",
    "    if max_iter < i:\n",
    "        break"
   ]
  },
  {
   "cell_type": "code",
   "execution_count": 14,
   "metadata": {},
   "outputs": [
    {
     "name": "stdout",
     "output_type": "stream",
     "text": [
      "Train, it: 201 loss: 0.02 accs: 1.00\n",
      "Valid, it: 201 loss: 0.27 accs: 0.9060\n"
     ]
    }
   ],
   "source": [
    "print(\"Train, it: {} loss: {:.2f} accs: {:.2f}\".format(i, train_loss[-1], train_accs[-1]))\n",
    "print(\"Valid, it: {} loss: {:.2f} accs: {:.4f}\".format(i, valid_loss[-1], valid_accs[-1]))"
   ]
  },
  {
   "cell_type": "code",
   "execution_count": 15,
   "metadata": {},
   "outputs": [
    {
     "data": {
      "text/plain": [
       "[array(0.526, dtype=float32),\n",
       " array(0.9, dtype=float32),\n",
       " array(0.906, dtype=float32)]"
      ]
     },
     "execution_count": 15,
     "metadata": {},
     "output_type": "execute_result"
    }
   ],
   "source": [
    "valid_accs"
   ]
  },
  {
   "cell_type": "code",
   "execution_count": 16,
   "metadata": {},
   "outputs": [
    {
     "name": "stdout",
     "output_type": "stream",
     "text": [
      "128\n",
      "128\n",
      "128\n",
      "128\n",
      "128\n",
      "128\n",
      "128\n",
      "104\n",
      "Valid Male, it: 201 loss: 0.18 accs: 0.9242\n",
      "\n",
      "Valid Female, it: 201 loss: 0.36 accs: 0.8848\n",
      "\n"
     ]
    }
   ],
   "source": [
    "val_male_losses,val_male_accs,val_male_lengths,val_female_losses,val_female_accs,val_female_lengths = 0, 0, 0, 0, 0, 0\n",
    "\n",
    "for batch_valid, num in batch_gen.gen_valid():\n",
    "    output = net(**get_input(batch_valid))\n",
    "    labels_argmax = torch.max(get_labels(batch_valid), 1)[1]\n",
    "    \n",
    "    gender = batch_valid['attributes'][:,19]\n",
    "    male = np.where(gender==1)\n",
    "    female = np.where(gender==-1)\n",
    "    print(len(male[0])  + len(female[0]))\n",
    "\n",
    "    val_male_losses += criterion(output['out'][male], labels_argmax[male]) * len(male[0]) \n",
    "    val_male_accs += accuracy(output['out'][male], labels_argmax[male]) * len(male[0]) \n",
    "    val_male_lengths += len(male[0])\n",
    "    val_female_losses += criterion(output['out'][female], labels_argmax[female]) * len(female[0]) \n",
    "    val_female_accs += accuracy(output['out'][female], labels_argmax[female]) * len(female[0]) \n",
    "    val_female_lengths += len(female[0])    \n",
    "\n",
    "# Divide by the total accumulated batch sizes\n",
    "val_male_losses /= val_male_lengths\n",
    "val_male_accs /= val_male_lengths\n",
    "\n",
    "val_female_losses /= val_female_lengths\n",
    "val_female_accs /= val_female_lengths\n",
    "\n",
    "print(\"Valid Male, it: {} loss: {:.2f} accs: {:.4f}\\n\".format(i, val_male_losses, val_male_accs))\n",
    "print(\"Valid Female, it: {} loss: {:.2f} accs: {:.4f}\\n\".format(i, val_female_losses, val_female_accs))"
   ]
  },
  {
   "cell_type": "code",
   "execution_count": 17,
   "metadata": {},
   "outputs": [
    {
     "data": {
      "text/plain": [
       "tensor([1, 1, 0, 1, 1, 0, 0, 0, 0, 1, 1, 0, 0, 0, 0, 1, 1, 0, 0, 1, 1, 0, 1, 1,\n",
       "        1, 0, 0, 1, 1, 1, 0, 1, 0, 0, 1, 1, 1, 0, 1, 0, 1, 1, 1, 1, 0, 0, 0, 0,\n",
       "        0, 0, 0, 0, 0, 0, 0, 0, 0, 1, 0, 1, 0, 1, 0, 1, 0, 0, 0, 1, 0, 0, 0, 0,\n",
       "        1, 1, 0, 1, 1, 0, 0, 0, 0, 1, 1, 0, 0, 1, 0, 0, 0, 1, 1, 1, 1, 0, 1, 1,\n",
       "        1, 0, 0, 1, 0, 0, 1, 1])"
      ]
     },
     "execution_count": 17,
     "metadata": {},
     "output_type": "execute_result"
    }
   ],
   "source": [
    "labels_argmax"
   ]
  },
  {
   "cell_type": "code",
   "execution_count": 18,
   "metadata": {},
   "outputs": [
    {
     "data": {
      "text/plain": [
       "{'out': tensor([[-4.1338,  4.0847],\n",
       "         [-3.8528,  3.8198],\n",
       "         [ 1.9797, -2.0067],\n",
       "         [-3.1810,  3.2253],\n",
       "         [-1.7757,  1.8930],\n",
       "         [ 2.0111, -1.9843],\n",
       "         [ 0.1881, -0.2871],\n",
       "         [ 1.2059, -1.1434],\n",
       "         [ 2.7050, -2.7022],\n",
       "         [-2.8623,  2.8688],\n",
       "         [-0.5215,  0.5350],\n",
       "         [ 5.2083, -5.3120],\n",
       "         [ 1.3039, -1.2613],\n",
       "         [ 1.7511, -1.8067],\n",
       "         [ 5.0669, -5.1261],\n",
       "         [-3.2448,  3.2883],\n",
       "         [ 0.7368, -0.8013],\n",
       "         [ 1.8245, -1.8409],\n",
       "         [ 3.8823, -3.8426],\n",
       "         [-4.8611,  4.9424],\n",
       "         [-2.4761,  2.4796],\n",
       "         [ 3.5315, -3.5591],\n",
       "         [-7.5844,  7.5742],\n",
       "         [-1.9485,  1.8773],\n",
       "         [-3.6129,  3.5363],\n",
       "         [ 2.7721, -2.7413],\n",
       "         [ 2.3171, -2.2799],\n",
       "         [-2.8957,  2.9329],\n",
       "         [-1.0812,  1.0567],\n",
       "         [ 0.1837, -0.2467],\n",
       "         [ 4.7524, -4.7756],\n",
       "         [ 0.0964, -0.1362],\n",
       "         [ 2.8830, -2.8885],\n",
       "         [ 3.0180, -3.0157],\n",
       "         [-2.1872,  2.1013],\n",
       "         [-0.1015,  0.1240],\n",
       "         [-4.6031,  4.5718],\n",
       "         [ 2.2509, -2.1934],\n",
       "         [-2.1339,  2.1707],\n",
       "         [ 2.7784, -2.7809],\n",
       "         [-2.6904,  2.6438],\n",
       "         [-1.1710,  1.1985],\n",
       "         [-1.4166,  1.4603],\n",
       "         [-3.2778,  3.2503],\n",
       "         [ 2.8716, -2.7534],\n",
       "         [ 0.4253, -0.5402],\n",
       "         [ 5.6732, -5.6637],\n",
       "         [ 2.2852, -2.2960],\n",
       "         [ 0.5446, -0.5614],\n",
       "         [ 2.1145, -2.1044],\n",
       "         [ 2.2937, -2.3323],\n",
       "         [ 3.2203, -3.2496],\n",
       "         [ 1.4015, -1.3885],\n",
       "         [ 4.5323, -4.5114],\n",
       "         [ 3.6838, -3.6602],\n",
       "         [ 4.5443, -4.5318],\n",
       "         [ 2.6015, -2.5672],\n",
       "         [-3.8960,  3.8474],\n",
       "         [ 1.0705, -1.0287],\n",
       "         [ 0.4987, -0.5477],\n",
       "         [ 1.3440, -1.2998],\n",
       "         [-4.1045,  4.0667],\n",
       "         [ 3.6830, -3.7644],\n",
       "         [-2.1702,  2.1487],\n",
       "         [ 3.7084, -3.6661],\n",
       "         [ 0.0797, -0.0868],\n",
       "         [ 3.8149, -3.7380],\n",
       "         [-3.5801,  3.5682],\n",
       "         [ 6.0603, -5.9859],\n",
       "         [ 4.8424, -4.9093],\n",
       "         [ 1.6197, -1.6380],\n",
       "         [ 3.1549, -3.1872],\n",
       "         [-0.5094,  0.5376],\n",
       "         [-0.7554,  0.8131],\n",
       "         [ 5.4357, -5.4089],\n",
       "         [-2.3766,  2.3056],\n",
       "         [-3.8817,  3.9062],\n",
       "         [ 2.3087, -2.3228],\n",
       "         [ 5.7333, -5.8373],\n",
       "         [ 0.5700, -0.7012],\n",
       "         [ 1.7461, -1.7531],\n",
       "         [-1.9961,  2.0190],\n",
       "         [-3.0219,  3.0848],\n",
       "         [ 4.3771, -4.4624],\n",
       "         [ 3.8601, -3.8247],\n",
       "         [-1.4795,  1.5734],\n",
       "         [ 2.1527, -2.2377],\n",
       "         [ 4.4532, -4.5415],\n",
       "         [ 2.7523, -2.7504],\n",
       "         [-2.3983,  2.4174],\n",
       "         [-1.7911,  1.7745],\n",
       "         [-4.2219,  4.2884],\n",
       "         [-6.2632,  6.2615],\n",
       "         [ 1.6460, -1.6263],\n",
       "         [ 1.9851, -2.0774],\n",
       "         [-4.2333,  4.2721],\n",
       "         [-4.1354,  4.1763],\n",
       "         [ 1.2008, -1.2033],\n",
       "         [ 4.3635, -4.3415],\n",
       "         [-2.8382,  2.8528],\n",
       "         [ 2.0352, -2.0409],\n",
       "         [-0.5753,  0.5365],\n",
       "         [-1.5544,  1.4931],\n",
       "         [-2.0797,  2.0616]], grad_fn=<MmBackward>)}"
      ]
     },
     "execution_count": 18,
     "metadata": {},
     "output_type": "execute_result"
    }
   ],
   "source": [
    "output"
   ]
  },
  {
   "cell_type": "code",
   "execution_count": 19,
   "metadata": {},
   "outputs": [
    {
     "data": {
      "text/plain": [
       "tensor(0.0962, grad_fn=<NllLossBackward>)"
      ]
     },
     "execution_count": 19,
     "metadata": {},
     "output_type": "execute_result"
    }
   ],
   "source": [
    "criterion(output['out'][male], labels_argmax[male])"
   ]
  },
  {
   "cell_type": "code",
   "execution_count": 105,
   "metadata": {},
   "outputs": [
    {
     "data": {
      "text/plain": [
       "tensor([[-0.2603,  0.1588],\n",
       "        [ 4.2025, -4.2215],\n",
       "        [ 5.0927, -5.1272]], grad_fn=<IndexBackward>)"
      ]
     },
     "execution_count": 105,
     "metadata": {},
     "output_type": "execute_result"
    }
   ],
   "source": [
    "output['out'][[1,2,4]]"
   ]
  },
  {
   "cell_type": "code",
   "execution_count": 101,
   "metadata": {},
   "outputs": [
    {
     "data": {
      "text/plain": [
       "tensor(0.5054, grad_fn=<NllLossBackward>)"
      ]
     },
     "execution_count": 101,
     "metadata": {},
     "output_type": "execute_result"
    }
   ],
   "source": [
    "criterion(output['out'][1:2], labels_argmax[1:2])"
   ]
  },
  {
   "cell_type": "code",
   "execution_count": 87,
   "metadata": {},
   "outputs": [
    {
     "data": {
      "text/plain": [
       "array([-1., -1., -1., -1., -1., -1., -1., -1.,  1., -1., -1., -1.,  1.,\n",
       "       -1., -1., -1., -1., -1., -1., -1.,  1., -1., -1., -1.,  1., -1.,\n",
       "       -1., -1., -1., -1., -1., -1., -1., -1., -1., -1., -1., -1.,  1.,\n",
       "        1.], dtype=float32)"
      ]
     },
     "execution_count": 87,
     "metadata": {},
     "output_type": "execute_result"
    }
   ],
   "source": [
    "batch_valid['attributes'][20]"
   ]
  },
  {
   "cell_type": "code",
   "execution_count": 70,
   "metadata": {},
   "outputs": [
    {
     "data": {
      "text/plain": [
       "tensor([0, 0, 1, 1, 0, 1, 1, 0, 1, 0, 1, 1, 1, 0, 1, 1, 0, 1, 1, 1, 0, 0, 0, 0,\n",
       "        1, 0, 1, 1, 1, 1, 1, 0, 1, 0, 0, 0, 1, 0, 0, 1, 0, 1, 0, 1, 0, 1, 1, 1,\n",
       "        1, 1, 1, 1, 0, 0, 0, 1, 1, 0, 1, 0, 1, 0, 0, 0, 1, 0, 1, 0, 1, 1, 1, 0,\n",
       "        0, 0, 1, 1, 0, 1, 0, 1, 0, 0, 0, 0, 1, 1, 0, 0, 0, 0, 1, 0, 0, 0, 0, 0,\n",
       "        0, 1, 1, 1, 0, 1, 0, 0])"
      ]
     },
     "execution_count": 70,
     "metadata": {},
     "output_type": "execute_result"
    }
   ],
   "source": [
    "labels_argmax"
   ]
  },
  {
   "cell_type": "code",
   "execution_count": 88,
   "metadata": {
    "scrolled": true
   },
   "outputs": [
    {
     "data": {
      "text/plain": [
       "tensor([ 1.8560, -2.0070], grad_fn=<SelectBackward>)"
      ]
     },
     "execution_count": 88,
     "metadata": {},
     "output_type": "execute_result"
    }
   ],
   "source": [
    "output['out'][1]"
   ]
  },
  {
   "cell_type": "code",
   "execution_count": 201,
   "metadata": {},
   "outputs": [
    {
     "data": {
      "text/plain": [
       "20"
      ]
     },
     "execution_count": 201,
     "metadata": {},
     "output_type": "execute_result"
    }
   ],
   "source": [
    "list(matched.columns).index('Male')"
   ]
  },
  {
   "cell_type": "code",
   "execution_count": 115,
   "metadata": {},
   "outputs": [
    {
     "data": {
      "text/plain": [
       "tensor([[ 1.8826, -1.9732],\n",
       "        [-1.8142,  1.6052],\n",
       "        [-1.0776,  0.9112],\n",
       "        [ 1.6518, -1.7931],\n",
       "        [ 1.4825, -1.5211],\n",
       "        [ 1.3251, -1.4765],\n",
       "        [-1.3728,  1.2550]], grad_fn=<IndexBackward>)"
      ]
     },
     "execution_count": 115,
     "metadata": {},
     "output_type": "execute_result"
    }
   ],
   "source": [
    "output['out'][np.where(gender==1)]"
   ]
  },
  {
   "cell_type": "code",
   "execution_count": 187,
   "metadata": {},
   "outputs": [
    {
     "data": {
      "text/plain": [
       "array([ 1., -1.,  1.,  1.,  1.,  1.,  1., -1.,  1.,  1.,  1., -1.,  1.,\n",
       "        1., -1., -1.,  1.,  1., -1.,  1.,  1.,  1.,  1.,  1.,  1., -1.,\n",
       "       -1., -1.,  1.,  1.,  1.,  1.,  1.,  1.,  1., -1., -1., -1.,  1.,\n",
       "        1., -1.,  1., -1.,  1.,  1.,  1.,  1.,  1.,  1., -1.,  1.,  1.,\n",
       "       -1.,  1.,  1.,  1., -1.,  1.,  1.,  1.,  1.,  1.,  1.,  1.,  1.,\n",
       "        1.,  1.,  1.,  1., -1.,  1.,  1.,  1.,  1.,  1.,  1.,  1., -1.,\n",
       "       -1., -1., -1.,  1.,  1.,  1.,  1.,  1.,  1.,  1.,  1., -1.,  1.,\n",
       "        1., -1.,  1., -1.,  1., -1.,  1.,  1.,  1.,  1.,  1.,  1.,  1.,\n",
       "        1., -1., -1.,  1.,  1.,  1.,  1., -1., -1., -1., -1.,  1.,  1.,\n",
       "        1., -1.,  1.,  1., -1.,  1.,  1., -1., -1., -1.,  1.],\n",
       "      dtype=float32)"
      ]
     },
     "execution_count": 187,
     "metadata": {},
     "output_type": "execute_result"
    }
   ],
   "source": [
    "batch_valid['attributes'][:,38]"
   ]
  },
  {
   "cell_type": "code",
   "execution_count": 185,
   "metadata": {},
   "outputs": [
    {
     "data": {
      "text/plain": [
       "(128, 40)"
      ]
     },
     "execution_count": 185,
     "metadata": {},
     "output_type": "execute_result"
    }
   ],
   "source": [
    "batch_valid['attributes'].shape"
   ]
  },
  {
   "cell_type": "code",
   "execution_count": null,
   "metadata": {},
   "outputs": [],
   "source": []
  }
 ],
 "metadata": {
  "kernelspec": {
   "display_name": "Python 3",
   "language": "python",
   "name": "python3"
  },
  "language_info": {
   "codemirror_mode": {
    "name": "ipython",
    "version": 3
   },
   "file_extension": ".py",
   "mimetype": "text/x-python",
   "name": "python",
   "nbconvert_exporter": "python",
   "pygments_lexer": "ipython3",
   "version": "3.6.5"
  }
 },
 "nbformat": 4,
 "nbformat_minor": 2
}
