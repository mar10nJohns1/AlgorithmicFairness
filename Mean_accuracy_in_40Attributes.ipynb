{
 "cells": [
  {
   "cell_type": "markdown",
   "metadata": {},
   "source": [
    "# Overview\n",
    "\n",
    "The purpose of this notebook is to see what the average performance over all the different models was."
   ]
  },
  {
   "cell_type": "code",
   "execution_count": 27,
   "metadata": {},
   "outputs": [],
   "source": [
    "import numpy as np\n",
    "import pandas as pd"
   ]
  },
  {
   "cell_type": "code",
   "execution_count": 28,
   "metadata": {},
   "outputs": [
    {
     "data": {
      "text/plain": [
       "'/Users/MartinJohnsen/Documents/Martin Johnsen/MMC/3. Semester/Deep Learning/Projects/Algorithmic fairness/AlgorithmicFairness'"
      ]
     },
     "execution_count": 28,
     "metadata": {},
     "output_type": "execute_result"
    }
   ],
   "source": [
    "pwd"
   ]
  },
  {
   "cell_type": "code",
   "execution_count": 29,
   "metadata": {},
   "outputs": [],
   "source": [
    "one = pd.read_pickle(\"models/aws_models/run3_df.pkl\")\n",
    "two = pd.read_pickle(\"models/aws_models/run3_df2.pkl\")\n",
    "three = pd.read_pickle(\"models/aws_models/run3_df3.pkl\")"
   ]
  },
  {
   "cell_type": "code",
   "execution_count": 30,
   "metadata": {},
   "outputs": [],
   "source": [
    "one = one.iloc[0:19,:]"
   ]
  },
  {
   "cell_type": "code",
   "execution_count": 31,
   "metadata": {},
   "outputs": [],
   "source": [
    "#one"
   ]
  },
  {
   "cell_type": "code",
   "execution_count": 32,
   "metadata": {},
   "outputs": [],
   "source": [
    "two = two.iloc[0:18,:]"
   ]
  },
  {
   "cell_type": "code",
   "execution_count": 3,
   "metadata": {},
   "outputs": [],
   "source": [
    "import pandas as pd"
   ]
  },
  {
   "cell_type": "code",
   "execution_count": 4,
   "metadata": {},
   "outputs": [
    {
     "data": {
      "text/plain": [
       "'0.24.2'"
      ]
     },
     "execution_count": 4,
     "metadata": {},
     "output_type": "execute_result"
    }
   ],
   "source": [
    "pd.__version__"
   ]
  },
  {
   "cell_type": "code",
   "execution_count": 33,
   "metadata": {},
   "outputs": [],
   "source": [
    "one = one.append(two)"
   ]
  },
  {
   "cell_type": "code",
   "execution_count": 34,
   "metadata": {},
   "outputs": [],
   "source": [
    "df = one.append(three)"
   ]
  },
  {
   "cell_type": "code",
   "execution_count": 36,
   "metadata": {},
   "outputs": [
    {
     "data": {
      "text/html": [
       "<div>\n",
       "<style scoped>\n",
       "    .dataframe tbody tr th:only-of-type {\n",
       "        vertical-align: middle;\n",
       "    }\n",
       "\n",
       "    .dataframe tbody tr th {\n",
       "        vertical-align: top;\n",
       "    }\n",
       "\n",
       "    .dataframe thead th {\n",
       "        text-align: right;\n",
       "    }\n",
       "</style>\n",
       "<table border=\"1\" class=\"dataframe\">\n",
       "  <thead>\n",
       "    <tr style=\"text-align: right;\">\n",
       "      <th></th>\n",
       "      <th>target</th>\n",
       "      <th>layers</th>\n",
       "      <th>activations</th>\n",
       "      <th>conv_out_channels</th>\n",
       "      <th>kernel_size</th>\n",
       "      <th>conv_stride</th>\n",
       "      <th>maxpool</th>\n",
       "      <th>dropout</th>\n",
       "      <th>batchnorm</th>\n",
       "      <th>optimizer</th>\n",
       "      <th>...</th>\n",
       "      <th>weight_decay</th>\n",
       "      <th>batch_size</th>\n",
       "      <th>num_epochs</th>\n",
       "      <th>net</th>\n",
       "      <th>train_loss</th>\n",
       "      <th>train_accs</th>\n",
       "      <th>valid_train_loss</th>\n",
       "      <th>valid_train_accs</th>\n",
       "      <th>valid_loss</th>\n",
       "      <th>valid_accs</th>\n",
       "    </tr>\n",
       "  </thead>\n",
       "  <tbody>\n",
       "    <tr>\n",
       "      <th>1</th>\n",
       "      <td>5_o_Clock_Shadow</td>\n",
       "      <td>2</td>\n",
       "      <td>[&lt;function relu at 0x1291a20d0&gt;, &lt;function rel...</td>\n",
       "      <td>32</td>\n",
       "      <td>5</td>\n",
       "      <td>1</td>\n",
       "      <td>2</td>\n",
       "      <td>0.2</td>\n",
       "      <td>True</td>\n",
       "      <td>Adam</td>\n",
       "      <td>...</td>\n",
       "      <td>0.01</td>\n",
       "      <td>128</td>\n",
       "      <td>5</td>\n",
       "      <td>run3__model1</td>\n",
       "      <td>[0.8713514804840088, 0.4900040328502655, 0.531...</td>\n",
       "      <td>[0.359375, 0.8515625, 0.8671875, 0.8671875, 0....</td>\n",
       "      <td>[2.4309422969818115, 0.28790220618247986, 0.25...</td>\n",
       "      <td>[0.6196204423904419, 0.8804550170898438, 0.892...</td>\n",
       "      <td>0.205725</td>\n",
       "      <td>0.908894</td>\n",
       "    </tr>\n",
       "    <tr>\n",
       "      <th>2</th>\n",
       "      <td>Arched_Eyebrows</td>\n",
       "      <td>2</td>\n",
       "      <td>[&lt;function relu at 0x1291a20d0&gt;, &lt;function rel...</td>\n",
       "      <td>32</td>\n",
       "      <td>5</td>\n",
       "      <td>1</td>\n",
       "      <td>2</td>\n",
       "      <td>0.2</td>\n",
       "      <td>True</td>\n",
       "      <td>Adam</td>\n",
       "      <td>...</td>\n",
       "      <td>0.01</td>\n",
       "      <td>128</td>\n",
       "      <td>5</td>\n",
       "      <td>run3__model2</td>\n",
       "      <td>[0.7800053358078003, 1.555526614189148, 0.9231...</td>\n",
       "      <td>[0.4609375, 0.6796875, 0.7265625, 0.546875, 0....</td>\n",
       "      <td>[3.0774106979370117, 0.4851386547088623, 0.427...</td>\n",
       "      <td>[0.6804751753807068, 0.7767151594161987, 0.798...</td>\n",
       "      <td>0.366314</td>\n",
       "      <td>0.829013</td>\n",
       "    </tr>\n",
       "    <tr>\n",
       "      <th>3</th>\n",
       "      <td>Attractive</td>\n",
       "      <td>2</td>\n",
       "      <td>[&lt;function relu at 0x1291a20d0&gt;, &lt;function rel...</td>\n",
       "      <td>32</td>\n",
       "      <td>5</td>\n",
       "      <td>1</td>\n",
       "      <td>2</td>\n",
       "      <td>0.2</td>\n",
       "      <td>True</td>\n",
       "      <td>Adam</td>\n",
       "      <td>...</td>\n",
       "      <td>0.01</td>\n",
       "      <td>128</td>\n",
       "      <td>5</td>\n",
       "      <td>run3__model3</td>\n",
       "      <td>[0.8042515516281128, 1.057735562324524, 0.9104...</td>\n",
       "      <td>[0.484375, 0.640625, 0.5625, 0.578125, 0.60937...</td>\n",
       "      <td>[9.868757247924805, 0.6234090328216553, 0.5484...</td>\n",
       "      <td>[0.5190516710281372, 0.6988473534584045, 0.734...</td>\n",
       "      <td>0.467917</td>\n",
       "      <td>0.770977</td>\n",
       "    </tr>\n",
       "    <tr>\n",
       "      <th>4</th>\n",
       "      <td>Bags_Under_Eyes</td>\n",
       "      <td>2</td>\n",
       "      <td>[&lt;function relu at 0x1291a20d0&gt;, &lt;function rel...</td>\n",
       "      <td>32</td>\n",
       "      <td>5</td>\n",
       "      <td>1</td>\n",
       "      <td>2</td>\n",
       "      <td>0.2</td>\n",
       "      <td>True</td>\n",
       "      <td>Adam</td>\n",
       "      <td>...</td>\n",
       "      <td>0.01</td>\n",
       "      <td>128</td>\n",
       "      <td>5</td>\n",
       "      <td>run3__model4</td>\n",
       "      <td>[0.8368038535118103, 0.693919837474823, 0.9588...</td>\n",
       "      <td>[0.3828125, 0.8203125, 0.78125, 0.71875, 0.742...</td>\n",
       "      <td>[4.820418357849121, 0.47845160961151123, 0.501...</td>\n",
       "      <td>[0.31826648116111755, 0.7715809941291809, 0.80...</td>\n",
       "      <td>0.415884</td>\n",
       "      <td>0.813762</td>\n",
       "    </tr>\n",
       "    <tr>\n",
       "      <th>5</th>\n",
       "      <td>Bald</td>\n",
       "      <td>2</td>\n",
       "      <td>[&lt;function relu at 0x1291a20d0&gt;, &lt;function rel...</td>\n",
       "      <td>32</td>\n",
       "      <td>5</td>\n",
       "      <td>1</td>\n",
       "      <td>2</td>\n",
       "      <td>0.2</td>\n",
       "      <td>True</td>\n",
       "      <td>Adam</td>\n",
       "      <td>...</td>\n",
       "      <td>0.01</td>\n",
       "      <td>128</td>\n",
       "      <td>5</td>\n",
       "      <td>run3__model5</td>\n",
       "      <td>[0.893252432346344, 0.1338893324136734, 0.0938...</td>\n",
       "      <td>[0.390625, 0.9609375, 0.96875, 0.953125, 0.968...</td>\n",
       "      <td>[0.4024895429611206, 0.07816058397293091, 0.06...</td>\n",
       "      <td>[0.9599335789680481, 0.9776513576507568, 0.979...</td>\n",
       "      <td>0.0504951</td>\n",
       "      <td>0.980571</td>\n",
       "    </tr>\n",
       "  </tbody>\n",
       "</table>\n",
       "<p>5 rows × 21 columns</p>\n",
       "</div>"
      ],
      "text/plain": [
       "             target  layers  \\\n",
       "1  5_o_Clock_Shadow       2   \n",
       "2   Arched_Eyebrows       2   \n",
       "3        Attractive       2   \n",
       "4   Bags_Under_Eyes       2   \n",
       "5              Bald       2   \n",
       "\n",
       "                                         activations  conv_out_channels  \\\n",
       "1  [<function relu at 0x1291a20d0>, <function rel...                 32   \n",
       "2  [<function relu at 0x1291a20d0>, <function rel...                 32   \n",
       "3  [<function relu at 0x1291a20d0>, <function rel...                 32   \n",
       "4  [<function relu at 0x1291a20d0>, <function rel...                 32   \n",
       "5  [<function relu at 0x1291a20d0>, <function rel...                 32   \n",
       "\n",
       "   kernel_size  conv_stride  maxpool  dropout  batchnorm optimizer  ...  \\\n",
       "1            5            1        2      0.2       True      Adam  ...   \n",
       "2            5            1        2      0.2       True      Adam  ...   \n",
       "3            5            1        2      0.2       True      Adam  ...   \n",
       "4            5            1        2      0.2       True      Adam  ...   \n",
       "5            5            1        2      0.2       True      Adam  ...   \n",
       "\n",
       "   weight_decay  batch_size  num_epochs           net  \\\n",
       "1          0.01         128           5  run3__model1   \n",
       "2          0.01         128           5  run3__model2   \n",
       "3          0.01         128           5  run3__model3   \n",
       "4          0.01         128           5  run3__model4   \n",
       "5          0.01         128           5  run3__model5   \n",
       "\n",
       "                                          train_loss  \\\n",
       "1  [0.8713514804840088, 0.4900040328502655, 0.531...   \n",
       "2  [0.7800053358078003, 1.555526614189148, 0.9231...   \n",
       "3  [0.8042515516281128, 1.057735562324524, 0.9104...   \n",
       "4  [0.8368038535118103, 0.693919837474823, 0.9588...   \n",
       "5  [0.893252432346344, 0.1338893324136734, 0.0938...   \n",
       "\n",
       "                                          train_accs  \\\n",
       "1  [0.359375, 0.8515625, 0.8671875, 0.8671875, 0....   \n",
       "2  [0.4609375, 0.6796875, 0.7265625, 0.546875, 0....   \n",
       "3  [0.484375, 0.640625, 0.5625, 0.578125, 0.60937...   \n",
       "4  [0.3828125, 0.8203125, 0.78125, 0.71875, 0.742...   \n",
       "5  [0.390625, 0.9609375, 0.96875, 0.953125, 0.968...   \n",
       "\n",
       "                                    valid_train_loss  \\\n",
       "1  [2.4309422969818115, 0.28790220618247986, 0.25...   \n",
       "2  [3.0774106979370117, 0.4851386547088623, 0.427...   \n",
       "3  [9.868757247924805, 0.6234090328216553, 0.5484...   \n",
       "4  [4.820418357849121, 0.47845160961151123, 0.501...   \n",
       "5  [0.4024895429611206, 0.07816058397293091, 0.06...   \n",
       "\n",
       "                                    valid_train_accs valid_loss valid_accs  \n",
       "1  [0.6196204423904419, 0.8804550170898438, 0.892...   0.205725   0.908894  \n",
       "2  [0.6804751753807068, 0.7767151594161987, 0.798...   0.366314   0.829013  \n",
       "3  [0.5190516710281372, 0.6988473534584045, 0.734...   0.467917   0.770977  \n",
       "4  [0.31826648116111755, 0.7715809941291809, 0.80...   0.415884   0.813762  \n",
       "5  [0.9599335789680481, 0.9776513576507568, 0.979...  0.0504951   0.980571  \n",
       "\n",
       "[5 rows x 21 columns]"
      ]
     },
     "execution_count": 36,
     "metadata": {},
     "output_type": "execute_result"
    }
   ],
   "source": [
    "df.head()"
   ]
  },
  {
   "cell_type": "code",
   "execution_count": 39,
   "metadata": {},
   "outputs": [
    {
     "name": "stdout",
     "output_type": "stream",
     "text": [
      "Average accuracy over all models is 0.8947349786758423\n"
     ]
    }
   ],
   "source": [
    "print('Average accuracy over all models is', np.mean(df.valid_accs))"
   ]
  },
  {
   "cell_type": "code",
   "execution_count": null,
   "metadata": {},
   "outputs": [],
   "source": []
  }
 ],
 "metadata": {
  "kernelspec": {
   "display_name": "Python 3",
   "language": "python",
   "name": "python3"
  },
  "language_info": {
   "codemirror_mode": {
    "name": "ipython",
    "version": 3
   },
   "file_extension": ".py",
   "mimetype": "text/x-python",
   "name": "python",
   "nbconvert_exporter": "python",
   "pygments_lexer": "ipython3",
   "version": "3.6.5"
  }
 },
 "nbformat": 4,
 "nbformat_minor": 2
}
