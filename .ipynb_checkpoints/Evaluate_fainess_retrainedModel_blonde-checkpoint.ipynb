{
 "cells": [
  {
   "cell_type": "code",
   "execution_count": 1,
   "metadata": {},
   "outputs": [],
   "source": [
    "from __future__ import print_function\n",
    "#%matplotlib inline\n",
    "import argparse\n",
    "import torch\n",
    "import torch.nn as nn\n",
    "import torch.nn.parallel\n",
    "import torch.backends.cudnn as cudnn\n",
    "import torch.optim as optim\n",
    "import torch.utils.data\n",
    "import torchvision.datasets as dset\n",
    "import torchvision.transforms as transforms\n",
    "import torchvision.utils as vutils\n",
    "import numpy as np\n",
    "import matplotlib.pyplot as plt\n",
    "import matplotlib.animation as animation\n",
    "import seaborn as sns\n",
    "from IPython.display import HTML\n",
    "import pandas as pd\n",
    "import data_utils.data_utils_celeba_pytorch5 as data_utils\n",
    "import data_utils.network_tuning_valid as network_tuning\n",
    "from IPython.display import clear_output\n",
    "from skimage.io import imread\n",
    "from skimage.transform import resize\n",
    "from torch.utils.data import Dataset, DataLoader\n",
    "from torchvision import transforms, utils\n",
    "import pandas as pd\n",
    "import pickle\n",
    "# Load functions\n",
    "from torch.autograd import Variable\n",
    "import torch.nn as nn\n",
    "import torch.optim as optim\n",
    "from torch.nn import Linear, GRU, Conv2d, Dropout2d, MaxPool2d, BatchNorm2d\n",
    "from torch.nn.functional import relu, elu, relu6, sigmoid, tanh, softmax"
   ]
  },
  {
   "cell_type": "code",
   "execution_count": 2,
   "metadata": {},
   "outputs": [
    {
     "data": {
      "text/plain": [
       "'/Users/MartinJohnsen/Documents/Martin Johnsen/MMC/3. Semester/Deep Learning/Projects/Algorithmic fairness/AlgorithmicFairness'"
      ]
     },
     "execution_count": 2,
     "metadata": {},
     "output_type": "execute_result"
    }
   ],
   "source": [
    "pwd"
   ]
  },
  {
   "cell_type": "code",
   "execution_count": 3,
   "metadata": {},
   "outputs": [],
   "source": [
    "IMAGE_SHAPE = [73,60,3]\n",
    "# Root directory for dataset\n",
    "#dataroot = 'C:\\\\Users\\\\cfthe\\\\OneDrive\\\\DTU\\\\Kandidat\\\\Deep\\\\AlgorithmicFairness'\n",
    "# Paths to data\n",
    "VALID_PATH = \"Data/valid.csv\"  \n",
    "IMAGE_PATHS = \"/Users/MartinJohnsen/Documents/Martin Johnsen/MMC/3. Semester/Deep Learning/Projects/Algorithmic fairness/Data/celebA_resize3\"\n",
    "TARGET_COL = 'Smiling' #'Smiling'\n",
    "NUM_CLASSES = 2\n",
    "\n",
    "# valid data\n",
    "data_valid = data_utils.CelebADataset(VALID_PATH,IMAGE_PATHS,IMAGE_SHAPE,TARGET_COL)"
   ]
  },
  {
   "cell_type": "code",
   "execution_count": 4,
   "metadata": {
    "scrolled": true
   },
   "outputs": [],
   "source": [
    "attributes = pd.read_csv('Data/list_attr_celeba.txt', sep=\" \")\n",
    "attributes.drop('Unnamed: 41',axis=1, inplace=True)\n",
    "partition = pd.read_csv('Data/list_eval_partition.txt', sep=\" \", header=None, names=['im_id','partition'])\n",
    "matched = attributes.set_index('im_id').join(partition.set_index('im_id')).replace(-1,0)\n",
    "\n",
    "valid_df = matched[matched['partition']==1]"
   ]
  },
  {
   "cell_type": "code",
   "execution_count": 5,
   "metadata": {},
   "outputs": [
    {
     "name": "stdout",
     "output_type": "stream",
     "text": [
      "No GPU available.\n"
     ]
    }
   ],
   "source": [
    "use_cuda = torch.cuda.is_available()\n",
    "print(\"Running GPU.\") if use_cuda else print(\"No GPU available.\")\n",
    "\n",
    "\n",
    "def get_variable(x):\n",
    "    \"\"\" Converts tensors to cuda, if available. \"\"\"\n",
    "    if use_cuda:\n",
    "        return x.cuda()\n",
    "    return x\n",
    "\n",
    "\n",
    "def get_numpy(x):\n",
    "    \"\"\" Get numpy array for both cuda and not. \"\"\"\n",
    "    if use_cuda:\n",
    "        return x.cpu().data.numpy()\n",
    "    return x.data.numpy()"
   ]
  },
  {
   "cell_type": "code",
   "execution_count": 6,
   "metadata": {},
   "outputs": [],
   "source": [
    "criterion = nn.CrossEntropyLoss()          #<-- Your code here.   \n",
    "\n",
    "def accuracy(ys, ts):\n",
    "    predictions = torch.max(ys, 1)[1]\n",
    "    correct_prediction = torch.eq(predictions, ts)\n",
    "    return torch.mean(correct_prediction.float())"
   ]
  },
  {
   "cell_type": "code",
   "execution_count": 7,
   "metadata": {},
   "outputs": [],
   "source": [
    "# Function to get label\n",
    "def get_labels(batch):\n",
    "    return get_variable(Variable(batch['target']))\n",
    "\n",
    "# Function to get input\n",
    "def get_input(batch):\n",
    "    return {\n",
    "        'x_img': get_variable(Variable(batch['image']))\n",
    "    }"
   ]
  },
  {
   "cell_type": "markdown",
   "metadata": {},
   "source": [
    "### Insert df:"
   ]
  },
  {
   "cell_type": "code",
   "execution_count": 8,
   "metadata": {},
   "outputs": [],
   "source": [
    "df_pkl = 'run4_High_Cheekbones__df.pkl'"
   ]
  },
  {
   "cell_type": "code",
   "execution_count": 9,
   "metadata": {},
   "outputs": [],
   "source": [
    "# Read dataframe with training metrics\n",
    "df = pd.read_pickle('models/aws_models/'+df_pkl) #e.g. pd.read_pickle('df.pkl')"
   ]
  },
  {
   "cell_type": "code",
   "execution_count": 10,
   "metadata": {},
   "outputs": [
    {
     "data": {
      "text/html": [
       "<div>\n",
       "<style scoped>\n",
       "    .dataframe tbody tr th:only-of-type {\n",
       "        vertical-align: middle;\n",
       "    }\n",
       "\n",
       "    .dataframe tbody tr th {\n",
       "        vertical-align: top;\n",
       "    }\n",
       "\n",
       "    .dataframe thead th {\n",
       "        text-align: right;\n",
       "    }\n",
       "</style>\n",
       "<table border=\"1\" class=\"dataframe\">\n",
       "  <thead>\n",
       "    <tr style=\"text-align: right;\">\n",
       "      <th></th>\n",
       "      <th>layers</th>\n",
       "      <th>activations</th>\n",
       "      <th>conv_out_channels</th>\n",
       "      <th>kernel_size</th>\n",
       "      <th>conv_stride</th>\n",
       "      <th>maxpool</th>\n",
       "      <th>dropout</th>\n",
       "      <th>batchnorm</th>\n",
       "      <th>optimizer</th>\n",
       "      <th>learning_rate</th>\n",
       "      <th>weight_decay</th>\n",
       "      <th>batch_size</th>\n",
       "      <th>num_epochs</th>\n",
       "      <th>net</th>\n",
       "      <th>train_loss</th>\n",
       "      <th>train_accs</th>\n",
       "      <th>valid_train_loss</th>\n",
       "      <th>valid_train_accs</th>\n",
       "      <th>valid_loss</th>\n",
       "      <th>valid_accs</th>\n",
       "    </tr>\n",
       "  </thead>\n",
       "  <tbody>\n",
       "    <tr>\n",
       "      <th>2</th>\n",
       "      <td>2</td>\n",
       "      <td>[&lt;function relu at 0x123d97f28&gt;, &lt;function rel...</td>\n",
       "      <td>32</td>\n",
       "      <td>5</td>\n",
       "      <td>1</td>\n",
       "      <td>2</td>\n",
       "      <td>0.2</td>\n",
       "      <td>True</td>\n",
       "      <td>Adam</td>\n",
       "      <td>0.001</td>\n",
       "      <td>0.01</td>\n",
       "      <td>128</td>\n",
       "      <td>5</td>\n",
       "      <td>run4_High_Cheekbones__model2</td>\n",
       "      <td>[0.7827200293540955, 1.2428656816482544, 0.924...</td>\n",
       "      <td>[0.53125, 0.4375, 0.5546875, 0.515625, 0.63281...</td>\n",
       "      <td>[12.342262268066406, 0.31530147790908813, 0.24...</td>\n",
       "      <td>[0.4864851236343384, 0.8624855279922485, 0.893...</td>\n",
       "      <td>0.252845</td>\n",
       "      <td>0.903206</td>\n",
       "    </tr>\n",
       "  </tbody>\n",
       "</table>\n",
       "</div>"
      ],
      "text/plain": [
       "   layers                                        activations  \\\n",
       "2       2  [<function relu at 0x123d97f28>, <function rel...   \n",
       "\n",
       "   conv_out_channels  kernel_size  conv_stride  maxpool  dropout  batchnorm  \\\n",
       "2                 32            5            1        2      0.2       True   \n",
       "\n",
       "  optimizer  learning_rate  weight_decay  batch_size  num_epochs  \\\n",
       "2      Adam          0.001          0.01         128           5   \n",
       "\n",
       "                            net  \\\n",
       "2  run4_High_Cheekbones__model2   \n",
       "\n",
       "                                          train_loss  \\\n",
       "2  [0.7827200293540955, 1.2428656816482544, 0.924...   \n",
       "\n",
       "                                          train_accs  \\\n",
       "2  [0.53125, 0.4375, 0.5546875, 0.515625, 0.63281...   \n",
       "\n",
       "                                    valid_train_loss  \\\n",
       "2  [12.342262268066406, 0.31530147790908813, 0.24...   \n",
       "\n",
       "                                    valid_train_accs valid_loss valid_accs  \n",
       "2  [0.4864851236343384, 0.8624855279922485, 0.893...   0.252845   0.903206  "
      ]
     },
     "execution_count": 10,
     "metadata": {},
     "output_type": "execute_result"
    }
   ],
   "source": [
    "df"
   ]
  },
  {
   "cell_type": "code",
   "execution_count": 11,
   "metadata": {},
   "outputs": [],
   "source": [
    "#df = pd.DataFrame(df)"
   ]
  },
  {
   "cell_type": "code",
   "execution_count": 12,
   "metadata": {},
   "outputs": [],
   "source": [
    "#df = df.transpose()"
   ]
  },
  {
   "cell_type": "code",
   "execution_count": 13,
   "metadata": {},
   "outputs": [
    {
     "data": {
      "text/plain": [
       "[<function torch.nn.functional.relu(input, inplace=False)>,\n",
       " <function torch.nn.functional.relu(input, inplace=False)>,\n",
       " <function torch.nn.functional.relu(input, inplace=False)>,\n",
       " <function torch.nn.functional.relu(input, inplace=False)>]"
      ]
     },
     "execution_count": 13,
     "metadata": {},
     "output_type": "execute_result"
    }
   ],
   "source": [
    "df.loc[2,'activations']"
   ]
  },
  {
   "cell_type": "code",
   "execution_count": 14,
   "metadata": {},
   "outputs": [
    {
     "data": {
      "text/plain": [
       "0.8728877315918605"
      ]
     },
     "execution_count": 14,
     "metadata": {},
     "output_type": "execute_result"
    }
   ],
   "source": [
    "np.mean(df.loc[2,'train_accs'][-300:])"
   ]
  },
  {
   "cell_type": "code",
   "execution_count": 15,
   "metadata": {},
   "outputs": [
    {
     "data": {
      "image/png": "[encoded data removed]",
      "text/plain": [
       "<Figure size 1080x360 with 1 Axes>"
      ]
     },
     "metadata": {
      "needs_background": "light"
     },
     "output_type": "display_data"
    }
   ],
   "source": [
    "plt.figure(figsize=(15,5))\n",
    "plt.plot(df.loc[2,'train_accs'][0:300])\n",
    "ind = [300*i for i in range(0,22)]\n",
    "#plt.plot(ind,df.loc[3,'valid_train_accs'])"
   ]
  },
  {
   "cell_type": "code",
   "execution_count": null,
   "metadata": {},
   "outputs": [],
   "source": [
    "plt.figure(figsize=(15,5))\n",
    "plt.plot(df.loc[2,'train_accs'])\n",
    "ind = [300*i for i in range(0,22)]\n",
    "plt.plot(ind,df.loc[2,'valid_train_accs'])"
   ]
  },
  {
   "cell_type": "code",
   "execution_count": null,
   "metadata": {},
   "outputs": [],
   "source": []
  },
  {
   "cell_type": "code",
   "execution_count": 16,
   "metadata": {},
   "outputs": [],
   "source": [
    "# Change i to the model number you want to load\n",
    "i = 2\n",
    "IMAGE_SHAPE = [73,60,3]\n",
    "layers = df.loc[i,'layers']\n",
    "activations = df.loc[i,'activations']\n",
    "conv_out_channels = df.loc[i,'conv_out_channels']\n",
    "kernel_size = df.loc[i,'kernel_size']\n",
    "conv_stride = df.loc[i,'conv_stride']\n",
    "maxpool = int(df.loc[i,'maxpool'])\n",
    "dropout = df.loc[i,'dropout']\n",
    "batchnorm = df.loc[i,'batchnorm']\n",
    "optimizer = df.loc[i,'optimizer']\n",
    "learning_rate = df.loc[i,'learning_rate']\n",
    "weight_decay = df.loc[i,'weight_decay']\n",
    "batch_size = int(df.loc[i,'batch_size'])\n",
    "num_epochs = df.loc[i,'num_epochs']\n",
    "\n",
    "net = network_tuning.tune_architecture(layers, activations, IMAGE_SHAPE, conv_out_channels, kernel_size,conv_stride, maxpool, dropout, batchnorm)"
   ]
  },
  {
   "cell_type": "markdown",
   "metadata": {},
   "source": [
    "### Insert model"
   ]
  },
  {
   "cell_type": "code",
   "execution_count": 17,
   "metadata": {},
   "outputs": [],
   "source": [
    "model = 'run4_Mouth_Slightly_Open__model2.dms'"
   ]
  },
  {
   "cell_type": "code",
   "execution_count": 18,
   "metadata": {},
   "outputs": [
    {
     "data": {
      "text/plain": [
       "Net(\n",
       "  (conv_1): Conv2d(3, 32, kernel_size=(5, 5), stride=(1, 1))\n",
       "  (batch1): BatchNorm2d(32, eps=1e-05, momentum=0.1, affine=True, track_running_stats=True)\n",
       "  (conv_2): Conv2d(32, 64, kernel_size=(5, 5), stride=(1, 1))\n",
       "  (batch2): BatchNorm2d(64, eps=1e-05, momentum=0.1, affine=True, track_running_stats=True)\n",
       "  (pool): MaxPool2d(kernel_size=2, stride=2, padding=0, dilation=1, ceil_mode=False)\n",
       "  (dropout): Dropout2d(p=0.2, inplace=False)\n",
       "  (l_out): Linear(in_features=11520, out_features=2, bias=False)\n",
       ")"
      ]
     },
     "execution_count": 18,
     "metadata": {},
     "output_type": "execute_result"
    }
   ],
   "source": [
    "# Load network, choose the model i\n",
    "net.load_state_dict(torch.load('models/aws_models/'+model,map_location=torch.device('cpu'))) # e.g. net.load_state_dict(torch.load('model1'))\n",
    "net.eval()"
   ]
  },
  {
   "cell_type": "code",
   "execution_count": 19,
   "metadata": {},
   "outputs": [
    {
     "data": {
      "text/plain": [
       "<generator object Module.parameters at 0x1c2a756e58>"
      ]
     },
     "execution_count": 19,
     "metadata": {},
     "output_type": "execute_result"
    }
   ],
   "source": [
    "net.parameters()"
   ]
  },
  {
   "cell_type": "code",
   "execution_count": 21,
   "metadata": {},
   "outputs": [
    {
     "data": {
      "text/plain": [
       "76928"
      ]
     },
     "execution_count": 21,
     "metadata": {},
     "output_type": "execute_result"
    }
   ],
   "source": [
    "sum(p.numel() for p in net.parameters() if p.requires_grad)"
   ]
  },
  {
   "cell_type": "code",
   "execution_count": null,
   "metadata": {},
   "outputs": [],
   "source": []
  },
  {
   "cell_type": "code",
   "execution_count": null,
   "metadata": {},
   "outputs": [],
   "source": [
    "#dataframe for saving predictions\n",
    "valid_predictions = valid_df.astype(object)\n",
    "valid_predictions.loc[:,'target'] = valid_predictions.loc[:,'Smiling']\n",
    "valid_predictions.drop(['Smiling','partition'],axis=1)\n",
    "valid_predictions['output'] = np.nan\n",
    "valid_predictions['labels_argmax'] = np.nan\n",
    "valid_predictions['accuracy'] = np.nan\n",
    "valid_predictions['criterion'] = np.nan"
   ]
  },
  {
   "cell_type": "code",
   "execution_count": null,
   "metadata": {},
   "outputs": [],
   "source": [
    "#calculation predictions on the validation set\n",
    "batch_gen_valid = DataLoader(data_valid, batch_size, shuffle=True, num_workers=6)\n",
    "val_1_losses,val_1_accs,val_1_lengths,val_0_losses,val_0_accs,val_0_lengths = 0, 0, 0, 0, 0, 0\n",
    "valid_predictions = valid_predictions.astype(object)\n",
    "j=0\n",
    "with torch.no_grad():\n",
    "    for batch_valid in batch_gen_valid:\n",
    "        \n",
    "        output = net(**get_input(batch_valid))\n",
    "        labels_argmax = torch.max(get_labels(batch_valid), 1)[1]\n",
    "        if j == 2:\n",
    "            break\n",
    "        j+=1\n",
    "        for i in range(len(batch_valid['file'])):\n",
    "            plt.figure()\n",
    "            plt.imshow(np.transpose(vutils.make_grid(batch_valid['image'][i], padding=2,normalize=True).cpu(),(1,2,0)))\n",
    "            plt.axis('off')\n",
    "            plt.ioff()\n",
    "            plt.show()\n",
    "            print('True Label: ',labels_argmax[i]) \n",
    "            print('Model output: ', output['out'][i])\n",
    "            print('File name: ', batch_valid['file'][i])\n",
    "            valid_predictions.at[batch_valid['file'][i],'output'] = output['out'][i]\n",
    "            valid_predictions.at[batch_valid['file'][i],'labels_argmax'] = labels_argmax[i]\n",
    "            valid_predictions.at[batch_valid['file'][i],'accuracy'] = accuracy(output['out'][i:i+1],labels_argmax[i:i+1])\n",
    "            valid_predictions.at[batch_valid['file'][i],'criterion'] = criterion(output['out'][i:i+1],labels_argmax[i:i+1])"
   ]
  },
  {
   "cell_type": "code",
   "execution_count": null,
   "metadata": {},
   "outputs": [],
   "source": [
    "# Should be equalt to validation accuracy in df\n",
    "np.mean(valid_predictions['accuracy'])"
   ]
  },
  {
   "cell_type": "code",
   "execution_count": null,
   "metadata": {},
   "outputs": [],
   "source": [
    "#calculating accuracies for all protected attributes\n",
    "attributes = matched.iloc[:,0:-1].drop('Smiling',axis=1).columns\n",
    "df_att = pd.DataFrame(index = attributes, columns=['val_1_loss','val_1_acc','val_0_loss','val_0_acc','val_1_FP','val_1_TP','val_0_FP','val_0_TP','val_1_FN','val_0_FN'])\n",
    "batch_gen_valid = DataLoader(data_valid, batch_size, shuffle=True, num_workers=6)\n",
    "for att in range(0,len(attributes)):\n",
    "    print(attributes[att])\n",
    "    \n",
    "    att_ = valid_predictions.iloc[:][attributes[att]]\n",
    "    t_ = valid_predictions.iloc[:]['target']\n",
    "    \n",
    "    att_1 = np.where(att_==1)\n",
    "    att_0 = np.where(att_==0)\n",
    "    \n",
    "    att_1_t_1 = np.where((att_==1) & (t_==1))\n",
    "    att_0_t_1 = np.where((att_==0) & (t_==1))\n",
    "    att_1_t_0 = np.where((att_==1) & (t_==0))\n",
    "    att_0_t_0 = np.where((att_==0) & (t_==0))\n",
    "    \n",
    "    df_att.iloc[att]['val_1_loss'] = np.mean(valid_predictions.iloc[att_1]['criterion'])\n",
    "    df_att.iloc[att]['val_1_acc'] = np.mean(valid_predictions.iloc[att_1]['accuracy'])\n",
    "    df_att.iloc[att]['val_0_loss'] = np.mean(valid_predictions.iloc[att_0]['criterion'])\n",
    "    df_att.iloc[att]['val_0_acc'] = np.mean(valid_predictions.iloc[att_0]['accuracy'])\n",
    "    df_att.iloc[att]['val_1_FP'] = 1-np.mean(valid_predictions.iloc[att_1_t_0]['accuracy'])\n",
    "    df_att.iloc[att]['val_0_FP'] = 1-np.mean(valid_predictions.iloc[att_0_t_0]['accuracy'])\n",
    "    df_att.iloc[att]['val_1_TP'] = np.mean(valid_predictions.iloc[att_1_t_1]['accuracy'])\n",
    "    df_att.iloc[att]['val_0_TP'] = np.mean(valid_predictions.iloc[att_0_t_1]['accuracy'])\n",
    "    df_att.iloc[att]['val_1_FN'] = 1-np.mean(valid_predictions.iloc[att_1_t_1]['accuracy'])\n",
    "    df_att.iloc[att]['val_0_FN'] = 1-np.mean(valid_predictions.iloc[att_0_t_1]['accuracy'])"
   ]
  },
  {
   "cell_type": "code",
   "execution_count": null,
   "metadata": {},
   "outputs": [],
   "source": [
    "df_att['TP_OR'] = df_att['val_1_TP'] /df_att['val_0_TP'] \n",
    "df_att['FP_OR'] = df_att['val_1_FP'] /df_att['val_0_FP']\n",
    "df_att['acc_ratio'] = df_att['val_1_acc'] /df_att['val_0_acc']\n",
    "df_att['FN_OR'] = df_att['val_1_FN'] /df_att['val_0_FN'] \n",
    "df_att['TP_OR'] = pd.to_numeric(df_att['TP_OR'])\n",
    "df_att['FP_OR'] = pd.to_numeric(df_att['FP_OR'])\n",
    "df_att['acc_ratio'] = pd.to_numeric(df_att['acc_ratio'])\n",
    "df_att['FN_OR'] = pd.to_numeric(df_att['FN_OR'])\n"
   ]
  },
  {
   "cell_type": "code",
   "execution_count": null,
   "metadata": {},
   "outputs": [],
   "source": [
    "df_att = df_att.sort_values('acc_ratio')"
   ]
  },
  {
   "cell_type": "code",
   "execution_count": null,
   "metadata": {},
   "outputs": [],
   "source": [
    "df_att"
   ]
  },
  {
   "cell_type": "code",
   "execution_count": null,
   "metadata": {},
   "outputs": [],
   "source": [
    "df_att2 = df_att.loc[['Rosy_Cheeks','Gray_Hair','Mustache','Sideburns','Arched_Eyebrows','Attractive','Bags_Under_Eyes','Bald','Bangs','Big_Lips','Big_Nose','Chubby','Double_Chin','Heavy_Makeup','Eyeglasses','Goatee','High_Cheekbones','Pale_Skin','Male','Mouth_Slightly_Open','Young']].sort_values('acc_ratio')"
   ]
  },
  {
   "cell_type": "code",
   "execution_count": null,
   "metadata": {},
   "outputs": [],
   "source": [
    "df_att2[['acc_ratio','FN_OR','FP_OR']]"
   ]
  },
  {
   "cell_type": "code",
   "execution_count": null,
   "metadata": {},
   "outputs": [],
   "source": [
    "plt.figure(figsize = (10,10))\n",
    "cmap=sns.color_palette(\"RdBu\",70)\n",
    "heatmap_kwargs = dict(vmin=0, vmax=4, cmap=cmap,annot=True, linewidths=.5, fmt='.4g')\n",
    "ax = sns.heatmap(df_att2[['acc_ratio','FN_OR','FP_OR']], center=1.0, **heatmap_kwargs)\n",
    "ax.set_xticklabels(['Accuracy ratio','False negative Odds Ratio','False Positive Odds Ratio'])\n",
    "ax.set_yticklabels(list(df_att2.index))\n",
    "bottom, top = ax.get_ylim()\n",
    "ax.set_ylim(bottom + 0.5, top - 0.5)\n",
    "ax.xaxis.set_ticks_position('top')\n",
    "plt.tight_layout()\n",
    "plt.savefig(model+'.png',dpi=500)"
   ]
  },
  {
   "cell_type": "code",
   "execution_count": null,
   "metadata": {},
   "outputs": [],
   "source": [
    "#funtion to show image along with output and tru target\n",
    "def show_batch(sample_batched, bias_idx):\n",
    "    \"\"\"Show image with landmarks for a batch of samples.\"\"\"\n",
    "    images_batch, target_batch, bias = \\\n",
    "            sample_batched['image'], sample_batched['target'], sample_batched['attributes'][:,bias_idx]\n",
    "    \n",
    "    batch_size = len(images_batch)\n",
    "    pred_label = torch.max(get_labels(sample_batched), 1)[1]\n",
    "    \n",
    "    for i in range(batch_size):\n",
    "\n",
    "        #grid = utils.make_grid(images_batch)\n",
    "        plt.figure()\n",
    "        plt.imshow(np.transpose(vutils.make_grid(images_batch[i], padding=2,normalize=True).cpu(),(1,2,0)))\n",
    "        plt.axis('off')\n",
    "        plt.ioff()\n",
    "        plt.show()\n",
    "        print(target_batch[i])\n",
    "        #print(bias[i])\n",
    "        print('Output of NN: ',output['out'][i])\n",
    "        print('Predicted label: ', pred_label[i])"
   ]
  },
  {
   "cell_type": "code",
   "execution_count": null,
   "metadata": {},
   "outputs": [],
   "source": [
    "batch_valid"
   ]
  },
  {
   "cell_type": "code",
   "execution_count": null,
   "metadata": {},
   "outputs": [],
   "source": [
    "plt.figure()\n",
    "show_batch(batch_valid,21)\n",
    "plt.axis('off')\n",
    "plt.ioff()\n",
    "plt.show()"
   ]
  },
  {
   "cell_type": "code",
   "execution_count": null,
   "metadata": {},
   "outputs": [],
   "source": [
    "IMAGE_SHAPE = [73,60,3]\n",
    "# Root directory for dataset\n",
    "dataroot = 'C:\\\\Users\\\\cfthe\\\\OneDrive\\\\DTU\\\\Kandidat\\\\Deep\\\\AlgorithmicFairness'\n",
    "# Paths to data\n",
    "VALID_PATH = dataroot + \"\\\\images_resize\\\\valid.csv\"  \n",
    "IMAGE_PATHS = \"C:\\\\Users\\\\cfthe\\\\OneDrive\\\\DTU\\\\Kandidat\\\\Deep\\\\AlgorithmicFairness\\\\images_resize\"\n",
    "TARGET_COL = 'Smiling' #'Smiling'\n",
    "NUM_CLASSES = 2\n",
    "\n",
    "# valid data\n",
    "data_valid = data_utils.CelebADataset(VALID_PATH,IMAGE_PATHS,IMAGE_SHAPE,TARGET_COL)"
   ]
  },
  {
   "cell_type": "code",
   "execution_count": null,
   "metadata": {},
   "outputs": [],
   "source": [
    "batch_gen_valid = DataLoader(data_valid, batch_size, shuffle=True, num_workers=6)\n",
    "with torch.no_grad():\n",
    "    for batch_valid in batch_gen_valid:\n",
    "        output = net(**get_input(batch_valid))\n",
    "        labels_argmax = torch.max(get_labels(batch_valid), 1)[1]\n",
    "        ac = accuracy(output['out'],labels_argmax)\n",
    "        print(ac)"
   ]
  },
  {
   "cell_type": "code",
   "execution_count": null,
   "metadata": {},
   "outputs": [],
   "source": [
    "output"
   ]
  },
  {
   "cell_type": "code",
   "execution_count": null,
   "metadata": {},
   "outputs": [],
   "source": [
    "batch_valid"
   ]
  },
  {
   "cell_type": "code",
   "execution_count": null,
   "metadata": {},
   "outputs": [],
   "source": []
  }
 ],
 "metadata": {
  "kernelspec": {
   "display_name": "Python 3",
   "language": "python",
   "name": "python3"
  },
  "language_info": {
   "codemirror_mode": {
    "name": "ipython",
    "version": 3
   },
   "file_extension": ".py",
   "mimetype": "text/x-python",
   "name": "python",
   "nbconvert_exporter": "python",
   "pygments_lexer": "ipython3",
   "version": "3.7.3"
  }
 },
 "nbformat": 4,
 "nbformat_minor": 2
}
